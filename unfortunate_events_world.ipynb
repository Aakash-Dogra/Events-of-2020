{
 "cells": [
  {
   "cell_type": "code",
   "execution_count": 2,
   "metadata": {},
   "outputs": [],
   "source": [
    "import pandas as pd\n",
    "import numpy as np\n",
    "import re"
   ]
  },
  {
   "cell_type": "code",
   "execution_count": 3,
   "metadata": {},
   "outputs": [],
   "source": [
    "df=pd.ExcelFile(\"2020 Timeline of Major Events.xlsx\")"
   ]
  },
  {
   "cell_type": "code",
   "execution_count": 335,
   "metadata": {},
   "outputs": [],
   "source": [
    "df1=pd.read_excel(df,'Events')\n",
    "df2=pd.read_excel(df,'Periods')"
   ]
  },
  {
   "cell_type": "code",
   "execution_count": 5,
   "metadata": {},
   "outputs": [],
   "source": [
    "del df1['Group ID']"
   ]
  },
  {
   "cell_type": "code",
   "execution_count": 6,
   "metadata": {},
   "outputs": [
    {
     "data": {
      "text/plain": [
       "Name           object\n",
       "Description    object\n",
       "Time           object\n",
       "dtype: object"
      ]
     },
     "execution_count": 6,
     "metadata": {},
     "output_type": "execute_result"
    }
   ],
   "source": [
    "df1.dtypes"
   ]
  },
  {
   "cell_type": "code",
   "execution_count": 7,
   "metadata": {},
   "outputs": [
    {
     "data": {
      "text/html": [
       "<div>\n",
       "<style scoped>\n",
       "    .dataframe tbody tr th:only-of-type {\n",
       "        vertical-align: middle;\n",
       "    }\n",
       "\n",
       "    .dataframe tbody tr th {\n",
       "        vertical-align: top;\n",
       "    }\n",
       "\n",
       "    .dataframe thead th {\n",
       "        text-align: right;\n",
       "    }\n",
       "</style>\n",
       "<table border=\"1\" class=\"dataframe\">\n",
       "  <thead>\n",
       "    <tr style=\"text-align: right;\">\n",
       "      <th></th>\n",
       "      <th>Name</th>\n",
       "      <th>Description</th>\n",
       "      <th>Time</th>\n",
       "    </tr>\n",
       "  </thead>\n",
       "  <tbody>\n",
       "    <tr>\n",
       "      <th>0</th>\n",
       "      <td>COVID-19 Initial Outbreak</td>\n",
       "      <td>The first case of someone suffering from COVID...</td>\n",
       "      <td>2019 11 17</td>\n",
       "    </tr>\n",
       "    <tr>\n",
       "      <th>1</th>\n",
       "      <td>China first alerts the WHO of a virus in Wuhan</td>\n",
       "      <td>Chinese authorities alerted the World Health O...</td>\n",
       "      <td>2019 12 31</td>\n",
       "    </tr>\n",
       "    <tr>\n",
       "      <th>2</th>\n",
       "      <td>Pope apologises for\\nslapping woman's hand</td>\n",
       "      <td>Pope Francis has apologized for slapping a wom...</td>\n",
       "      <td>2020 1 1</td>\n",
       "    </tr>\n",
       "    <tr>\n",
       "      <th>3</th>\n",
       "      <td>Iranian major general Qasem \\nSoleimani assass...</td>\n",
       "      <td>On 3 January 2020, a United States drone strik...</td>\n",
       "      <td>2020 1 3</td>\n",
       "    </tr>\n",
       "    <tr>\n",
       "      <th>4</th>\n",
       "      <td>5.6M Earthquake in Puerto Rico</td>\n",
       "      <td>On January 6, a magnitude 5.8 earthquake struc...</td>\n",
       "      <td>2020 1 6</td>\n",
       "    </tr>\n",
       "  </tbody>\n",
       "</table>\n",
       "</div>"
      ],
      "text/plain": [
       "                                                Name  \\\n",
       "0                          COVID-19 Initial Outbreak   \n",
       "1     China first alerts the WHO of a virus in Wuhan   \n",
       "2         Pope apologises for\\nslapping woman's hand   \n",
       "3  Iranian major general Qasem \\nSoleimani assass...   \n",
       "4                     5.6M Earthquake in Puerto Rico   \n",
       "\n",
       "                                         Description        Time  \n",
       "0  The first case of someone suffering from COVID...  2019 11 17  \n",
       "1  Chinese authorities alerted the World Health O...  2019 12 31  \n",
       "2  Pope Francis has apologized for slapping a wom...    2020 1 1  \n",
       "3  On 3 January 2020, a United States drone strik...    2020 1 3  \n",
       "4  On January 6, a magnitude 5.8 earthquake struc...    2020 1 6  "
      ]
     },
     "execution_count": 7,
     "metadata": {},
     "output_type": "execute_result"
    }
   ],
   "source": [
    "df1['Name']= df1['Name'].astype('str')\n",
    "df1.head()"
   ]
  },
  {
   "cell_type": "code",
   "execution_count": 611,
   "metadata": {},
   "outputs": [],
   "source": [
    "df1['Time']=df1['Time'].astype('str')"
   ]
  },
  {
   "cell_type": "code",
   "execution_count": 8,
   "metadata": {
    "scrolled": true
   },
   "outputs": [
    {
     "data": {
      "text/html": [
       "<div>\n",
       "<style scoped>\n",
       "    .dataframe tbody tr th:only-of-type {\n",
       "        vertical-align: middle;\n",
       "    }\n",
       "\n",
       "    .dataframe tbody tr th {\n",
       "        vertical-align: top;\n",
       "    }\n",
       "\n",
       "    .dataframe thead th {\n",
       "        text-align: right;\n",
       "    }\n",
       "</style>\n",
       "<table border=\"1\" class=\"dataframe\">\n",
       "  <thead>\n",
       "    <tr style=\"text-align: right;\">\n",
       "      <th></th>\n",
       "      <th>Name</th>\n",
       "      <th>Description</th>\n",
       "      <th>Time</th>\n",
       "      <th>Year</th>\n",
       "      <th>Month</th>\n",
       "      <th>Date</th>\n",
       "      <th>H</th>\n",
       "      <th>S</th>\n",
       "    </tr>\n",
       "  </thead>\n",
       "  <tbody>\n",
       "    <tr>\n",
       "      <th>0</th>\n",
       "      <td>COVID-19 Initial Outbreak</td>\n",
       "      <td>The first case of someone suffering from COVID...</td>\n",
       "      <td>2019 11 17</td>\n",
       "      <td>2019</td>\n",
       "      <td>11</td>\n",
       "      <td>17</td>\n",
       "      <td>None</td>\n",
       "      <td>None</td>\n",
       "    </tr>\n",
       "    <tr>\n",
       "      <th>1</th>\n",
       "      <td>China first alerts the WHO of a virus in Wuhan</td>\n",
       "      <td>Chinese authorities alerted the World Health O...</td>\n",
       "      <td>2019 12 31</td>\n",
       "      <td>2019</td>\n",
       "      <td>12</td>\n",
       "      <td>31</td>\n",
       "      <td>None</td>\n",
       "      <td>None</td>\n",
       "    </tr>\n",
       "    <tr>\n",
       "      <th>2</th>\n",
       "      <td>Pope apologises for\\nslapping woman's hand</td>\n",
       "      <td>Pope Francis has apologized for slapping a wom...</td>\n",
       "      <td>2020 1 1</td>\n",
       "      <td>2020</td>\n",
       "      <td>1</td>\n",
       "      <td>1</td>\n",
       "      <td>None</td>\n",
       "      <td>None</td>\n",
       "    </tr>\n",
       "    <tr>\n",
       "      <th>3</th>\n",
       "      <td>Iranian major general Qasem \\nSoleimani assass...</td>\n",
       "      <td>On 3 January 2020, a United States drone strik...</td>\n",
       "      <td>2020 1 3</td>\n",
       "      <td>2020</td>\n",
       "      <td>1</td>\n",
       "      <td>3</td>\n",
       "      <td>None</td>\n",
       "      <td>None</td>\n",
       "    </tr>\n",
       "    <tr>\n",
       "      <th>4</th>\n",
       "      <td>5.6M Earthquake in Puerto Rico</td>\n",
       "      <td>On January 6, a magnitude 5.8 earthquake struc...</td>\n",
       "      <td>2020 1 6</td>\n",
       "      <td>2020</td>\n",
       "      <td>1</td>\n",
       "      <td>6</td>\n",
       "      <td>None</td>\n",
       "      <td>None</td>\n",
       "    </tr>\n",
       "  </tbody>\n",
       "</table>\n",
       "</div>"
      ],
      "text/plain": [
       "                                                Name  \\\n",
       "0                          COVID-19 Initial Outbreak   \n",
       "1     China first alerts the WHO of a virus in Wuhan   \n",
       "2         Pope apologises for\\nslapping woman's hand   \n",
       "3  Iranian major general Qasem \\nSoleimani assass...   \n",
       "4                     5.6M Earthquake in Puerto Rico   \n",
       "\n",
       "                                         Description        Time  Year Month  \\\n",
       "0  The first case of someone suffering from COVID...  2019 11 17  2019    11   \n",
       "1  Chinese authorities alerted the World Health O...  2019 12 31  2019    12   \n",
       "2  Pope Francis has apologized for slapping a wom...    2020 1 1  2020     1   \n",
       "3  On 3 January 2020, a United States drone strik...    2020 1 3  2020     1   \n",
       "4  On January 6, a magnitude 5.8 earthquake struc...    2020 1 6  2020     1   \n",
       "\n",
       "  Date     H     S  \n",
       "0   17  None  None  \n",
       "1   31  None  None  \n",
       "2    1  None  None  \n",
       "3    3  None  None  \n",
       "4    6  None  None  "
      ]
     },
     "execution_count": 8,
     "metadata": {},
     "output_type": "execute_result"
    }
   ],
   "source": [
    "df1[['Year','Month','Date','H','S']]=df1.Time.str.split(expand=True)\n",
    "df1.head()"
   ]
  },
  {
   "cell_type": "code",
   "execution_count": 9,
   "metadata": {},
   "outputs": [
    {
     "data": {
      "text/html": [
       "<div>\n",
       "<style scoped>\n",
       "    .dataframe tbody tr th:only-of-type {\n",
       "        vertical-align: middle;\n",
       "    }\n",
       "\n",
       "    .dataframe tbody tr th {\n",
       "        vertical-align: top;\n",
       "    }\n",
       "\n",
       "    .dataframe thead th {\n",
       "        text-align: right;\n",
       "    }\n",
       "</style>\n",
       "<table border=\"1\" class=\"dataframe\">\n",
       "  <thead>\n",
       "    <tr style=\"text-align: right;\">\n",
       "      <th></th>\n",
       "      <th>Name</th>\n",
       "      <th>Description</th>\n",
       "      <th>Time</th>\n",
       "      <th>Year</th>\n",
       "      <th>Month</th>\n",
       "      <th>Date</th>\n",
       "      <th>H</th>\n",
       "      <th>S</th>\n",
       "    </tr>\n",
       "  </thead>\n",
       "  <tbody>\n",
       "    <tr>\n",
       "      <th>0</th>\n",
       "      <td>COVID-19 Initial Outbreak</td>\n",
       "      <td>The first case of someone suffering from COVID...</td>\n",
       "      <td>2019 11 17</td>\n",
       "      <td>2019</td>\n",
       "      <td>11</td>\n",
       "      <td>17</td>\n",
       "      <td>None</td>\n",
       "      <td>None</td>\n",
       "    </tr>\n",
       "    <tr>\n",
       "      <th>1</th>\n",
       "      <td>China first alerts the WHO of a virus in Wuhan</td>\n",
       "      <td>Chinese authorities alerted the World Health O...</td>\n",
       "      <td>2019 12 31</td>\n",
       "      <td>2019</td>\n",
       "      <td>12</td>\n",
       "      <td>31</td>\n",
       "      <td>None</td>\n",
       "      <td>None</td>\n",
       "    </tr>\n",
       "    <tr>\n",
       "      <th>2</th>\n",
       "      <td>Pope apologises for\\nslapping woman's hand</td>\n",
       "      <td>Pope Francis has apologized for slapping a wom...</td>\n",
       "      <td>2020 1 1</td>\n",
       "      <td>2020</td>\n",
       "      <td>1</td>\n",
       "      <td>1</td>\n",
       "      <td>None</td>\n",
       "      <td>None</td>\n",
       "    </tr>\n",
       "    <tr>\n",
       "      <th>3</th>\n",
       "      <td>Iranian major general Qasem \\nSoleimani assass...</td>\n",
       "      <td>On 3 January 2020, a United States drone strik...</td>\n",
       "      <td>2020 1 3</td>\n",
       "      <td>2020</td>\n",
       "      <td>1</td>\n",
       "      <td>3</td>\n",
       "      <td>None</td>\n",
       "      <td>None</td>\n",
       "    </tr>\n",
       "    <tr>\n",
       "      <th>4</th>\n",
       "      <td>5.6M Earthquake in Puerto Rico</td>\n",
       "      <td>On January 6, a magnitude 5.8 earthquake struc...</td>\n",
       "      <td>2020 1 6</td>\n",
       "      <td>2020</td>\n",
       "      <td>1</td>\n",
       "      <td>6</td>\n",
       "      <td>None</td>\n",
       "      <td>None</td>\n",
       "    </tr>\n",
       "  </tbody>\n",
       "</table>\n",
       "</div>"
      ],
      "text/plain": [
       "                                                Name  \\\n",
       "0                          COVID-19 Initial Outbreak   \n",
       "1     China first alerts the WHO of a virus in Wuhan   \n",
       "2         Pope apologises for\\nslapping woman's hand   \n",
       "3  Iranian major general Qasem \\nSoleimani assass...   \n",
       "4                     5.6M Earthquake in Puerto Rico   \n",
       "\n",
       "                                         Description        Time  Year Month  \\\n",
       "0  The first case of someone suffering from COVID...  2019 11 17  2019    11   \n",
       "1  Chinese authorities alerted the World Health O...  2019 12 31  2019    12   \n",
       "2  Pope Francis has apologized for slapping a wom...    2020 1 1  2020     1   \n",
       "3  On 3 January 2020, a United States drone strik...    2020 1 3  2020     1   \n",
       "4  On January 6, a magnitude 5.8 earthquake struc...    2020 1 6  2020     1   \n",
       "\n",
       "  Date     H     S  \n",
       "0   17  None  None  \n",
       "1   31  None  None  \n",
       "2    1  None  None  \n",
       "3    3  None  None  \n",
       "4    6  None  None  "
      ]
     },
     "execution_count": 9,
     "metadata": {},
     "output_type": "execute_result"
    }
   ],
   "source": [
    "# del df1['Time']\n",
    "df1.head()"
   ]
  },
  {
   "cell_type": "code",
   "execution_count": 11,
   "metadata": {},
   "outputs": [],
   "source": [
    "df1['Date'] = df1[df1.columns[3:6]].apply(\n",
    "    lambda x: '-'.join(x.dropna().astype(str)),\n",
    "    axis=1)"
   ]
  },
  {
   "cell_type": "code",
   "execution_count": 12,
   "metadata": {},
   "outputs": [
    {
     "data": {
      "text/html": [
       "<div>\n",
       "<style scoped>\n",
       "    .dataframe tbody tr th:only-of-type {\n",
       "        vertical-align: middle;\n",
       "    }\n",
       "\n",
       "    .dataframe tbody tr th {\n",
       "        vertical-align: top;\n",
       "    }\n",
       "\n",
       "    .dataframe thead th {\n",
       "        text-align: right;\n",
       "    }\n",
       "</style>\n",
       "<table border=\"1\" class=\"dataframe\">\n",
       "  <thead>\n",
       "    <tr style=\"text-align: right;\">\n",
       "      <th></th>\n",
       "      <th>Name</th>\n",
       "      <th>Description</th>\n",
       "      <th>Time</th>\n",
       "      <th>Year</th>\n",
       "      <th>Month</th>\n",
       "      <th>Date</th>\n",
       "      <th>H</th>\n",
       "      <th>S</th>\n",
       "    </tr>\n",
       "  </thead>\n",
       "  <tbody>\n",
       "    <tr>\n",
       "      <th>0</th>\n",
       "      <td>COVID-19 Initial Outbreak</td>\n",
       "      <td>The first case of someone suffering from COVID...</td>\n",
       "      <td>2019 11 17</td>\n",
       "      <td>2019</td>\n",
       "      <td>11</td>\n",
       "      <td>2019-11-17</td>\n",
       "      <td>None</td>\n",
       "      <td>None</td>\n",
       "    </tr>\n",
       "    <tr>\n",
       "      <th>1</th>\n",
       "      <td>China first alerts the WHO of a virus in Wuhan</td>\n",
       "      <td>Chinese authorities alerted the World Health O...</td>\n",
       "      <td>2019 12 31</td>\n",
       "      <td>2019</td>\n",
       "      <td>12</td>\n",
       "      <td>2019-12-31</td>\n",
       "      <td>None</td>\n",
       "      <td>None</td>\n",
       "    </tr>\n",
       "    <tr>\n",
       "      <th>2</th>\n",
       "      <td>Pope apologises for\\nslapping woman's hand</td>\n",
       "      <td>Pope Francis has apologized for slapping a wom...</td>\n",
       "      <td>2020 1 1</td>\n",
       "      <td>2020</td>\n",
       "      <td>1</td>\n",
       "      <td>2020-1-1</td>\n",
       "      <td>None</td>\n",
       "      <td>None</td>\n",
       "    </tr>\n",
       "    <tr>\n",
       "      <th>3</th>\n",
       "      <td>Iranian major general Qasem \\nSoleimani assass...</td>\n",
       "      <td>On 3 January 2020, a United States drone strik...</td>\n",
       "      <td>2020 1 3</td>\n",
       "      <td>2020</td>\n",
       "      <td>1</td>\n",
       "      <td>2020-1-3</td>\n",
       "      <td>None</td>\n",
       "      <td>None</td>\n",
       "    </tr>\n",
       "    <tr>\n",
       "      <th>4</th>\n",
       "      <td>5.6M Earthquake in Puerto Rico</td>\n",
       "      <td>On January 6, a magnitude 5.8 earthquake struc...</td>\n",
       "      <td>2020 1 6</td>\n",
       "      <td>2020</td>\n",
       "      <td>1</td>\n",
       "      <td>2020-1-6</td>\n",
       "      <td>None</td>\n",
       "      <td>None</td>\n",
       "    </tr>\n",
       "  </tbody>\n",
       "</table>\n",
       "</div>"
      ],
      "text/plain": [
       "                                                Name  \\\n",
       "0                          COVID-19 Initial Outbreak   \n",
       "1     China first alerts the WHO of a virus in Wuhan   \n",
       "2         Pope apologises for\\nslapping woman's hand   \n",
       "3  Iranian major general Qasem \\nSoleimani assass...   \n",
       "4                     5.6M Earthquake in Puerto Rico   \n",
       "\n",
       "                                         Description        Time  Year Month  \\\n",
       "0  The first case of someone suffering from COVID...  2019 11 17  2019    11   \n",
       "1  Chinese authorities alerted the World Health O...  2019 12 31  2019    12   \n",
       "2  Pope Francis has apologized for slapping a wom...    2020 1 1  2020     1   \n",
       "3  On 3 January 2020, a United States drone strik...    2020 1 3  2020     1   \n",
       "4  On January 6, a magnitude 5.8 earthquake struc...    2020 1 6  2020     1   \n",
       "\n",
       "         Date     H     S  \n",
       "0  2019-11-17  None  None  \n",
       "1  2019-12-31  None  None  \n",
       "2    2020-1-1  None  None  \n",
       "3    2020-1-3  None  None  \n",
       "4    2020-1-6  None  None  "
      ]
     },
     "execution_count": 12,
     "metadata": {},
     "output_type": "execute_result"
    }
   ],
   "source": [
    "df1.head()"
   ]
  },
  {
   "cell_type": "code",
   "execution_count": 13,
   "metadata": {},
   "outputs": [],
   "source": [
    "del df1['Year']\n",
    "del df1['Time']\n",
    "del df1['H']\n",
    "del df1['S']"
   ]
  },
  {
   "cell_type": "code",
   "execution_count": 14,
   "metadata": {},
   "outputs": [
    {
     "data": {
      "text/plain": [
       "0    2019-11-17\n",
       "1    2019-12-31\n",
       "2      2020-1-1\n",
       "3      2020-1-3\n",
       "4      2020-1-6\n",
       "Name: Date, dtype: object"
      ]
     },
     "execution_count": 14,
     "metadata": {},
     "output_type": "execute_result"
    }
   ],
   "source": [
    "df1['Date'].head()\n",
    "# df1['Time']=df1['Time'].replace(' ','-')"
   ]
  },
  {
   "cell_type": "code",
   "execution_count": 15,
   "metadata": {},
   "outputs": [],
   "source": [
    "listdate= df1['Date'].tolist()"
   ]
  },
  {
   "cell_type": "code",
   "execution_count": 16,
   "metadata": {},
   "outputs": [
    {
     "data": {
      "text/plain": [
       "['2019-11-17', '2019-12-31', '2020-1-1', '2020-1-3', '2020-1-6']"
      ]
     },
     "execution_count": 16,
     "metadata": {},
     "output_type": "execute_result"
    }
   ],
   "source": [
    "listdate[:5]"
   ]
  },
  {
   "cell_type": "code",
   "execution_count": 17,
   "metadata": {},
   "outputs": [],
   "source": [
    "df1['Name']=df1['Name'].replace('\\n',' ', regex=True)"
   ]
  },
  {
   "cell_type": "code",
   "execution_count": 18,
   "metadata": {},
   "outputs": [],
   "source": [
    "df1['Description'] = df1['Description'].replace('\\n','', regex=True)"
   ]
  },
  {
   "cell_type": "code",
   "execution_count": 19,
   "metadata": {},
   "outputs": [
    {
     "data": {
      "text/html": [
       "<div>\n",
       "<style scoped>\n",
       "    .dataframe tbody tr th:only-of-type {\n",
       "        vertical-align: middle;\n",
       "    }\n",
       "\n",
       "    .dataframe tbody tr th {\n",
       "        vertical-align: top;\n",
       "    }\n",
       "\n",
       "    .dataframe thead th {\n",
       "        text-align: right;\n",
       "    }\n",
       "</style>\n",
       "<table border=\"1\" class=\"dataframe\">\n",
       "  <thead>\n",
       "    <tr style=\"text-align: right;\">\n",
       "      <th></th>\n",
       "      <th>Name</th>\n",
       "      <th>Description</th>\n",
       "      <th>Month</th>\n",
       "      <th>Date</th>\n",
       "    </tr>\n",
       "  </thead>\n",
       "  <tbody>\n",
       "    <tr>\n",
       "      <th>0</th>\n",
       "      <td>COVID-19 Initial Outbreak</td>\n",
       "      <td>The first case of someone suffering from COVID...</td>\n",
       "      <td>11</td>\n",
       "      <td>2019-11-17</td>\n",
       "    </tr>\n",
       "    <tr>\n",
       "      <th>1</th>\n",
       "      <td>China first alerts the WHO of a virus in Wuhan</td>\n",
       "      <td>Chinese authorities alerted the World Health O...</td>\n",
       "      <td>12</td>\n",
       "      <td>2019-12-31</td>\n",
       "    </tr>\n",
       "    <tr>\n",
       "      <th>2</th>\n",
       "      <td>Pope apologises for slapping woman's hand</td>\n",
       "      <td>Pope Francis has apologized for slapping a wom...</td>\n",
       "      <td>1</td>\n",
       "      <td>2020-1-1</td>\n",
       "    </tr>\n",
       "    <tr>\n",
       "      <th>3</th>\n",
       "      <td>Iranian major general Qasem  Soleimani assassi...</td>\n",
       "      <td>On 3 January 2020, a United States drone strik...</td>\n",
       "      <td>1</td>\n",
       "      <td>2020-1-3</td>\n",
       "    </tr>\n",
       "    <tr>\n",
       "      <th>4</th>\n",
       "      <td>5.6M Earthquake in Puerto Rico</td>\n",
       "      <td>On January 6, a magnitude 5.8 earthquake struc...</td>\n",
       "      <td>1</td>\n",
       "      <td>2020-1-6</td>\n",
       "    </tr>\n",
       "  </tbody>\n",
       "</table>\n",
       "</div>"
      ],
      "text/plain": [
       "                                                Name  \\\n",
       "0                          COVID-19 Initial Outbreak   \n",
       "1     China first alerts the WHO of a virus in Wuhan   \n",
       "2          Pope apologises for slapping woman's hand   \n",
       "3  Iranian major general Qasem  Soleimani assassi...   \n",
       "4                     5.6M Earthquake in Puerto Rico   \n",
       "\n",
       "                                         Description Month        Date  \n",
       "0  The first case of someone suffering from COVID...    11  2019-11-17  \n",
       "1  Chinese authorities alerted the World Health O...    12  2019-12-31  \n",
       "2  Pope Francis has apologized for slapping a wom...     1    2020-1-1  \n",
       "3  On 3 January 2020, a United States drone strik...     1    2020-1-3  \n",
       "4  On January 6, a magnitude 5.8 earthquake struc...     1    2020-1-6  "
      ]
     },
     "execution_count": 19,
     "metadata": {},
     "output_type": "execute_result"
    }
   ],
   "source": [
    "df1.head()"
   ]
  },
  {
   "cell_type": "code",
   "execution_count": 20,
   "metadata": {},
   "outputs": [],
   "source": [
    "df3=pd.read_csv('worldcities1.csv')"
   ]
  },
  {
   "cell_type": "code",
   "execution_count": 21,
   "metadata": {},
   "outputs": [
    {
     "data": {
      "text/html": [
       "<div>\n",
       "<style scoped>\n",
       "    .dataframe tbody tr th:only-of-type {\n",
       "        vertical-align: middle;\n",
       "    }\n",
       "\n",
       "    .dataframe tbody tr th {\n",
       "        vertical-align: top;\n",
       "    }\n",
       "\n",
       "    .dataframe thead th {\n",
       "        text-align: right;\n",
       "    }\n",
       "</style>\n",
       "<table border=\"1\" class=\"dataframe\">\n",
       "  <thead>\n",
       "    <tr style=\"text-align: right;\">\n",
       "      <th></th>\n",
       "      <th>city</th>\n",
       "      <th>city_ascii</th>\n",
       "      <th>lat</th>\n",
       "      <th>lng</th>\n",
       "      <th>country</th>\n",
       "      <th>iso2</th>\n",
       "      <th>iso3</th>\n",
       "      <th>admin_name</th>\n",
       "      <th>capital</th>\n",
       "      <th>population</th>\n",
       "      <th>id</th>\n",
       "    </tr>\n",
       "  </thead>\n",
       "  <tbody>\n",
       "    <tr>\n",
       "      <th>0</th>\n",
       "      <td>Tokyo</td>\n",
       "      <td>Tokyo</td>\n",
       "      <td>35.6897</td>\n",
       "      <td>139.6922</td>\n",
       "      <td>Japan</td>\n",
       "      <td>JP</td>\n",
       "      <td>JPN</td>\n",
       "      <td>Tōkyō</td>\n",
       "      <td>primary</td>\n",
       "      <td>37977000.0</td>\n",
       "      <td>1392685764</td>\n",
       "    </tr>\n",
       "    <tr>\n",
       "      <th>1</th>\n",
       "      <td>Jakarta</td>\n",
       "      <td>Jakarta</td>\n",
       "      <td>-6.2146</td>\n",
       "      <td>106.8451</td>\n",
       "      <td>Indonesia</td>\n",
       "      <td>ID</td>\n",
       "      <td>IDN</td>\n",
       "      <td>Jakarta</td>\n",
       "      <td>primary</td>\n",
       "      <td>34540000.0</td>\n",
       "      <td>1360771077</td>\n",
       "    </tr>\n",
       "    <tr>\n",
       "      <th>2</th>\n",
       "      <td>Delhi</td>\n",
       "      <td>Delhi</td>\n",
       "      <td>28.6600</td>\n",
       "      <td>77.2300</td>\n",
       "      <td>India</td>\n",
       "      <td>IN</td>\n",
       "      <td>IND</td>\n",
       "      <td>Delhi</td>\n",
       "      <td>admin</td>\n",
       "      <td>29617000.0</td>\n",
       "      <td>1356872604</td>\n",
       "    </tr>\n",
       "    <tr>\n",
       "      <th>3</th>\n",
       "      <td>Mumbai</td>\n",
       "      <td>Mumbai</td>\n",
       "      <td>18.9667</td>\n",
       "      <td>72.8333</td>\n",
       "      <td>India</td>\n",
       "      <td>IN</td>\n",
       "      <td>IND</td>\n",
       "      <td>Mahārāshtra</td>\n",
       "      <td>admin</td>\n",
       "      <td>23355000.0</td>\n",
       "      <td>1356226629</td>\n",
       "    </tr>\n",
       "    <tr>\n",
       "      <th>4</th>\n",
       "      <td>Manila</td>\n",
       "      <td>Manila</td>\n",
       "      <td>14.5958</td>\n",
       "      <td>120.9772</td>\n",
       "      <td>Philippines</td>\n",
       "      <td>PH</td>\n",
       "      <td>PHL</td>\n",
       "      <td>Manila</td>\n",
       "      <td>primary</td>\n",
       "      <td>23088000.0</td>\n",
       "      <td>1608618140</td>\n",
       "    </tr>\n",
       "  </tbody>\n",
       "</table>\n",
       "</div>"
      ],
      "text/plain": [
       "      city city_ascii      lat       lng      country iso2 iso3   admin_name  \\\n",
       "0    Tokyo      Tokyo  35.6897  139.6922        Japan   JP  JPN        Tōkyō   \n",
       "1  Jakarta    Jakarta  -6.2146  106.8451    Indonesia   ID  IDN      Jakarta   \n",
       "2    Delhi      Delhi  28.6600   77.2300        India   IN  IND        Delhi   \n",
       "3   Mumbai     Mumbai  18.9667   72.8333        India   IN  IND  Mahārāshtra   \n",
       "4   Manila     Manila  14.5958  120.9772  Philippines   PH  PHL       Manila   \n",
       "\n",
       "   capital  population          id  \n",
       "0  primary  37977000.0  1392685764  \n",
       "1  primary  34540000.0  1360771077  \n",
       "2    admin  29617000.0  1356872604  \n",
       "3    admin  23355000.0  1356226629  \n",
       "4  primary  23088000.0  1608618140  "
      ]
     },
     "execution_count": 21,
     "metadata": {},
     "output_type": "execute_result"
    }
   ],
   "source": [
    "df3.head()"
   ]
  },
  {
   "cell_type": "code",
   "execution_count": 22,
   "metadata": {},
   "outputs": [],
   "source": [
    "cities = df3['city_ascii'].tolist()"
   ]
  },
  {
   "cell_type": "code",
   "execution_count": 23,
   "metadata": {},
   "outputs": [],
   "source": [
    "desc = df1['Description'].tolist()"
   ]
  },
  {
   "cell_type": "code",
   "execution_count": 24,
   "metadata": {},
   "outputs": [],
   "source": [
    "event = df1['Name'].tolist()"
   ]
  },
  {
   "cell_type": "code",
   "execution_count": 524,
   "metadata": {},
   "outputs": [],
   "source": [
    "match1=[]"
   ]
  },
  {
   "cell_type": "code",
   "execution_count": 26,
   "metadata": {},
   "outputs": [
    {
     "data": {
      "text/plain": [
       "(204, 26569, 204)"
      ]
     },
     "execution_count": 26,
     "metadata": {},
     "output_type": "execute_result"
    }
   ],
   "source": [
    "len(desc),len(cities),len(event)"
   ]
  },
  {
   "cell_type": "code",
   "execution_count": 27,
   "metadata": {},
   "outputs": [
    {
     "ename": "NameError",
     "evalue": "name 'match1' is not defined",
     "output_type": "error",
     "traceback": [
      "\u001b[1;31m---------------------------------------------------------------------------\u001b[0m",
      "\u001b[1;31mNameError\u001b[0m                                 Traceback (most recent call last)",
      "\u001b[1;32m<ipython-input-27-90f62e0cabdf>\u001b[0m in \u001b[0;36m<module>\u001b[1;34m()\u001b[0m\n\u001b[0;32m      5\u001b[0m             \u001b[1;32mbreak\u001b[0m\u001b[1;33m\u001b[0m\u001b[0m\n\u001b[0;32m      6\u001b[0m \u001b[1;33m\u001b[0m\u001b[0m\n\u001b[1;32m----> 7\u001b[1;33m \u001b[0mlen\u001b[0m\u001b[1;33m(\u001b[0m\u001b[0mmatch1\u001b[0m\u001b[1;33m)\u001b[0m\u001b[1;33m\u001b[0m\u001b[0m\n\u001b[0m",
      "\u001b[1;31mNameError\u001b[0m: name 'match1' is not defined"
     ]
    }
   ],
   "source": [
    "match=[]\n",
    "for j in range(len(desc)):\n",
    "    for i in range(len(cities)):\n",
    "        if re.match(r\"\\bcities[i]\\b\", str(desc[j])):\n",
    "            match1.append(cities[i])\n",
    "            break\n",
    "\n",
    "len(match1)"
   ]
  },
  {
   "cell_type": "code",
   "execution_count": 28,
   "metadata": {},
   "outputs": [],
   "source": [
    "match2=[]"
   ]
  },
  {
   "cell_type": "code",
   "execution_count": 29,
   "metadata": {},
   "outputs": [
    {
     "name": "stdout",
     "output_type": "stream",
     "text": [
      "['Zagreb']\n"
     ]
    }
   ],
   "source": [
    "for i in range(len(cities)):\n",
    "#     if re.match(cities[i] ,desc[27]):\n",
    "    if cities[i] in desc[28]:\n",
    "        match2.append(cities[i])\n",
    "        break\n",
    "\n",
    "print(match2)"
   ]
  },
  {
   "cell_type": "code",
   "execution_count": 30,
   "metadata": {},
   "outputs": [
    {
     "data": {
      "text/plain": [
       "'The Croatian capital has been hit by 5.3 magnitude earthquake.Very few people were on the streets when the earthquake struck in the early hours of Sunday morning.But falling masonry from Zagreb’s historic buildings crushed parked cars and blocked roads. The tremor was felt in neighbouring Slovenia and southern Austria. (BBC)'"
      ]
     },
     "execution_count": 30,
     "metadata": {},
     "output_type": "execute_result"
    }
   ],
   "source": [
    "desc[28]"
   ]
  },
  {
   "cell_type": "code",
   "execution_count": 31,
   "metadata": {},
   "outputs": [
    {
     "data": {
      "text/plain": [
       "'Zagreb, Croatia hit by largest  earthquake in 140 years (5.3M)'"
      ]
     },
     "execution_count": 31,
     "metadata": {},
     "output_type": "execute_result"
    }
   ],
   "source": [
    "event[28]"
   ]
  },
  {
   "cell_type": "code",
   "execution_count": 32,
   "metadata": {},
   "outputs": [
    {
     "data": {
      "text/plain": [
       "'Pope Francis has apologized for slapping a woman\\'s hand to free himself from her grip while greeting children and pilgrims in St. Peter\\'s Square on New Year\\'s Eve.The incident occurred as Pope Francis made his way to the Nativity scene in Vatican City. On Wednesday, the Pontiff apologized for losing patience with the worshiper before using his New Year\\'s Day address to denounce violence against women.\"Love makes us patient. So many times we lose patience, even me, and I apologize for yesterday\\'s bad example,\" he said. (CNN)'"
      ]
     },
     "execution_count": 32,
     "metadata": {},
     "output_type": "execute_result"
    }
   ],
   "source": [
    "desc[2]"
   ]
  },
  {
   "cell_type": "code",
   "execution_count": 33,
   "metadata": {},
   "outputs": [
    {
     "data": {
      "text/plain": [
       "'Pope Francis has apologized for slapping a woman\\'s hand to free himself from her grip while greeting children and pilgrims in St. Peter\\'s Square on New Year\\'s Eve.The incident occurred as Pope Francis made his way to the Nativity scene in Vatican City. On Wednesday, the Pontiff apologized for losing patience with the worshiper before using his New Year\\'s Day address to denounce violence against women.\"Love makes us patient. So many times we lose patience, even me, and I apologize for yesterday\\'s bad example,\" he said. (CNN)'"
      ]
     },
     "execution_count": 33,
     "metadata": {},
     "output_type": "execute_result"
    }
   ],
   "source": [
    "desc[2].replace(\"\\'s\",\"'s\")"
   ]
  },
  {
   "cell_type": "code",
   "execution_count": 34,
   "metadata": {},
   "outputs": [],
   "source": [
    "df1['Date'] =  pd.to_datetime(df1['Date'])"
   ]
  },
  {
   "cell_type": "code",
   "execution_count": 35,
   "metadata": {},
   "outputs": [
    {
     "data": {
      "text/html": [
       "<div>\n",
       "<style scoped>\n",
       "    .dataframe tbody tr th:only-of-type {\n",
       "        vertical-align: middle;\n",
       "    }\n",
       "\n",
       "    .dataframe tbody tr th {\n",
       "        vertical-align: top;\n",
       "    }\n",
       "\n",
       "    .dataframe thead th {\n",
       "        text-align: right;\n",
       "    }\n",
       "</style>\n",
       "<table border=\"1\" class=\"dataframe\">\n",
       "  <thead>\n",
       "    <tr style=\"text-align: right;\">\n",
       "      <th></th>\n",
       "      <th>Name</th>\n",
       "      <th>Description</th>\n",
       "      <th>Month</th>\n",
       "      <th>Date</th>\n",
       "    </tr>\n",
       "  </thead>\n",
       "  <tbody>\n",
       "    <tr>\n",
       "      <th>0</th>\n",
       "      <td>COVID-19 Initial Outbreak</td>\n",
       "      <td>The first case of someone suffering from COVID...</td>\n",
       "      <td>11</td>\n",
       "      <td>2019-11-17</td>\n",
       "    </tr>\n",
       "    <tr>\n",
       "      <th>1</th>\n",
       "      <td>China first alerts the WHO of a virus in Wuhan</td>\n",
       "      <td>Chinese authorities alerted the World Health O...</td>\n",
       "      <td>12</td>\n",
       "      <td>2019-12-31</td>\n",
       "    </tr>\n",
       "    <tr>\n",
       "      <th>2</th>\n",
       "      <td>Pope apologises for slapping woman's hand</td>\n",
       "      <td>Pope Francis has apologized for slapping a wom...</td>\n",
       "      <td>1</td>\n",
       "      <td>2020-01-01</td>\n",
       "    </tr>\n",
       "    <tr>\n",
       "      <th>3</th>\n",
       "      <td>Iranian major general Qasem  Soleimani assassi...</td>\n",
       "      <td>On 3 January 2020, a United States drone strik...</td>\n",
       "      <td>1</td>\n",
       "      <td>2020-01-03</td>\n",
       "    </tr>\n",
       "    <tr>\n",
       "      <th>4</th>\n",
       "      <td>5.6M Earthquake in Puerto Rico</td>\n",
       "      <td>On January 6, a magnitude 5.8 earthquake struc...</td>\n",
       "      <td>1</td>\n",
       "      <td>2020-01-06</td>\n",
       "    </tr>\n",
       "  </tbody>\n",
       "</table>\n",
       "</div>"
      ],
      "text/plain": [
       "                                                Name  \\\n",
       "0                          COVID-19 Initial Outbreak   \n",
       "1     China first alerts the WHO of a virus in Wuhan   \n",
       "2          Pope apologises for slapping woman's hand   \n",
       "3  Iranian major general Qasem  Soleimani assassi...   \n",
       "4                     5.6M Earthquake in Puerto Rico   \n",
       "\n",
       "                                         Description Month       Date  \n",
       "0  The first case of someone suffering from COVID...    11 2019-11-17  \n",
       "1  Chinese authorities alerted the World Health O...    12 2019-12-31  \n",
       "2  Pope Francis has apologized for slapping a wom...     1 2020-01-01  \n",
       "3  On 3 January 2020, a United States drone strik...     1 2020-01-03  \n",
       "4  On January 6, a magnitude 5.8 earthquake struc...     1 2020-01-06  "
      ]
     },
     "execution_count": 35,
     "metadata": {},
     "output_type": "execute_result"
    }
   ],
   "source": [
    "df1.head()"
   ]
  },
  {
   "cell_type": "code",
   "execution_count": 36,
   "metadata": {},
   "outputs": [],
   "source": [
    "import matplotlib\n",
    "from ipywidgets import interactive,interact, HBox, Layout,VBox"
   ]
  },
  {
   "cell_type": "code",
   "execution_count": 37,
   "metadata": {},
   "outputs": [],
   "source": [
    "import datetime\n",
    "\n",
    "a = '2010-01-31'\n",
    "\n",
    "datee = datetime.datetime.strptime(a, \"%Y-%m-%d\")"
   ]
  },
  {
   "cell_type": "code",
   "execution_count": 38,
   "metadata": {},
   "outputs": [
    {
     "data": {
      "text/plain": [
       "1"
      ]
     },
     "execution_count": 38,
     "metadata": {},
     "output_type": "execute_result"
    }
   ],
   "source": [
    "datee.month"
   ]
  },
  {
   "cell_type": "code",
   "execution_count": 61,
   "metadata": {},
   "outputs": [
    {
     "ename": "TypeError",
     "evalue": "strptime() argument 1 must be str, not Timestamp",
     "output_type": "error",
     "traceback": [
      "\u001b[1;31m---------------------------------------------------------------------------\u001b[0m",
      "\u001b[1;31mTypeError\u001b[0m                                 Traceback (most recent call last)",
      "\u001b[1;32m<ipython-input-61-151915dc7df0>\u001b[0m in \u001b[0;36m<module>\u001b[1;34m()\u001b[0m\n\u001b[0;32m      1\u001b[0m \u001b[0mdate_list\u001b[0m \u001b[1;33m=\u001b[0m \u001b[0mdf1\u001b[0m\u001b[1;33m[\u001b[0m\u001b[1;34m'Date'\u001b[0m\u001b[1;33m]\u001b[0m\u001b[1;33m.\u001b[0m\u001b[0mtolist\u001b[0m\u001b[1;33m(\u001b[0m\u001b[1;33m)\u001b[0m\u001b[1;33m\u001b[0m\u001b[0m\n\u001b[0;32m      2\u001b[0m \u001b[1;32mfor\u001b[0m \u001b[0mi\u001b[0m \u001b[1;32min\u001b[0m \u001b[0mrange\u001b[0m\u001b[1;33m(\u001b[0m\u001b[0mlen\u001b[0m\u001b[1;33m(\u001b[0m\u001b[0mdate_list\u001b[0m\u001b[1;33m)\u001b[0m\u001b[1;33m)\u001b[0m\u001b[1;33m:\u001b[0m\u001b[1;33m\u001b[0m\u001b[0m\n\u001b[1;32m----> 3\u001b[1;33m     \u001b[0mdate_list\u001b[0m\u001b[1;33m[\u001b[0m\u001b[0mi\u001b[0m\u001b[1;33m]\u001b[0m \u001b[1;33m=\u001b[0m \u001b[0mdatetime\u001b[0m\u001b[1;33m.\u001b[0m\u001b[0mdatetime\u001b[0m\u001b[1;33m.\u001b[0m\u001b[0mstrptime\u001b[0m\u001b[1;33m(\u001b[0m\u001b[0mdate_list\u001b[0m\u001b[1;33m[\u001b[0m\u001b[0mi\u001b[0m\u001b[1;33m]\u001b[0m\u001b[1;33m,\u001b[0m\u001b[1;34m\"%Y-%m-%d\"\u001b[0m\u001b[1;33m)\u001b[0m\u001b[1;33m\u001b[0m\u001b[0m\n\u001b[0m\u001b[0;32m      4\u001b[0m \u001b[1;33m\u001b[0m\u001b[0m\n\u001b[0;32m      5\u001b[0m \u001b[0mdate_list\u001b[0m\u001b[1;33m\u001b[0m\u001b[0m\n",
      "\u001b[1;31mTypeError\u001b[0m: strptime() argument 1 must be str, not Timestamp"
     ]
    }
   ],
   "source": [
    "date_list = df1['Date'].tolist()\n",
    "for i in range(len(date_list)):\n",
    "    date_list[i] = datetime.datetime.strptime(date_list[i],\"%Y-%m-%d\")\n",
    "\n",
    "date_list"
   ]
  },
  {
   "cell_type": "code",
   "execution_count": 39,
   "metadata": {
    "scrolled": true
   },
   "outputs": [
    {
     "data": {
      "text/plain": [
       "str"
      ]
     },
     "execution_count": 39,
     "metadata": {},
     "output_type": "execute_result"
    }
   ],
   "source": [
    "month_list = df1['Month'].tolist()\n",
    "type(month_list[0])\n",
    "# for i in range(len(month_list)):\n",
    "#     month_list = datetime.datetime.strptime(month_list[i], \"%m\")"
   ]
  },
  {
   "cell_type": "code",
   "execution_count": 42,
   "metadata": {},
   "outputs": [],
   "source": [
    "month_names=[]\n",
    "import calendar\n",
    "\n",
    "# ab = calendar.month_name(date_list[0])\n",
    "# ab\n",
    "# for i in range(len(date_list)):\n",
    "#     month_names.append(calendar.month_name(date_list[i]))\n",
    "\n",
    "# month_names"
   ]
  },
  {
   "cell_type": "code",
   "execution_count": 43,
   "metadata": {},
   "outputs": [
    {
     "ename": "TypeError",
     "evalue": "'_localized_month' object is not callable",
     "output_type": "error",
     "traceback": [
      "\u001b[1;31m---------------------------------------------------------------------------\u001b[0m",
      "\u001b[1;31mTypeError\u001b[0m                                 Traceback (most recent call last)",
      "\u001b[1;32m<ipython-input-43-c807e51953df>\u001b[0m in \u001b[0;36m<module>\u001b[1;34m()\u001b[0m\n\u001b[1;32m----> 1\u001b[1;33m \u001b[0mab\u001b[0m \u001b[1;33m=\u001b[0m \u001b[0mcalendar\u001b[0m\u001b[1;33m.\u001b[0m\u001b[0mmonth_name\u001b[0m\u001b[1;33m(\u001b[0m\u001b[1;36m1\u001b[0m\u001b[1;33m)\u001b[0m\u001b[1;33m\u001b[0m\u001b[0m\n\u001b[0m\u001b[0;32m      2\u001b[0m \u001b[0mab\u001b[0m\u001b[1;33m\u001b[0m\u001b[0m\n",
      "\u001b[1;31mTypeError\u001b[0m: '_localized_month' object is not callable"
     ]
    }
   ],
   "source": [
    "ab = calendar.month_name(1)\n",
    "ab"
   ]
  },
  {
   "cell_type": "code",
   "execution_count": 44,
   "metadata": {},
   "outputs": [],
   "source": [
    "date_list = df1['Date'].tolist()"
   ]
  },
  {
   "cell_type": "code",
   "execution_count": 45,
   "metadata": {},
   "outputs": [],
   "source": [
    "month = {month: index for index, month in enumerate(calendar.month_abbr) if month}"
   ]
  },
  {
   "cell_type": "code",
   "execution_count": 46,
   "metadata": {},
   "outputs": [
    {
     "data": {
      "text/plain": [
       "{'Jan': 1,\n",
       " 'Feb': 2,\n",
       " 'Mar': 3,\n",
       " 'Apr': 4,\n",
       " 'May': 5,\n",
       " 'Jun': 6,\n",
       " 'Jul': 7,\n",
       " 'Aug': 8,\n",
       " 'Sep': 9,\n",
       " 'Oct': 10,\n",
       " 'Nov': 11,\n",
       " 'Dec': 12}"
      ]
     },
     "execution_count": 46,
     "metadata": {},
     "output_type": "execute_result"
    }
   ],
   "source": [
    "month"
   ]
  },
  {
   "cell_type": "code",
   "execution_count": 632,
   "metadata": {},
   "outputs": [
    {
     "data": {
      "text/plain": [
       "datetime.datetime"
      ]
     },
     "execution_count": 632,
     "metadata": {},
     "output_type": "execute_result"
    }
   ],
   "source": [
    "# month_number = \"3\"\n",
    "# datetime_object = datetime.datetime.strptime(month_number, \"%m\")\n",
    "type(datetime_object)"
   ]
  },
  {
   "cell_type": "code",
   "execution_count": 99,
   "metadata": {},
   "outputs": [],
   "source": [
    "month_number=[]\n",
    "month_names=[]\n",
    "for i in range(len(month_list)):\n",
    "    month_number.append(datetime.datetime.strptime(month_list[i],'%m'))\n",
    "    month_name = month_number[i].strftime('%B')\n",
    "    month_names.append(month_name)\n"
   ]
  },
  {
   "cell_type": "code",
   "execution_count": 100,
   "metadata": {},
   "outputs": [
    {
     "data": {
      "text/plain": [
       "204"
      ]
     },
     "execution_count": 100,
     "metadata": {},
     "output_type": "execute_result"
    }
   ],
   "source": [
    "len(month_names)"
   ]
  },
  {
   "cell_type": "code",
   "execution_count": 102,
   "metadata": {
    "scrolled": true
   },
   "outputs": [
    {
     "data": {
      "text/plain": [
       "0      November\n",
       "1      December\n",
       "2       January\n",
       "3       January\n",
       "4       January\n",
       "5       January\n",
       "6       January\n",
       "7       January\n",
       "8       January\n",
       "9       January\n",
       "10      January\n",
       "11      January\n",
       "12      January\n",
       "13      January\n",
       "14      January\n",
       "15      January\n",
       "16      January\n",
       "17     February\n",
       "18     February\n",
       "19     February\n",
       "20        March\n",
       "21        March\n",
       "22        March\n",
       "23        March\n",
       "24        March\n",
       "25        March\n",
       "26        March\n",
       "27        March\n",
       "28        March\n",
       "29        March\n",
       "         ...   \n",
       "174    November\n",
       "175    November\n",
       "176    November\n",
       "177    November\n",
       "178    November\n",
       "179    November\n",
       "180    November\n",
       "181    November\n",
       "182    November\n",
       "183    November\n",
       "184    November\n",
       "185    November\n",
       "186    November\n",
       "187    November\n",
       "188    November\n",
       "189    November\n",
       "190    November\n",
       "191    November\n",
       "192    November\n",
       "193    November\n",
       "194    December\n",
       "195    December\n",
       "196    December\n",
       "197    December\n",
       "198    December\n",
       "199    December\n",
       "200    December\n",
       "201    December\n",
       "202    December\n",
       "203    December\n",
       "Name: Month, Length: 204, dtype: object"
      ]
     },
     "execution_count": 102,
     "metadata": {},
     "output_type": "execute_result"
    }
   ],
   "source": [
    "df1['Month']=month_names\n",
    "df1['Month']"
   ]
  },
  {
   "cell_type": "code",
   "execution_count": 125,
   "metadata": {},
   "outputs": [
    {
     "data": {
      "text/plain": [
       "204"
      ]
     },
     "execution_count": 125,
     "metadata": {},
     "output_type": "execute_result"
    }
   ],
   "source": [
    "len(df1.index)"
   ]
  },
  {
   "cell_type": "code",
   "execution_count": 104,
   "metadata": {},
   "outputs": [],
   "source": [
    "import matplotlib\n",
    "import seaborn as sns\n",
    "import plotly.express as px\n",
    "import ipywidgets"
   ]
  },
  {
   "cell_type": "code",
   "execution_count": 105,
   "metadata": {},
   "outputs": [
    {
     "data": {
      "application/vnd.jupyter.widget-view+json": {
       "model_id": "432bf20e9c114a65bfbd0a0174a923a2",
       "version_major": 2,
       "version_minor": 0
      },
      "text/plain": [
       "Dropdown(description='Month', options=('January', 'February', 'March', 'April', 'May', 'June', 'July', 'August…"
      ]
     },
     "metadata": {},
     "output_type": "display_data"
    }
   ],
   "source": [
    "months = ['January','February','March','April','May','June','July','August','September','October','November','December']\n",
    "Month_list = ipywidgets.Dropdown(description = 'Month', value = 'January', options=months)\n",
    "Month_list"
   ]
  },
  {
   "cell_type": "code",
   "execution_count": 424,
   "metadata": {
    "scrolled": false
   },
   "outputs": [
    {
     "data": {
      "application/vnd.jupyter.widget-view+json": {
       "model_id": "08046136de05463689405d5a3bf1d84a",
       "version_major": 2,
       "version_minor": 0
      },
      "text/plain": [
       "VBox(children=(interactive(children=(Dropdown(description='Month', options=('January', 'February', 'March', 'A…"
      ]
     },
     "metadata": {},
     "output_type": "display_data"
    }
   ],
   "source": [
    "def plotting_fig(Month_list):\n",
    "    da=df1[df1['Month']==Month_list]\n",
    "#     if da.query(\"['Date'].year == 2019\"):\n",
    "#         fig = px.scatter(da,x= 'Date', y=\"Name\", height=500, width = 950)\n",
    "#         fig.update_yaxes(visible=False)\n",
    "#         fig.update_layout(title='Unfortunate event in 2019', plot_bgcolor='rgba(145, 15, 5, 0.2)',xaxis=dict(showgrid=False),yaxis=dict(showticklabels=False,showgrid=False))\n",
    "#         fig.update_traces(hovertemplate='Date: %{x} <br>%{y}')\n",
    "#         fig.update_traces(mode=\"markers\")\n",
    "#         fig.show()\n",
    "#     else:\n",
    "    fig = px.scatter(da,x= 'Date', y=\"Name\", height=500, width = 950)\n",
    "    fig.update_yaxes(visible=False)\n",
    "    fig.update_layout(title='Unfortunate events in 2020', plot_bgcolor='rgba(50, 150, 200, 0.2)',xaxis=dict(showgrid=False),yaxis=dict(showticklabels=False,showgrid=False))\n",
    "    fig.update_traces(hovertemplate='Date: %{x} <br>%{y}')\n",
    "    fig.update_traces(mode=\"markers+lines\")\n",
    "    fig.update_xaxes(showspikes=True)\n",
    "    fig.update_yaxes(showspikes=True)\n",
    "    fig.show()\n",
    "\n",
    "\n",
    "widget = interactive(plotting_fig, Month_list=Month_list)\n",
    "display(VBox([widget]))"
   ]
  },
  {
   "cell_type": "code",
   "execution_count": 830,
   "metadata": {},
   "outputs": [
    {
     "data": {
      "text/plain": [
       "'Singapore makes it illegal to leave  the house without wearing a mask'"
      ]
     },
     "execution_count": 830,
     "metadata": {},
     "output_type": "execute_result"
    }
   ],
   "source": [
    "# df1['Description'][31]\n",
    "df1['Name'][31]"
   ]
  },
  {
   "cell_type": "code",
   "execution_count": 807,
   "metadata": {},
   "outputs": [
    {
     "name": "stdout",
     "output_type": "stream",
     "text": [
      "False\n"
     ]
    }
   ],
   "source": [
    "cities = [' {0} '.format(elem) for elem in cities]\n",
    "if 'Mississippi' in cities:\n",
    "    print(True)\n",
    "else:\n",
    "    print(False)"
   ]
  },
  {
   "cell_type": "code",
   "execution_count": 842,
   "metadata": {},
   "outputs": [],
   "source": [
    "match2=[]\n",
    "for i in range(len(cities)):\n",
    "#     if re.match(cities[i] ,desc[27]):\n",
    "    if cities[i] in desc[23]:\n",
    "        print(cities[i])\n",
    "    elif country[i] in event[23]:\n",
    "        print(country[i])\n",
    "    break\n",
    "\n"
   ]
  },
  {
   "cell_type": "code",
   "execution_count": 831,
   "metadata": {},
   "outputs": [
    {
     "data": {
      "text/html": [
       "<div>\n",
       "<style scoped>\n",
       "    .dataframe tbody tr th:only-of-type {\n",
       "        vertical-align: middle;\n",
       "    }\n",
       "\n",
       "    .dataframe tbody tr th {\n",
       "        vertical-align: top;\n",
       "    }\n",
       "\n",
       "    .dataframe thead th {\n",
       "        text-align: right;\n",
       "    }\n",
       "</style>\n",
       "<table border=\"1\" class=\"dataframe\">\n",
       "  <thead>\n",
       "    <tr style=\"text-align: right;\">\n",
       "      <th></th>\n",
       "      <th>Name</th>\n",
       "      <th>Description</th>\n",
       "      <th>Time from</th>\n",
       "      <th>Time to</th>\n",
       "      <th>Group ID</th>\n",
       "    </tr>\n",
       "  </thead>\n",
       "  <tbody>\n",
       "    <tr>\n",
       "      <th>0</th>\n",
       "      <td>Hong Kong Protests - March 2019 onwards</td>\n",
       "      <td>The ongoing 2019–20 Hong Kong protests were tr...</td>\n",
       "      <td>2019 3 15 0 0</td>\n",
       "      <td>2020 9 17 22 4</td>\n",
       "      <td>NaN</td>\n",
       "    </tr>\n",
       "    <tr>\n",
       "      <th>1</th>\n",
       "      <td>Australian Bushfires</td>\n",
       "      <td>NaN</td>\n",
       "      <td>2019 9 1 0 0</td>\n",
       "      <td>2020 2 23 0 0</td>\n",
       "      <td>NaN</td>\n",
       "    </tr>\n",
       "    <tr>\n",
       "      <th>2</th>\n",
       "      <td>Chilean protests - Oct 2019 onwards</td>\n",
       "      <td>Civil protests have taken place throughout Chi...</td>\n",
       "      <td>2019 10 14</td>\n",
       "      <td>2020 6 6 0 0</td>\n",
       "      <td>NaN</td>\n",
       "    </tr>\n",
       "    <tr>\n",
       "      <th>3</th>\n",
       "      <td>COVID-19 Pandemic</td>\n",
       "      <td>NaN</td>\n",
       "      <td>2019 11 17</td>\n",
       "      <td>2020 12 31 0 0</td>\n",
       "      <td>NaN</td>\n",
       "    </tr>\n",
       "    <tr>\n",
       "      <th>4</th>\n",
       "      <td>Floods in Jakarta</td>\n",
       "      <td>On January 6, the death toll in Jakarta has ri...</td>\n",
       "      <td>2019 12 31 0 0</td>\n",
       "      <td>2020 1 6 0 0</td>\n",
       "      <td>NaN</td>\n",
       "    </tr>\n",
       "  </tbody>\n",
       "</table>\n",
       "</div>"
      ],
      "text/plain": [
       "                                      Name  \\\n",
       "0  Hong Kong Protests - March 2019 onwards   \n",
       "1                     Australian Bushfires   \n",
       "2      Chilean protests - Oct 2019 onwards   \n",
       "3                        COVID-19 Pandemic   \n",
       "4                        Floods in Jakarta   \n",
       "\n",
       "                                         Description       Time from  \\\n",
       "0  The ongoing 2019–20 Hong Kong protests were tr...   2019 3 15 0 0   \n",
       "1                                                NaN    2019 9 1 0 0   \n",
       "2  Civil protests have taken place throughout Chi...      2019 10 14   \n",
       "3                                                NaN      2019 11 17   \n",
       "4  On January 6, the death toll in Jakarta has ri...  2019 12 31 0 0   \n",
       "\n",
       "          Time to  Group ID  \n",
       "0  2020 9 17 22 4       NaN  \n",
       "1   2020 2 23 0 0       NaN  \n",
       "2    2020 6 6 0 0       NaN  \n",
       "3  2020 12 31 0 0       NaN  \n",
       "4    2020 1 6 0 0       NaN  "
      ]
     },
     "execution_count": 831,
     "metadata": {},
     "output_type": "execute_result"
    }
   ],
   "source": [
    "df2.head()"
   ]
  },
  {
   "cell_type": "code",
   "execution_count": 835,
   "metadata": {},
   "outputs": [
    {
     "data": {
      "text/html": [
       "<div>\n",
       "<style scoped>\n",
       "    .dataframe tbody tr th:only-of-type {\n",
       "        vertical-align: middle;\n",
       "    }\n",
       "\n",
       "    .dataframe tbody tr th {\n",
       "        vertical-align: top;\n",
       "    }\n",
       "\n",
       "    .dataframe thead th {\n",
       "        text-align: right;\n",
       "    }\n",
       "</style>\n",
       "<table border=\"1\" class=\"dataframe\">\n",
       "  <thead>\n",
       "    <tr style=\"text-align: right;\">\n",
       "      <th></th>\n",
       "      <th>city</th>\n",
       "      <th>city_ascii</th>\n",
       "      <th>lat</th>\n",
       "      <th>lng</th>\n",
       "      <th>country</th>\n",
       "      <th>iso2</th>\n",
       "      <th>iso3</th>\n",
       "      <th>admin_name</th>\n",
       "      <th>capital</th>\n",
       "      <th>population</th>\n",
       "      <th>id</th>\n",
       "    </tr>\n",
       "  </thead>\n",
       "  <tbody>\n",
       "    <tr>\n",
       "      <th>0</th>\n",
       "      <td>Tokyo</td>\n",
       "      <td>Tokyo</td>\n",
       "      <td>35.6897</td>\n",
       "      <td>139.6922</td>\n",
       "      <td>Japan</td>\n",
       "      <td>JP</td>\n",
       "      <td>JPN</td>\n",
       "      <td>Tōkyō</td>\n",
       "      <td>primary</td>\n",
       "      <td>37977000.0</td>\n",
       "      <td>1392685764</td>\n",
       "    </tr>\n",
       "    <tr>\n",
       "      <th>1</th>\n",
       "      <td>Jakarta</td>\n",
       "      <td>Jakarta</td>\n",
       "      <td>-6.2146</td>\n",
       "      <td>106.8451</td>\n",
       "      <td>Indonesia</td>\n",
       "      <td>ID</td>\n",
       "      <td>IDN</td>\n",
       "      <td>Jakarta</td>\n",
       "      <td>primary</td>\n",
       "      <td>34540000.0</td>\n",
       "      <td>1360771077</td>\n",
       "    </tr>\n",
       "    <tr>\n",
       "      <th>2</th>\n",
       "      <td>Delhi</td>\n",
       "      <td>Delhi</td>\n",
       "      <td>28.6600</td>\n",
       "      <td>77.2300</td>\n",
       "      <td>India</td>\n",
       "      <td>IN</td>\n",
       "      <td>IND</td>\n",
       "      <td>Delhi</td>\n",
       "      <td>admin</td>\n",
       "      <td>29617000.0</td>\n",
       "      <td>1356872604</td>\n",
       "    </tr>\n",
       "    <tr>\n",
       "      <th>3</th>\n",
       "      <td>Mumbai</td>\n",
       "      <td>Mumbai</td>\n",
       "      <td>18.9667</td>\n",
       "      <td>72.8333</td>\n",
       "      <td>India</td>\n",
       "      <td>IN</td>\n",
       "      <td>IND</td>\n",
       "      <td>Mahārāshtra</td>\n",
       "      <td>admin</td>\n",
       "      <td>23355000.0</td>\n",
       "      <td>1356226629</td>\n",
       "    </tr>\n",
       "    <tr>\n",
       "      <th>4</th>\n",
       "      <td>Manila</td>\n",
       "      <td>Manila</td>\n",
       "      <td>14.5958</td>\n",
       "      <td>120.9772</td>\n",
       "      <td>Philippines</td>\n",
       "      <td>PH</td>\n",
       "      <td>PHL</td>\n",
       "      <td>Manila</td>\n",
       "      <td>primary</td>\n",
       "      <td>23088000.0</td>\n",
       "      <td>1608618140</td>\n",
       "    </tr>\n",
       "  </tbody>\n",
       "</table>\n",
       "</div>"
      ],
      "text/plain": [
       "      city city_ascii      lat       lng      country iso2 iso3   admin_name  \\\n",
       "0    Tokyo      Tokyo  35.6897  139.6922        Japan   JP  JPN        Tōkyō   \n",
       "1  Jakarta    Jakarta  -6.2146  106.8451    Indonesia   ID  IDN      Jakarta   \n",
       "2    Delhi      Delhi  28.6600   77.2300        India   IN  IND        Delhi   \n",
       "3   Mumbai     Mumbai  18.9667   72.8333        India   IN  IND  Mahārāshtra   \n",
       "4   Manila     Manila  14.5958  120.9772  Philippines   PH  PHL       Manila   \n",
       "\n",
       "   capital  population          id  \n",
       "0  primary  37977000.0  1392685764  \n",
       "1  primary  34540000.0  1360771077  \n",
       "2    admin  29617000.0  1356872604  \n",
       "3    admin  23355000.0  1356226629  \n",
       "4  primary  23088000.0  1608618140  "
      ]
     },
     "execution_count": 835,
     "metadata": {},
     "output_type": "execute_result"
    }
   ],
   "source": [
    "df3.head()"
   ]
  },
  {
   "cell_type": "code",
   "execution_count": 63,
   "metadata": {},
   "outputs": [
    {
     "data": {
      "text/plain": [
       "' Japan '"
      ]
     },
     "execution_count": 63,
     "metadata": {},
     "output_type": "execute_result"
    }
   ],
   "source": [
    "country=df3['country'].tolist()\n",
    "country = [' {0} '.format(elem) for elem in country]\n",
    "country[0]"
   ]
  },
  {
   "cell_type": "code",
   "execution_count": 83,
   "metadata": {},
   "outputs": [
    {
     "name": "stdout",
     "output_type": "stream",
     "text": [
      "True\n"
     ]
    }
   ],
   "source": [
    "if ' Ireland ' in country:\n",
    "    print(True)"
   ]
  },
  {
   "cell_type": "code",
   "execution_count": 65,
   "metadata": {},
   "outputs": [],
   "source": [
    "event = [' {0} '.format(elem) for elem in event]\n",
    "desc = [' {0} '.format(elem) for elem in desc]"
   ]
  },
  {
   "cell_type": "code",
   "execution_count": 66,
   "metadata": {},
   "outputs": [],
   "source": [
    "event1=[]\n",
    "for i in range(len(desc)):\n",
    "    desc[i]=desc[i].replace('.',' ').replace(',','')\n",
    "    event1.append(event[i].replace('.',' ').replace(',',''))"
   ]
  },
  {
   "cell_type": "code",
   "execution_count": 67,
   "metadata": {},
   "outputs": [],
   "source": [
    "cities = [' {0} '.format(elem) for elem in cities]"
   ]
  },
  {
   "cell_type": "code",
   "execution_count": 129,
   "metadata": {},
   "outputs": [
    {
     "data": {
      "text/plain": [
       "[' Tokyo ',\n",
       " ' Jakarta ',\n",
       " ' Delhi ',\n",
       " ' Mumbai ',\n",
       " ' Manila ',\n",
       " ' Shanghai ',\n",
       " ' Sao Paulo ',\n",
       " ' Seoul ',\n",
       " ' Mexico City ',\n",
       " ' Guangzhou ',\n",
       " ' Beijing ',\n",
       " ' Cairo ',\n",
       " ' New York ',\n",
       " ' Kolkata ',\n",
       " ' Moscow ',\n",
       " ' Bangkok ',\n",
       " ' Buenos Aires ',\n",
       " ' Shenzhen ',\n",
       " ' Dhaka ',\n",
       " ' Lagos ',\n",
       " ' Istanbul ',\n",
       " ' Osaka ',\n",
       " ' Karachi ',\n",
       " ' Bangalore ',\n",
       " ' Tehran ',\n",
       " ' Kinshasa ',\n",
       " ' Ho Chi Minh City ',\n",
       " ' Los Angeles ',\n",
       " ' Rio de Janeiro ',\n",
       " ' Nanyang ',\n",
       " ' Chennai ',\n",
       " ' Chengdu ',\n",
       " ' Lahore ',\n",
       " ' Paris ',\n",
       " ' London ',\n",
       " ' Linyi ',\n",
       " ' Tianjin ',\n",
       " ' Shijiazhuang ',\n",
       " ' Baoding ',\n",
       " ' Zhoukou ',\n",
       " ' Lima ',\n",
       " ' Hyderabad ',\n",
       " ' Bogota ',\n",
       " ' Weifang ',\n",
       " ' Nagoya ',\n",
       " ' Wuhan ',\n",
       " ' Heze ',\n",
       " ' Ganzhou ',\n",
       " ' Tongshan ',\n",
       " ' Chicago ',\n",
       " ' Handan ',\n",
       " ' Luanda ',\n",
       " ' Fuyang ',\n",
       " ' Kuala Lumpur ',\n",
       " ' Jining ',\n",
       " ' Dongguan ',\n",
       " ' Hanoi ',\n",
       " ' Pune ',\n",
       " ' Chongqing ',\n",
       " ' Changchun ',\n",
       " ' Zhumadian ',\n",
       " ' Ningbo ',\n",
       " ' Onitsha ',\n",
       " ' Nanjing ',\n",
       " ' Hefei ',\n",
       " ' Ahmadabad ',\n",
       " ' Hong Kong ',\n",
       " ' Khartoum ',\n",
       " ' Nantong ',\n",
       " ' Yancheng ',\n",
       " ' Foshan ',\n",
       " ' Nanning ',\n",
       " ' Hengyang ',\n",
       " \" Xi'an \",\n",
       " ' Shenyang ',\n",
       " ' Tangshan ',\n",
       " ' Shaoyang ',\n",
       " ' Changsha ',\n",
       " ' Santiago ',\n",
       " ' Zhengzhou ',\n",
       " ' Zhanjiang ',\n",
       " ' Riyadh ',\n",
       " ' Cangzhou ',\n",
       " ' Dar es Salaam ',\n",
       " ' Maoming ',\n",
       " ' Huanggang ',\n",
       " ' Xinyang ',\n",
       " ' Shangrao ',\n",
       " ' Luoyang ',\n",
       " ' Bijie ',\n",
       " ' Yantai ',\n",
       " ' Quanzhou ',\n",
       " ' Hangzhou ',\n",
       " ' Miami ',\n",
       " ' Kunming ',\n",
       " ' Nanchong ',\n",
       " ' Zunyi ',\n",
       " \" Lu'an \",\n",
       " ' Yichun ',\n",
       " ' Taizhou ',\n",
       " ' Liaocheng ',\n",
       " ' Qujing ',\n",
       " ' Xiangyang ',\n",
       " ' Surat ',\n",
       " ' Baghdad ',\n",
       " ' Qingdao ',\n",
       " ' Singapore ',\n",
       " ' Dallas ',\n",
       " ' Changde ',\n",
       " ' Dazhou ',\n",
       " ' Suzhou ',\n",
       " ' Philadelphia ',\n",
       " ' Jieyang ',\n",
       " ' Nairobi ',\n",
       " ' Nangandao ',\n",
       " ' Ankara ',\n",
       " \" Tai'an \",\n",
       " ' Yulin ',\n",
       " ' Dezhou ',\n",
       " ' Houston ',\n",
       " ' Atlanta ',\n",
       " ' Rangoon ',\n",
       " ' Toronto ',\n",
       " ' Suihua ',\n",
       " ' Washington ',\n",
       " ' Qiqihar ',\n",
       " ' Jinhua ',\n",
       " ' Saint Petersburg ',\n",
       " ' Shantou ',\n",
       " ' Sydney ',\n",
       " ' Weinan ',\n",
       " ' Suqian ',\n",
       " ' Guadalajara ',\n",
       " ' Suzhou ',\n",
       " ' Fuzhou ',\n",
       " ' Zhaotong ',\n",
       " ' Pudong ',\n",
       " ' Yongzhou ',\n",
       " ' Belo Horizonte ',\n",
       " ' Zhangzhou ',\n",
       " ' Bozhou ',\n",
       " ' Melbourne ',\n",
       " ' Nanchang ',\n",
       " ' Xianyang ',\n",
       " ' Taizhou ',\n",
       " ' Surabaya ',\n",
       " ' Abidjan ',\n",
       " \" Ji'an \",\n",
       " ' Mianyang ',\n",
       " ' Shaoxing ',\n",
       " ' Alexandria ',\n",
       " ' Yuncheng ',\n",
       " ' Pingdingshan ',\n",
       " \" Huai'an \",\n",
       " ' Xinpu ',\n",
       " ' Guilin ',\n",
       " ' Huaihua ',\n",
       " ' Jiujiang ',\n",
       " ' Anqing ',\n",
       " ' Boston ',\n",
       " ' Huanglongsi ',\n",
       " ' Xiaoganzhan ',\n",
       " ' Changzhou ',\n",
       " ' Barcelona ',\n",
       " ' Chenzhou ',\n",
       " ' Wuxi ',\n",
       " ' Zibo ',\n",
       " ' Jiaxing ',\n",
       " ' Dalian ',\n",
       " ' Harbin ',\n",
       " ' Yangzhou ',\n",
       " ' Yibin ',\n",
       " ' Jiangmen ',\n",
       " ' Johannesburg ',\n",
       " ' Meizhou ',\n",
       " ' Chifeng ',\n",
       " ' Casablanca ',\n",
       " ' Guiyang ',\n",
       " ' Langfang ',\n",
       " ' Zhangjiakou ',\n",
       " ' Izmir ',\n",
       " ' Linfen ',\n",
       " ' Wenzhou ',\n",
       " ' Monterrey ',\n",
       " ' Luzhou ',\n",
       " ' Jiangguanchi ',\n",
       " ' Neijiang ',\n",
       " ' Phoenix ',\n",
       " ' Yanjiang ',\n",
       " ' Yiyang ',\n",
       " ' Zhaoqing ',\n",
       " ' Hengshui ',\n",
       " ' Guigang ',\n",
       " ' Xiaoxita ',\n",
       " ' Xiamen ',\n",
       " ' Chuzhou ',\n",
       " ' Fuzhou ',\n",
       " ' Amman ',\n",
       " ' Jeddah ',\n",
       " ' Sialkot City ',\n",
       " ' Huizhou ',\n",
       " ' Qingyuan ',\n",
       " ' Zhuzhou ',\n",
       " ' Wuhu ',\n",
       " ' Hechi ',\n",
       " ' Seattle ',\n",
       " ' Loudi ',\n",
       " ' Binzhou ',\n",
       " ' Liuzhou ',\n",
       " ' Yokohama ',\n",
       " ' Baojishi ',\n",
       " \" Guang'an \",\n",
       " ' Hanzhong ',\n",
       " ' Kabul ',\n",
       " ' Zaozhuang ',\n",
       " ' Berlin ',\n",
       " ' Anshan ',\n",
       " ' Deyang ',\n",
       " ' Lanzhou ',\n",
       " ' Chengde ',\n",
       " ' San Francisco ',\n",
       " ' Puyang ',\n",
       " ' Suining ',\n",
       " ' Jiaozuo ',\n",
       " ' Bengbu ',\n",
       " ' Montreal ',\n",
       " ' Detroit ',\n",
       " ' Baicheng ',\n",
       " ' Busan ',\n",
       " ' Algiers ',\n",
       " ' Qincheng ',\n",
       " ' Taiyuan ',\n",
       " ' Lucknow ',\n",
       " ' Chaoyang ',\n",
       " ' Hechi ',\n",
       " ' Leshan ',\n",
       " ' Yulinshi ',\n",
       " ' Siping ',\n",
       " ' Madrid ',\n",
       " ' Jinan ',\n",
       " ' Shiyan ',\n",
       " ' Changzhi ',\n",
       " ' San Diego ',\n",
       " ' Faisalabad ',\n",
       " ' Santa Cruz ',\n",
       " ' Bazhou ',\n",
       " ' Zhongshan ',\n",
       " ' Zhenjiang ',\n",
       " ' Urumqi ',\n",
       " ' Tongliao ',\n",
       " ' Heyuan ',\n",
       " ' Tongren ',\n",
       " ' Qinzhou ',\n",
       " ' Jaipur ',\n",
       " ' Xinzhou ',\n",
       " ' Addis Ababa ',\n",
       " ' Giza ',\n",
       " ' Meishan ',\n",
       " ' Brasilia ',\n",
       " ' Mashhad ',\n",
       " ' Jinzhou ',\n",
       " ' Tieling ',\n",
       " ' Shaoguan ',\n",
       " ' Shanwei ',\n",
       " ' Minneapolis ',\n",
       " ' Kyiv ',\n",
       " ' Sanaa ',\n",
       " ' Quezon City ',\n",
       " ' Dingxi ',\n",
       " ' Salvador ',\n",
       " ' Incheon ',\n",
       " ' Bursa ',\n",
       " ' Ningde ',\n",
       " ' Tampa ',\n",
       " ' Daqing ',\n",
       " ' Birmingham ',\n",
       " ' Putian ',\n",
       " ' Huzhou ',\n",
       " ' Wuzhou ',\n",
       " ' Denver ',\n",
       " ' Rome ',\n",
       " ' La Paz ',\n",
       " ' Pyongyang ',\n",
       " ' Kano ',\n",
       " ' Taichung ',\n",
       " ' Omdurman ',\n",
       " ' Zigong ',\n",
       " ' Qinhuangdao ',\n",
       " ' Mudanjiang ',\n",
       " ' Huludao ',\n",
       " ' Kaohsiung ',\n",
       " ' Xiangtan ',\n",
       " ' Guayaquil ',\n",
       " ' Rizhao ',\n",
       " ' Manchester ',\n",
       " ' Cawnpore ',\n",
       " ' Baotou ',\n",
       " ' Taipei ',\n",
       " ' Nanping ',\n",
       " ' Longyan ',\n",
       " ' Ibadan ',\n",
       " ' Hohhot ',\n",
       " ' Chaozhou ',\n",
       " ' Antananarivo ',\n",
       " ' Longba ',\n",
       " ' Weihai ',\n",
       " ' Chattogram ',\n",
       " ' Santo Domingo ',\n",
       " ' Xuanzhou ',\n",
       " ' Sanming ',\n",
       " ' Brooklyn ',\n",
       " ' Medellin ',\n",
       " ' Brisbane ',\n",
       " ' Baoshan ',\n",
       " ' Dubai ',\n",
       " ' Luohe ',\n",
       " ' Qinbaling ',\n",
       " ' Mirzapur ',\n",
       " ' Guangyuan ',\n",
       " ' Cali ',\n",
       " ' Daegu ',\n",
       " ' Fortaleza ',\n",
       " ' Guatemala City ',\n",
       " ' Yaounde ',\n",
       " ' Douala ',\n",
       " ' Jilin ',\n",
       " ' Lianshan ',\n",
       " ' Lincang ',\n",
       " ' Antalya ',\n",
       " ' Tashkent ',\n",
       " ' Huangshi ',\n",
       " ' Bandung ',\n",
       " ' Nagpur ',\n",
       " ' Dandong ',\n",
       " ' Huainan ',\n",
       " ' Shangzhou ',\n",
       " ' Bekasi ',\n",
       " ' Ghaziabad ',\n",
       " ' Tijuana ',\n",
       " ' Jiamusi ',\n",
       " ' Yangjiang ',\n",
       " ' Accra ',\n",
       " ' Yuxi ',\n",
       " ' Fushun ',\n",
       " ' Anshun ',\n",
       " ' Vancouver ',\n",
       " ' Tangerang ',\n",
       " ' Konya ',\n",
       " ' Queens ',\n",
       " ' Yingkou ',\n",
       " ' Adana ',\n",
       " ' Medan ',\n",
       " ' Sanmenxia ',\n",
       " ' Indore ',\n",
       " \" Ma'anshan \",\n",
       " ' Pingliang ',\n",
       " ' Quzhou ',\n",
       " ' Baku ',\n",
       " ' Gaoping ',\n",
       " ' Huaibei ',\n",
       " ' Xining ',\n",
       " \" Yan'an \",\n",
       " ' Havana ',\n",
       " ' Phnom Penh ',\n",
       " ' Fukuoka ',\n",
       " ' Mogadishu ',\n",
       " ' Jincheng ',\n",
       " ' Lishui ',\n",
       " ' Qingyang ',\n",
       " ' Riverside ',\n",
       " ' Baltimore ',\n",
       " ' Haiphong ',\n",
       " ' Las Vegas ',\n",
       " ' Laibin ',\n",
       " ' Rawalpindi ',\n",
       " ' Kumasi ',\n",
       " ' Portland ',\n",
       " ' Vadodara ',\n",
       " ' Perth ',\n",
       " ' Puning ',\n",
       " ' San Antonio ',\n",
       " ' Haikou ',\n",
       " ' Vishakhapatnam ',\n",
       " ' Gaziantep ',\n",
       " ' Minsk ',\n",
       " ' St. Louis ',\n",
       " ' Bamako ',\n",
       " ' Quito ',\n",
       " ' Pingxiang ',\n",
       " ' Chongzuo ',\n",
       " ' Sanliurfa ',\n",
       " ' Kananga ',\n",
       " ' Peshawar ',\n",
       " ' Sapporo ',\n",
       " ' Jixi ',\n",
       " ' Caracas ',\n",
       " ' Fuxin ',\n",
       " ' Leeds ',\n",
       " ' Sacramento ',\n",
       " ' Blantyre ',\n",
       " ' Tainan ',\n",
       " ' Bucharest ',\n",
       " ' Wuwei ',\n",
       " ' Bhopal ',\n",
       " ' Curitiba ',\n",
       " ' Xiping ',\n",
       " ' Asuncion ',\n",
       " ' Saidu Sharif ',\n",
       " ' Vienna ',\n",
       " ' Aleppo ',\n",
       " ' Hamburg ',\n",
       " ' Meru ',\n",
       " ' Brazzaville ',\n",
       " ' Orlando ',\n",
       " ' Mersin ',\n",
       " ' Almaty ',\n",
       " ' Barranquilla ',\n",
       " ' Kyoto ',\n",
       " ' Manaus ',\n",
       " ' Liaoyang ',\n",
       " ' Baiyin ',\n",
       " ' San Jose ',\n",
       " ' Warsaw ',\n",
       " ' Shengli ',\n",
       " ' Lubumbashi ',\n",
       " ' Damascus ',\n",
       " ' Shuyangzha ',\n",
       " ' Shangqiu ',\n",
       " ' Esfahan ',\n",
       " ' Budapest ',\n",
       " ' Heihe ',\n",
       " ' Lusaka ',\n",
       " ' Diyarbakir ',\n",
       " ' Chinchvad ',\n",
       " ' Shuozhou ',\n",
       " ' Vitoria ',\n",
       " ' Cleveland ',\n",
       " ' Pittsburgh ',\n",
       " ' Mecca ',\n",
       " ' Patna ',\n",
       " ' Mosul ',\n",
       " ' Austin ',\n",
       " ' Sanzhou ',\n",
       " ' Conakry ',\n",
       " ' Kampala ',\n",
       " ' Ecatepec ',\n",
       " ' Cincinnati ',\n",
       " ' Makassar ',\n",
       " ' Yushan ',\n",
       " ' Ludhiana ',\n",
       " ' Newcastle ',\n",
       " ' Depok ',\n",
       " ' Zhongli ',\n",
       " ' Kansas City ',\n",
       " ' Rabat ',\n",
       " ' Ouagadougou ',\n",
       " ' Davao ',\n",
       " ' Manhattan ',\n",
       " ' Semarang ',\n",
       " ' Yinchuan ',\n",
       " ' Multan ',\n",
       " ' Caloocan City ',\n",
       " ' Harare ',\n",
       " ' Novosibirsk ',\n",
       " ' Chengtangcun ',\n",
       " ' Agra ',\n",
       " ' Karaj ',\n",
       " ' Indianapolis ',\n",
       " ' Jingdezhen ',\n",
       " ' Puebla ',\n",
       " ' Kalyan ',\n",
       " ' Madurai ',\n",
       " ' Gujranwala ',\n",
       " ' Benxi ',\n",
       " ' Jamshedpur ',\n",
       " ' Zhuhai ',\n",
       " ' Recife ',\n",
       " ' Columbus ',\n",
       " ' Tabriz ',\n",
       " ' Santiago ',\n",
       " ' Maracaibo ',\n",
       " ' Beihai ',\n",
       " ' Shuangyashan ',\n",
       " ' Kobe ',\n",
       " ' Charlotte ',\n",
       " ' Yucheng ',\n",
       " ' Changshu ',\n",
       " ' Ximeicun ',\n",
       " ' Jianguang ',\n",
       " ' Gwangju ',\n",
       " ' Xushan ',\n",
       " ' Guiping ',\n",
       " ' Nasik ',\n",
       " ' Porto Alegre ',\n",
       " ' Zhangjiajie ',\n",
       " ' Valencia ',\n",
       " ' Virginia Beach ',\n",
       " ' Daejeon ',\n",
       " ' Munich ',\n",
       " ' Yekaterinburg ',\n",
       " ' Auckland ',\n",
       " ' Yunfu ',\n",
       " ' Huangshan ',\n",
       " ' Huazhou ',\n",
       " ' Shiraz ',\n",
       " ' Leon de los Aldama ',\n",
       " ' Pizhou ',\n",
       " ' Palembang ',\n",
       " ' Kharkiv ',\n",
       " ' Kawanakajima ',\n",
       " ' Lianjiang ',\n",
       " ' Chizhou ',\n",
       " ' Leizhou ',\n",
       " ' Guyuan ',\n",
       " \" Rui'an \",\n",
       " ' Birstall ',\n",
       " ' Muscat ',\n",
       " ' Hebi ',\n",
       " ' Jingling ',\n",
       " ' Bronx ',\n",
       " ' The Hague ',\n",
       " ' Owerri ',\n",
       " ' Sharjah ',\n",
       " ' Faridabad ',\n",
       " ' Ulaanbaatar ',\n",
       " ' Goiania ',\n",
       " ' Belem ',\n",
       " ' Kayseri ',\n",
       " ' Yueqing ',\n",
       " ' Belgrade ',\n",
       " ' Pingdu ',\n",
       " ' Aurangabad ',\n",
       " ' Yutan ',\n",
       " ' Wenling ',\n",
       " ' Islamabad ',\n",
       " ' Milwaukee ',\n",
       " ' Milan ',\n",
       " ' Sofia ',\n",
       " ' Adelaide ',\n",
       " ' Samsun ',\n",
       " ' Rajkot ',\n",
       " ' Khulna ',\n",
       " ' Cordoba ',\n",
       " ' Guarulhos ',\n",
       " ' Juarez ',\n",
       " ' Prague ',\n",
       " ' Montevideo ',\n",
       " ' Mbuji-Mayi ',\n",
       " ' Fuqing ',\n",
       " ' Xintai ',\n",
       " ' Doha ',\n",
       " ' Saitama ',\n",
       " ' Hiroshima ',\n",
       " ' Meerut ',\n",
       " ' Yushu ',\n",
       " ' Rongcheng ',\n",
       " ' Yangquan ',\n",
       " ' Haicheng ',\n",
       " ' Gaozhou ',\n",
       " ' Yingtan ',\n",
       " ' Huaiyin ',\n",
       " ' Wuzhong ',\n",
       " ' Jabalpur ',\n",
       " ' Thane ',\n",
       " ' Zhangye ',\n",
       " ' Rucheng ',\n",
       " ' Nizhniy Novgorod ',\n",
       " ' Comayaguela ',\n",
       " ' Yangshe ',\n",
       " ' Shaoyang ',\n",
       " ' Dhanbad ',\n",
       " ' Yichun ',\n",
       " ' Laiwu ',\n",
       " ' Kazan ',\n",
       " ' Dayan ',\n",
       " ' Suwon ',\n",
       " ' Jiangyin ',\n",
       " ' Yongcheng ',\n",
       " ' Calgary ',\n",
       " ' Can Tho ',\n",
       " ' Abuja ',\n",
       " ' Yiwu ',\n",
       " ' Mandalay ',\n",
       " ' Beidao ',\n",
       " ' Al Basrah ',\n",
       " ' Shuangshui ',\n",
       " ' Sevilla ',\n",
       " ' Vila Velha ',\n",
       " ' Allahabad ',\n",
       " ' Varanasi ',\n",
       " ' Tunis ',\n",
       " ' Chelyabinsk ',\n",
       " ' Mombasa ',\n",
       " ' Providence ',\n",
       " ' Qom ',\n",
       " ' Maiduguri ',\n",
       " ' Maputo ',\n",
       " ' Rosario ',\n",
       " ' Benin City ',\n",
       " ' Xinyu ',\n",
       " ' Ahvaz ',\n",
       " ' Dublin ',\n",
       " ' Jacksonville ',\n",
       " ' Medina ',\n",
       " ' Srinagar ',\n",
       " ' Omsk ',\n",
       " ' Huazhou ',\n",
       " ' Cilacap ',\n",
       " ' Xiantao ',\n",
       " ' Bandar Lampung ',\n",
       " ' Samara ',\n",
       " ' Guankou ',\n",
       " ' Ulsan ',\n",
       " ' Dingzhou ',\n",
       " ' Campinas ',\n",
       " ' Lianyuan ',\n",
       " ' Rongcheng ',\n",
       " ' Kaiyuan ',\n",
       " ' Nay Pyi Taw ',\n",
       " ' Dakar ',\n",
       " ' Zhuji ',\n",
       " ' Zapopan ',\n",
       " ' Leiyang ',\n",
       " ' Dadukou ',\n",
       " ' Quetta ',\n",
       " ' Amritsar ',\n",
       " ' Callao ',\n",
       " ' Aligarh ',\n",
       " ' Yingchuan ',\n",
       " ' Tegucigalpa ',\n",
       " ' Ciudad Nezahualcoyotl ',\n",
       " ' Tripoli ',\n",
       " ' Rostov ',\n",
       " ' Nezahualcoyotl ',\n",
       " ' Bhiwandi ',\n",
       " ' Zhoushan ',\n",
       " ' Tbilisi ',\n",
       " ' Ufa ',\n",
       " ' Fes ',\n",
       " ' Bien Hoa ',\n",
       " ' Mexicali ',\n",
       " ' Gwalior ',\n",
       " ' Ankang ',\n",
       " ' Ikare ',\n",
       " ' Hegang ',\n",
       " ' Salt Lake City ',\n",
       " ' Bhilai ',\n",
       " ' Yuyao ',\n",
       " \" N'Djamena \",\n",
       " ' Hanchuan ',\n",
       " ' Gongzhuling ',\n",
       " ' Copenhagen ',\n",
       " ' Irbid ',\n",
       " ' Haora ',\n",
       " ' Cologne ',\n",
       " ' Krasnoyarsk ',\n",
       " ' Yicheng ',\n",
       " ' Mizhou ',\n",
       " ' Nashville ',\n",
       " ' Yerevan ',\n",
       " ' Ranchi ',\n",
       " ' Nur-Sultan ',\n",
       " ' Nouakchott ',\n",
       " ' Vereeniging ',\n",
       " ' Richmond ',\n",
       " ' Sao Luis ',\n",
       " ' San Pedro Sula ',\n",
       " ' Taixing ',\n",
       " ' Memphis ',\n",
       " ' Goyang ',\n",
       " ' Bezwada ',\n",
       " ' Edmonton ',\n",
       " ' Xishan ',\n",
       " ' Barquisimeto ',\n",
       " ' Sendai ',\n",
       " ' Voronezh ',\n",
       " ' Perm ',\n",
       " ' Changwon ',\n",
       " ' Zhongwei ',\n",
       " ' Shouguang ',\n",
       " ' Bogor ',\n",
       " ' Raleigh ',\n",
       " ' Cartagena ',\n",
       " ' Chandigarh ',\n",
       " ' Bishkek ',\n",
       " ' Amsterdam ',\n",
       " ' Matola ',\n",
       " ' Ogbomoso ',\n",
       " ' Ashgabat ',\n",
       " \" E'zhou \",\n",
       " ' Maceio ',\n",
       " ' Niamey ',\n",
       " ' Managua ',\n",
       " ' Patam ',\n",
       " ' Tekirdag ',\n",
       " ' Linhai ',\n",
       " ' Shubra al Khaymah ',\n",
       " ' Monrovia ',\n",
       " ' Wafangdian ',\n",
       " ' Zhongxiang ',\n",
       " ' Shymkent ',\n",
       " ' New Orleans ',\n",
       " ' Volgograd ',\n",
       " ' Port-au-Prince ',\n",
       " ' Mysore ',\n",
       " ' Odesa ',\n",
       " ' Kathmandu ',\n",
       " ' Raipur ',\n",
       " ' Nice ',\n",
       " ' Arequipa ',\n",
       " ' Port Harcourt ',\n",
       " ' Rotterdam ',\n",
       " ' Louisville ',\n",
       " ' Zaoyang ',\n",
       " ' Shuizhai ',\n",
       " ' Kota ',\n",
       " ' Abu Dhabi ',\n",
       " ' Stockholm ',\n",
       " ' Ottawa ',\n",
       " ' Asmara ',\n",
       " ' Freetown ',\n",
       " ' Jerusalem ',\n",
       " ' Panama City ',\n",
       " ' Lome ',\n",
       " ' Libreville ',\n",
       " ' Zagreb ',\n",
       " ' Dushanbe ',\n",
       " ' Lilongwe ',\n",
       " ' Cotonou ',\n",
       " ' Vientiane ',\n",
       " ' Colombo ',\n",
       " ' Kigali ',\n",
       " ' Pretoria ',\n",
       " ' Bangui ',\n",
       " ' Winnipeg ',\n",
       " ' Quebec City ',\n",
       " ' Riga ',\n",
       " ' Oslo ',\n",
       " ' Chisinau ',\n",
       " ' Athens ',\n",
       " ' Bujumbura ',\n",
       " ' Helsinki ',\n",
       " ' Skopje ',\n",
       " ' Kuwait City ',\n",
       " ' Kingston ',\n",
       " ' Vilnius ',\n",
       " ' San Salvador ',\n",
       " ' Djibouti ',\n",
       " ' Lisbon ',\n",
       " ' Kitchener ',\n",
       " ' Tallinn ',\n",
       " ' Cape Town ',\n",
       " ' Bratislava ',\n",
       " ' Tirana ',\n",
       " ' Canberra ',\n",
       " ' Wellington ',\n",
       " ' Beirut ',\n",
       " ' Dodoma ',\n",
       " ' Halifax ',\n",
       " ' Bissau ',\n",
       " ' Juba ',\n",
       " ' Port Moresby ',\n",
       " ' Yamoussoukro ',\n",
       " ' Victoria ',\n",
       " ' Maseru ',\n",
       " ' Nicosia ',\n",
       " ' Windhoek ',\n",
       " ' Porto-Novo ',\n",
       " ' Sucre ',\n",
       " ' San Jose ',\n",
       " ' Ljubljana ',\n",
       " ' Sarajevo ',\n",
       " ' Nassau ',\n",
       " ' Bloemfontein ',\n",
       " ' Gaborone ',\n",
       " ' Paramaribo ',\n",
       " ' Dili ',\n",
       " ' Pristina ',\n",
       " ' Georgetown ',\n",
       " ' Malabo ',\n",
       " ' Brussels ',\n",
       " ' Male ',\n",
       " ' Podgorica ',\n",
       " ' Manama ',\n",
       " ' Port Louis ',\n",
       " ' New Delhi ',\n",
       " ' Bern ',\n",
       " ' Reykjavik ',\n",
       " ' Praia ',\n",
       " ' Luxembourg ',\n",
       " ' Sri Jayewardenepura Kotte ',\n",
       " ' Bridgetown ',\n",
       " ' Moroni ',\n",
       " ' Thimphu ',\n",
       " ' Mbabane ',\n",
       " ' Honiara ',\n",
       " ' Suva ',\n",
       " ' Castries ',\n",
       " ' Sao Tome ',\n",
       " ' Port-Vila ',\n",
       " ' Bandar Seri Begawan ',\n",
       " ' Monaco ',\n",
       " ' Gitega ',\n",
       " ' Port of Spain ',\n",
       " ' Apia ',\n",
       " ' Vaduz ',\n",
       " ' Banjul ',\n",
       " ' Tarawa ',\n",
       " ' Victoria ',\n",
       " ' Majuro ',\n",
       " ' Kingstown ',\n",
       " ' Nuku`alofa ',\n",
       " \" Saint John's \",\n",
       " ' Andorra la Vella ',\n",
       " ' Belmopan ',\n",
       " ' Roseau ',\n",
       " ' Basseterre ',\n",
       " ' Pago Pago ',\n",
       " ' Valletta ',\n",
       " ' Palikir ',\n",
       " ' Funafuti ',\n",
       " ' Lobamba ',\n",
       " \" Saint George's \",\n",
       " ' San Marino ',\n",
       " ' Al Quds ',\n",
       " ' Capitol Hill ',\n",
       " ' Hagta ',\n",
       " ' Ngerulmud ',\n",
       " ' Bareilly ',\n",
       " ' Quang Ha ',\n",
       " ' Kitaku ',\n",
       " ' Jodhpur ',\n",
       " ' Xingcheng ',\n",
       " ' Dongtai ',\n",
       " ' Joinvile ',\n",
       " ' Yingcheng ',\n",
       " ' Dnipro ',\n",
       " ' Glasgow ',\n",
       " ' Chiba ',\n",
       " ' Danyang ',\n",
       " ' Natal ',\n",
       " ' Naples ',\n",
       " ' Zhaodong ',\n",
       " ' Xibeijie ',\n",
       " ' Kirkuk ',\n",
       " ' Huilong ',\n",
       " ' Tongjin ',\n",
       " ' Oklahoma City ',\n",
       " ' Toulouse ',\n",
       " ' Denizli ',\n",
       " ' Dispur ',\n",
       " ' Coimbatore ',\n",
       " ' Luocheng ',\n",
       " ' Guwahati ',\n",
       " ' Shima ',\n",
       " ' Songnam ',\n",
       " ' Solapur ',\n",
       " ' Tangier ',\n",
       " ' Anqiu ',\n",
       " ' Feicheng ',\n",
       " ' Taishan ',\n",
       " ' Meishan ',\n",
       " ' Kisangani ',\n",
       " ' Khartoum North ',\n",
       " ' Aguascalientes ',\n",
       " ' Marrakech ',\n",
       " ' Nada ',\n",
       " ' Donetsk ',\n",
       " ' Taihecun ',\n",
       " ' Wuchuan ',\n",
       " ' Trujillo ',\n",
       " ' Cebu City ',\n",
       " ' Taihe ',\n",
       " ' Olinda ',\n",
       " ' Bridgeport ',\n",
       " ' Trichinopoly ',\n",
       " \" Xin'an \",\n",
       " ' Padang ',\n",
       " ' Qingzhou ',\n",
       " ' Buffalo ',\n",
       " ' Xinyi ',\n",
       " ' Lichuan ',\n",
       " ' Daye ',\n",
       " ' Fort Worth ',\n",
       " ' Zhuanghe ',\n",
       " ' Hartford ',\n",
       " ' Ad Dammam ',\n",
       " ' Bucheon ',\n",
       " ' Lhasa ',\n",
       " ' Homs ',\n",
       " ' Jiaozhou ',\n",
       " ' Merida ',\n",
       " ' Dengtalu ',\n",
       " ' Zaria ',\n",
       " ' Hubli ',\n",
       " ' Abeokuta ',\n",
       " ' Tucson ',\n",
       " ' Krasnodar ',\n",
       " ' Natal ',\n",
       " ' Novo Hamburgo ',\n",
       " ' Chihuahua ',\n",
       " ' Klang ',\n",
       " ' Turin ',\n",
       " ' Jos ',\n",
       " ' Laiyang ',\n",
       " ' Jalandhar ',\n",
       " ' Campo Grande ',\n",
       " ' Sale ',\n",
       " ' Barinas ',\n",
       " ' Marseille ',\n",
       " ' Kaifeng Chengguanzhen ',\n",
       " ' Eskisehir ',\n",
       " ' Gaomi ',\n",
       " ' Ipoh ',\n",
       " \" Hai'an \",\n",
       " ' Liverpool ',\n",
       " ' Zamboanga City ',\n",
       " ' Oran ',\n",
       " ' Southampton ',\n",
       " ' Weichanglu ',\n",
       " ' Pekanbaru ',\n",
       " ' Portsmouth ',\n",
       " ' Leping ',\n",
       " ' Erbil ',\n",
       " ' Kermanshah ',\n",
       " ' Hailun ',\n",
       " ' Yangchun ',\n",
       " ' Macheng ',\n",
       " ' Ilorin ',\n",
       " ' Teresina ',\n",
       " ' Omaha ',\n",
       " ' Yuci ',\n",
       " ' Saratov ',\n",
       " ' Iguacu ',\n",
       " ' El Paso ',\n",
       " ' Denpasar ',\n",
       " ' Dehui ',\n",
       " ' Naucalpan de Juarez ',\n",
       " ' Bhubaneshwar ',\n",
       " ' Tongchuan ',\n",
       " ' Cheongju ',\n",
       " ' Warri ',\n",
       " ' Pointe-Noire ',\n",
       " ' Rongjiawan ',\n",
       " ' San Luis Potosi ',\n",
       " ' Butterworth ',\n",
       " ' Bhayandar ',\n",
       " ' Renqiu ',\n",
       " ' Toluca ',\n",
       " ' Honolulu ',\n",
       " ' Queretaro ',\n",
       " ' Xindi ',\n",
       " \" Wu'an \",\n",
       " ' Sao Bernardo do Campo ',\n",
       " ' Hermosillo ',\n",
       " ' Wutong ',\n",
       " ' Taguig City ',\n",
       " ' Saltillo ',\n",
       " ' Gaoyou ',\n",
       " ' Hejian ',\n",
       " ' Yiyang ',\n",
       " ' Puxi ',\n",
       " ' Zijinglu ',\n",
       " ' Xiashi ',\n",
       " ' Trabzon ',\n",
       " ' Joao Pessoa ',\n",
       " ' Dongyang ',\n",
       " ' McAllen ',\n",
       " ' Valencia ',\n",
       " ' Qingping ',\n",
       " ' Niigata ',\n",
       " ' Hamamatsu ',\n",
       " ' Morelia ',\n",
       " ' Pasig City ',\n",
       " ' Moradabad ',\n",
       " ' Culiacan ',\n",
       " ' Xiangxiang ',\n",
       " ' Malang ',\n",
       " ' Xingyi ',\n",
       " ' Chaohucun ',\n",
       " ' Fuyang ',\n",
       " ' Antipolo ',\n",
       " ' Nottingham ',\n",
       " ' Cencheng ',\n",
       " ' Krakow ',\n",
       " ' Hempstead ',\n",
       " ' Erzurum ',\n",
       " ' Al `Ayn ',\n",
       " ' Songzi ',\n",
       " ' Laixi ',\n",
       " ' Zhongba ',\n",
       " ' Qingnian ',\n",
       " ' Albuquerque ',\n",
       " ' Kaduna ',\n",
       " ' Tlalnepantla ',\n",
       " ' Xinhualu ',\n",
       " ' Guangshui ',\n",
       " ' Frankfurt ',\n",
       " ' Samarinda ',\n",
       " ' Changhua ',\n",
       " ...]"
      ]
     },
     "execution_count": 129,
     "metadata": {},
     "output_type": "execute_result"
    }
   ],
   "source": [
    "cities"
   ]
  },
  {
   "cell_type": "code",
   "execution_count": 436,
   "metadata": {},
   "outputs": [
    {
     "data": {
      "text/plain": [
       "' On February 17 the Pearl River in Mississippi reached its third-highest crest causing immense flooding  The flooding has destroyed hundreds of homes and businesses  Elsewhere near the Tennessee River landslides have destroyed at least two homes  (CNN) '"
      ]
     },
     "execution_count": 436,
     "metadata": {},
     "output_type": "execute_result"
    }
   ],
   "source": [
    "# event1[]\n",
    "desc[18]"
   ]
  },
  {
   "cell_type": "code",
   "execution_count": 234,
   "metadata": {},
   "outputs": [],
   "source": [
    "match2=[]"
   ]
  },
  {
   "cell_type": "code",
   "execution_count": 235,
   "metadata": {},
   "outputs": [],
   "source": [
    "for j in range(len(event1)):\n",
    "    for i in range(len(cities)):\n",
    "#     if re.match(cities[i] ,desc[27]):\n",
    "        if cities[i] in desc[j]:\n",
    "#             print(cities[i])\n",
    "            match2.append(cities[i])\n",
    "            break\n",
    "        elif country[i] in event1[j]:\n",
    "#             print(country[i])\n",
    "            match2.append(country[i])\n",
    "            break\n",
    "#         else:\n",
    "# #             print('Not present')\n",
    "#             match2.append(' ')\n",
    "#             break"
   ]
  },
  {
   "cell_type": "code",
   "execution_count": 237,
   "metadata": {},
   "outputs": [
    {
     "data": {
      "text/plain": [
       "167"
      ]
     },
     "execution_count": 237,
     "metadata": {},
     "output_type": "execute_result"
    }
   ],
   "source": [
    "len(match2)"
   ]
  },
  {
   "cell_type": "code",
   "execution_count": 238,
   "metadata": {},
   "outputs": [
    {
     "data": {
      "text/plain": [
       "[' China ',\n",
       " ' Vatican City ',\n",
       " ' Baghdad ',\n",
       " ' Puerto Rico ',\n",
       " ' Tehran ',\n",
       " ' China ',\n",
       " ' Thailand ',\n",
       " ' Pakistan ',\n",
       " ' China ',\n",
       " ' Wuhan ',\n",
       " ' Turkey ',\n",
       " ' Turkey ',\n",
       " ' Pearl ',\n",
       " ' March ',\n",
       " ' Brazil ',\n",
       " ' Italy ',\n",
       " ' Italy ',\n",
       " ' Kildare ',\n",
       " ' Louisville ',\n",
       " ' March ',\n",
       " ' Croatia ',\n",
       " ' Street ',\n",
       " ' Singapore ',\n",
       " ' Ecuador ',\n",
       " ' Ukraine ',\n",
       " ' Street ',\n",
       " ' France ',\n",
       " ' China ',\n",
       " ' New York ',\n",
       " ' March ',\n",
       " ' Detroit ',\n",
       " ' Puerto Rico ',\n",
       " ' Washington ',\n",
       " ' Venezuela ',\n",
       " ' Nevada ',\n",
       " ' India ',\n",
       " ' Karachi ',\n",
       " ' Minneapolis ',\n",
       " ' University ',\n",
       " ' March ',\n",
       " ' India ',\n",
       " ' Hurley ',\n",
       " ' Mbandaka ',\n",
       " ' Washington ',\n",
       " ' India ',\n",
       " ' Delhi ',\n",
       " ' Hong Kong ',\n",
       " ' Russia ',\n",
       " ' London ',\n",
       " ' Bristol ',\n",
       " ' Brazil ',\n",
       " ' New Zealand ',\n",
       " ' Minneapolis ',\n",
       " ' Street ',\n",
       " ' Minneapolis ',\n",
       " ' Nigeria ',\n",
       " ' Seattle ',\n",
       " ' Beijing ',\n",
       " ' London ',\n",
       " ' India ',\n",
       " ' Oxford ',\n",
       " ' Moon ',\n",
       " ' Middle ',\n",
       " ' London ',\n",
       " ' Florida ',\n",
       " ' Seoul ',\n",
       " ' University ',\n",
       " ' Malawi ',\n",
       " ' Los Angeles ',\n",
       " ' Christchurch ',\n",
       " ' Republic ',\n",
       " ' Karachi ',\n",
       " ' Leicester ',\n",
       " ' Auckland ',\n",
       " ' China ',\n",
       " ' London ',\n",
       " ' Kazakhstan ',\n",
       " ' Japan ',\n",
       " ' Israel ',\n",
       " ' Florida ',\n",
       " ' Mongolia ',\n",
       " ' Melbourne ',\n",
       " ' China ',\n",
       " ' Beijing ',\n",
       " ' Ukraine ',\n",
       " ' Nigeria ',\n",
       " ' Hong Kong ',\n",
       " ' Manchester ',\n",
       " ' Manchester ',\n",
       " ' Riverside ',\n",
       " ' Beirut ',\n",
       " ' August ',\n",
       " ' India ',\n",
       " ' New York ',\n",
       " ' Israel ',\n",
       " ' Mali ',\n",
       " ' August ',\n",
       " ' Afghanistan ',\n",
       " ' China ',\n",
       " ' Rochester ',\n",
       " ' Wonsan ',\n",
       " ' Portland ',\n",
       " ' India ',\n",
       " ' Israel ',\n",
       " ' Paris ',\n",
       " ' Paris ',\n",
       " ' Paris ',\n",
       " ' As ',\n",
       " ' Venezuela ',\n",
       " ' Pensacola ',\n",
       " ' Belarus ',\n",
       " ' Paris ',\n",
       " ' Azerbaijan ',\n",
       " ' University ',\n",
       " ' Togo ',\n",
       " ' United States ',\n",
       " ' We ',\n",
       " ' We ',\n",
       " ' Bethesda ',\n",
       " ' France ',\n",
       " ' Conley ',\n",
       " ' Delta ',\n",
       " ' Azerbaijan ',\n",
       " ' Thailand ',\n",
       " ' Afghanistan ',\n",
       " ' Warsaw ',\n",
       " ' Sudan ',\n",
       " ' Southampton ',\n",
       " ' Santiago ',\n",
       " ' Boulder ',\n",
       " ' France ',\n",
       " ' Wuhan ',\n",
       " ' Elizabeth ',\n",
       " ' France ',\n",
       " ' Tanzania ',\n",
       " ' Belarus ',\n",
       " ' Kabul ',\n",
       " ' Vienna ',\n",
       " ' Vienna ',\n",
       " ' Ethiopia ',\n",
       " ' Paris ',\n",
       " ' Paris ',\n",
       " ' Carolina ',\n",
       " ' Central ',\n",
       " ' Philadelphia ',\n",
       " ' Street ',\n",
       " ' Robinson ',\n",
       " ' Mexico ',\n",
       " ' Jeddah ',\n",
       " ' Montreal ',\n",
       " ' Pantanal ',\n",
       " ' Ethiopia ',\n",
       " ' Morecambe ',\n",
       " ' Bolivia ',\n",
       " ' Martin ',\n",
       " ' Ethiopia ',\n",
       " ' Milwaukee ',\n",
       " ' Bangkok ',\n",
       " ' Paris ',\n",
       " ' Australia ',\n",
       " ' Namibia ',\n",
       " ' Coventry ',\n",
       " ' Canada ',\n",
       " ' Drug ',\n",
       " ' Brussels ',\n",
       " ' New York ',\n",
       " ' Wilmington ']"
      ]
     },
     "execution_count": 238,
     "metadata": {},
     "output_type": "execute_result"
    }
   ],
   "source": [
    "match2"
   ]
  },
  {
   "cell_type": "code",
   "execution_count": 139,
   "metadata": {},
   "outputs": [],
   "source": [
    "df1['Quarter'] = df1['Date'].dt.quarter"
   ]
  },
  {
   "cell_type": "code",
   "execution_count": 164,
   "metadata": {},
   "outputs": [],
   "source": [
    "df1['Month-num'] = df1['Date'].dt.month"
   ]
  },
  {
   "cell_type": "code",
   "execution_count": 185,
   "metadata": {},
   "outputs": [
    {
     "data": {
      "text/html": [
       "<div>\n",
       "<style scoped>\n",
       "    .dataframe tbody tr th:only-of-type {\n",
       "        vertical-align: middle;\n",
       "    }\n",
       "\n",
       "    .dataframe tbody tr th {\n",
       "        vertical-align: top;\n",
       "    }\n",
       "\n",
       "    .dataframe thead th {\n",
       "        text-align: right;\n",
       "    }\n",
       "</style>\n",
       "<table border=\"1\" class=\"dataframe\">\n",
       "  <thead>\n",
       "    <tr style=\"text-align: right;\">\n",
       "      <th></th>\n",
       "      <th>Name</th>\n",
       "      <th>Description</th>\n",
       "      <th>Month</th>\n",
       "      <th>Date</th>\n",
       "      <th>Quarter</th>\n",
       "      <th>Month-num</th>\n",
       "    </tr>\n",
       "  </thead>\n",
       "  <tbody>\n",
       "    <tr>\n",
       "      <th>0</th>\n",
       "      <td>COVID-19 Initial Outbreak</td>\n",
       "      <td>The first case of someone suffering from COVID...</td>\n",
       "      <td>November</td>\n",
       "      <td>2019-11-17</td>\n",
       "      <td>4</td>\n",
       "      <td>11</td>\n",
       "    </tr>\n",
       "    <tr>\n",
       "      <th>1</th>\n",
       "      <td>China first alerts the WHO of a virus in Wuhan</td>\n",
       "      <td>Chinese authorities alerted the World Health O...</td>\n",
       "      <td>December</td>\n",
       "      <td>2019-12-31</td>\n",
       "      <td>4</td>\n",
       "      <td>12</td>\n",
       "    </tr>\n",
       "    <tr>\n",
       "      <th>2</th>\n",
       "      <td>Pope apologises for slapping woman's hand</td>\n",
       "      <td>Pope Francis has apologized for slapping a wom...</td>\n",
       "      <td>January</td>\n",
       "      <td>2020-01-01</td>\n",
       "      <td>1</td>\n",
       "      <td>1</td>\n",
       "    </tr>\n",
       "    <tr>\n",
       "      <th>3</th>\n",
       "      <td>Iranian major general Qasem  Soleimani assassi...</td>\n",
       "      <td>On 3 January 2020, a United States drone strik...</td>\n",
       "      <td>January</td>\n",
       "      <td>2020-01-03</td>\n",
       "      <td>1</td>\n",
       "      <td>1</td>\n",
       "    </tr>\n",
       "    <tr>\n",
       "      <th>4</th>\n",
       "      <td>5.6M Earthquake in Puerto Rico</td>\n",
       "      <td>On January 6, a magnitude 5.8 earthquake struc...</td>\n",
       "      <td>January</td>\n",
       "      <td>2020-01-06</td>\n",
       "      <td>1</td>\n",
       "      <td>1</td>\n",
       "    </tr>\n",
       "    <tr>\n",
       "      <th>5</th>\n",
       "      <td>Ukraine International Airlines Flight 752 shot...</td>\n",
       "      <td>On 8 January 2020, the Boeing 737-800 operatin...</td>\n",
       "      <td>January</td>\n",
       "      <td>2020-01-08</td>\n",
       "      <td>1</td>\n",
       "      <td>1</td>\n",
       "    </tr>\n",
       "    <tr>\n",
       "      <th>6</th>\n",
       "      <td>First coronavirus death in China</td>\n",
       "      <td>China reports its very first death from the dr...</td>\n",
       "      <td>January</td>\n",
       "      <td>2020-01-11</td>\n",
       "      <td>1</td>\n",
       "      <td>1</td>\n",
       "    </tr>\n",
       "    <tr>\n",
       "      <th>7</th>\n",
       "      <td>Severe Weather in Southern US kills 11</td>\n",
       "      <td>On January 12, severe weather (high winds and ...</td>\n",
       "      <td>January</td>\n",
       "      <td>2020-01-12</td>\n",
       "      <td>1</td>\n",
       "      <td>1</td>\n",
       "    </tr>\n",
       "    <tr>\n",
       "      <th>8</th>\n",
       "      <td>Coronavirus reaches Thailand</td>\n",
       "      <td>China reports its very first death from the dr...</td>\n",
       "      <td>January</td>\n",
       "      <td>2020-01-13</td>\n",
       "      <td>1</td>\n",
       "      <td>1</td>\n",
       "    </tr>\n",
       "    <tr>\n",
       "      <th>9</th>\n",
       "      <td>Avalanche in Pakistan, 77 dead</td>\n",
       "      <td>On January 15, multiple avalanches in Pakistan...</td>\n",
       "      <td>January</td>\n",
       "      <td>2020-01-15</td>\n",
       "      <td>1</td>\n",
       "      <td>1</td>\n",
       "    </tr>\n",
       "    <tr>\n",
       "      <th>10</th>\n",
       "      <td>First known COVID-19 cases outside Asia</td>\n",
       "      <td>At this stage the US, France, Australia and So...</td>\n",
       "      <td>January</td>\n",
       "      <td>2020-01-22</td>\n",
       "      <td>1</td>\n",
       "      <td>1</td>\n",
       "    </tr>\n",
       "    <tr>\n",
       "      <th>11</th>\n",
       "      <td>Wuhan Locked Down</td>\n",
       "      <td>The entire city of Wuhan is cut-off from the r...</td>\n",
       "      <td>January</td>\n",
       "      <td>2020-01-23</td>\n",
       "      <td>1</td>\n",
       "      <td>1</td>\n",
       "    </tr>\n",
       "    <tr>\n",
       "      <th>12</th>\n",
       "      <td>6.7M Earthquake in Turkey 22 dead, 1000 wounded</td>\n",
       "      <td>On January 24, an earthquake struck Turkey, ki...</td>\n",
       "      <td>January</td>\n",
       "      <td>2020-01-24</td>\n",
       "      <td>1</td>\n",
       "      <td>1</td>\n",
       "    </tr>\n",
       "    <tr>\n",
       "      <th>13</th>\n",
       "      <td>Kobe Bryant died in  a helicopter crash</td>\n",
       "      <td>NaN</td>\n",
       "      <td>January</td>\n",
       "      <td>2020-01-26</td>\n",
       "      <td>1</td>\n",
       "      <td>1</td>\n",
       "    </tr>\n",
       "    <tr>\n",
       "      <th>14</th>\n",
       "      <td>Virus labelled an \"international concern\" by t...</td>\n",
       "      <td>The virus had gone from being an unidentified ...</td>\n",
       "      <td>January</td>\n",
       "      <td>2020-01-30</td>\n",
       "      <td>1</td>\n",
       "      <td>1</td>\n",
       "    </tr>\n",
       "    <tr>\n",
       "      <th>15</th>\n",
       "      <td>First COVID-19 case in the UK</td>\n",
       "      <td>European countries including the UK begin to r...</td>\n",
       "      <td>January</td>\n",
       "      <td>2020-01-31</td>\n",
       "      <td>1</td>\n",
       "      <td>1</td>\n",
       "    </tr>\n",
       "    <tr>\n",
       "      <th>16</th>\n",
       "      <td>UK Leave the EU (Brexit)</td>\n",
       "      <td>The UK formally left the EU on 31 January 2020...</td>\n",
       "      <td>January</td>\n",
       "      <td>2020-01-31</td>\n",
       "      <td>1</td>\n",
       "      <td>1</td>\n",
       "    </tr>\n",
       "    <tr>\n",
       "      <th>17</th>\n",
       "      <td>Avalanche in Turkey, 41 dead</td>\n",
       "      <td>On February 6, two avalanches struck a Turkey ...</td>\n",
       "      <td>February</td>\n",
       "      <td>2020-02-06</td>\n",
       "      <td>1</td>\n",
       "      <td>2</td>\n",
       "    </tr>\n",
       "    <tr>\n",
       "      <th>18</th>\n",
       "      <td>Pearl River in Mississippi, US, floods</td>\n",
       "      <td>On February 17, the Pearl River in Mississippi...</td>\n",
       "      <td>February</td>\n",
       "      <td>2020-02-17</td>\n",
       "      <td>1</td>\n",
       "      <td>2</td>\n",
       "    </tr>\n",
       "    <tr>\n",
       "      <th>19</th>\n",
       "      <td>Ahmaud Arbery killed while jogging</td>\n",
       "      <td>Ahmaud Arbery was jogging in February when he ...</td>\n",
       "      <td>February</td>\n",
       "      <td>2020-02-23</td>\n",
       "      <td>1</td>\n",
       "      <td>2</td>\n",
       "    </tr>\n",
       "    <tr>\n",
       "      <th>20</th>\n",
       "      <td>Deadly Tornadoes Sweep Tennessee.  State of em...</td>\n",
       "      <td>On March 3, two tornadoes swept through Tennes...</td>\n",
       "      <td>March</td>\n",
       "      <td>2020-03-03</td>\n",
       "      <td>1</td>\n",
       "      <td>3</td>\n",
       "    </tr>\n",
       "    <tr>\n",
       "      <th>21</th>\n",
       "      <td>Heavy Rains in Brazil, 32 dead</td>\n",
       "      <td>On March 5, heavy rains occurred in Brazil, ki...</td>\n",
       "      <td>March</td>\n",
       "      <td>2020-03-05</td>\n",
       "      <td>1</td>\n",
       "      <td>3</td>\n",
       "    </tr>\n",
       "    <tr>\n",
       "      <th>22</th>\n",
       "      <td>Italy on lockdown</td>\n",
       "      <td>16 million people in northern Italy are places...</td>\n",
       "      <td>March</td>\n",
       "      <td>2020-03-08</td>\n",
       "      <td>1</td>\n",
       "      <td>3</td>\n",
       "    </tr>\n",
       "    <tr>\n",
       "      <th>23</th>\n",
       "      <td>All sport in Italy suspended because of outbreak</td>\n",
       "      <td>All sport in Italy has been suspended until at...</td>\n",
       "      <td>March</td>\n",
       "      <td>2020-03-09</td>\n",
       "      <td>1</td>\n",
       "      <td>3</td>\n",
       "    </tr>\n",
       "    <tr>\n",
       "      <th>24</th>\n",
       "      <td>WHO declared the coronavirus outbreak a pandemic.</td>\n",
       "      <td>A day that will likely be remembered for a lon...</td>\n",
       "      <td>March</td>\n",
       "      <td>2020-03-11</td>\n",
       "      <td>1</td>\n",
       "      <td>3</td>\n",
       "    </tr>\n",
       "  </tbody>\n",
       "</table>\n",
       "</div>"
      ],
      "text/plain": [
       "                                                 Name  \\\n",
       "0                           COVID-19 Initial Outbreak   \n",
       "1      China first alerts the WHO of a virus in Wuhan   \n",
       "2           Pope apologises for slapping woman's hand   \n",
       "3   Iranian major general Qasem  Soleimani assassi...   \n",
       "4                      5.6M Earthquake in Puerto Rico   \n",
       "5   Ukraine International Airlines Flight 752 shot...   \n",
       "6                    First coronavirus death in China   \n",
       "7              Severe Weather in Southern US kills 11   \n",
       "8                        Coronavirus reaches Thailand   \n",
       "9                      Avalanche in Pakistan, 77 dead   \n",
       "10            First known COVID-19 cases outside Asia   \n",
       "11                                  Wuhan Locked Down   \n",
       "12    6.7M Earthquake in Turkey 22 dead, 1000 wounded   \n",
       "13            Kobe Bryant died in  a helicopter crash   \n",
       "14  Virus labelled an \"international concern\" by t...   \n",
       "15                      First COVID-19 case in the UK   \n",
       "16                           UK Leave the EU (Brexit)   \n",
       "17                       Avalanche in Turkey, 41 dead   \n",
       "18             Pearl River in Mississippi, US, floods   \n",
       "19                 Ahmaud Arbery killed while jogging   \n",
       "20  Deadly Tornadoes Sweep Tennessee.  State of em...   \n",
       "21                     Heavy Rains in Brazil, 32 dead   \n",
       "22                                  Italy on lockdown   \n",
       "23   All sport in Italy suspended because of outbreak   \n",
       "24  WHO declared the coronavirus outbreak a pandemic.   \n",
       "\n",
       "                                          Description     Month       Date  \\\n",
       "0   The first case of someone suffering from COVID...  November 2019-11-17   \n",
       "1   Chinese authorities alerted the World Health O...  December 2019-12-31   \n",
       "2   Pope Francis has apologized for slapping a wom...   January 2020-01-01   \n",
       "3   On 3 January 2020, a United States drone strik...   January 2020-01-03   \n",
       "4   On January 6, a magnitude 5.8 earthquake struc...   January 2020-01-06   \n",
       "5   On 8 January 2020, the Boeing 737-800 operatin...   January 2020-01-08   \n",
       "6   China reports its very first death from the dr...   January 2020-01-11   \n",
       "7   On January 12, severe weather (high winds and ...   January 2020-01-12   \n",
       "8   China reports its very first death from the dr...   January 2020-01-13   \n",
       "9   On January 15, multiple avalanches in Pakistan...   January 2020-01-15   \n",
       "10  At this stage the US, France, Australia and So...   January 2020-01-22   \n",
       "11  The entire city of Wuhan is cut-off from the r...   January 2020-01-23   \n",
       "12  On January 24, an earthquake struck Turkey, ki...   January 2020-01-24   \n",
       "13                                                NaN   January 2020-01-26   \n",
       "14  The virus had gone from being an unidentified ...   January 2020-01-30   \n",
       "15  European countries including the UK begin to r...   January 2020-01-31   \n",
       "16  The UK formally left the EU on 31 January 2020...   January 2020-01-31   \n",
       "17  On February 6, two avalanches struck a Turkey ...  February 2020-02-06   \n",
       "18  On February 17, the Pearl River in Mississippi...  February 2020-02-17   \n",
       "19  Ahmaud Arbery was jogging in February when he ...  February 2020-02-23   \n",
       "20  On March 3, two tornadoes swept through Tennes...     March 2020-03-03   \n",
       "21  On March 5, heavy rains occurred in Brazil, ki...     March 2020-03-05   \n",
       "22  16 million people in northern Italy are places...     March 2020-03-08   \n",
       "23  All sport in Italy has been suspended until at...     March 2020-03-09   \n",
       "24  A day that will likely be remembered for a lon...     March 2020-03-11   \n",
       "\n",
       "    Quarter  Month-num  \n",
       "0         4         11  \n",
       "1         4         12  \n",
       "2         1          1  \n",
       "3         1          1  \n",
       "4         1          1  \n",
       "5         1          1  \n",
       "6         1          1  \n",
       "7         1          1  \n",
       "8         1          1  \n",
       "9         1          1  \n",
       "10        1          1  \n",
       "11        1          1  \n",
       "12        1          1  \n",
       "13        1          1  \n",
       "14        1          1  \n",
       "15        1          1  \n",
       "16        1          1  \n",
       "17        1          2  \n",
       "18        1          2  \n",
       "19        1          2  \n",
       "20        1          3  \n",
       "21        1          3  \n",
       "22        1          3  \n",
       "23        1          3  \n",
       "24        1          3  "
      ]
     },
     "execution_count": 185,
     "metadata": {},
     "output_type": "execute_result"
    }
   ],
   "source": [
    "df1.head(25)"
   ]
  },
  {
   "cell_type": "code",
   "execution_count": 453,
   "metadata": {},
   "outputs": [
    {
     "data": {
      "application/vnd.plotly.v1+json": {
       "config": {
        "plotlyServerURL": "https://plot.ly"
       },
       "data": [
        {
         "branchvalues": "total",
         "domain": {
          "x": [
           0,
           1
          ],
          "y": [
           0,
           1
          ]
         },
         "hovertemplate": "<b>Quarter: %{label} </b> <br> Number of Unfortunate Events: %{value}",
         "ids": [
          "2/April",
          "3/August",
          "4/December",
          "1/February",
          "1/January",
          "3/July",
          "2/June",
          "1/March",
          "2/May",
          "4/November",
          "4/October",
          "3/September",
          "1",
          "2",
          "3",
          "4"
         ],
         "insidetextorientation": "radial",
         "labels": [
          "April",
          "August",
          "December",
          "February",
          "January",
          "July",
          "June",
          "March",
          "May",
          "November",
          "October",
          "September",
          "1",
          "2",
          "3",
          "4"
         ],
         "marker": {
          "colors": [
           "Quarter"
          ],
          "line": {
           "color": "#000000",
           "width": 1
          }
         },
         "name": "",
         "parents": [
          "2",
          "3",
          "4",
          "1",
          "1",
          "3",
          "2",
          "1",
          "2",
          "4",
          "4",
          "3",
          "",
          "",
          "",
          ""
         ],
         "type": "sunburst",
         "values": [
          11,
          11,
          11,
          3,
          15,
          19,
          37,
          11,
          13,
          32,
          22,
          19,
          29,
          61,
          49,
          65
         ]
        }
       ],
       "layout": {
        "legend": {
         "tracegroupgap": 0
        },
        "paper_bgcolor": "rgba(101,200,150,0.2)",
        "plot_bgcolor": "rgba(0,0,0,0)",
        "template": {
         "data": {
          "bar": [
           {
            "error_x": {
             "color": "#2a3f5f"
            },
            "error_y": {
             "color": "#2a3f5f"
            },
            "marker": {
             "line": {
              "color": "#E5ECF6",
              "width": 0.5
             }
            },
            "type": "bar"
           }
          ],
          "barpolar": [
           {
            "marker": {
             "line": {
              "color": "#E5ECF6",
              "width": 0.5
             }
            },
            "type": "barpolar"
           }
          ],
          "carpet": [
           {
            "aaxis": {
             "endlinecolor": "#2a3f5f",
             "gridcolor": "white",
             "linecolor": "white",
             "minorgridcolor": "white",
             "startlinecolor": "#2a3f5f"
            },
            "baxis": {
             "endlinecolor": "#2a3f5f",
             "gridcolor": "white",
             "linecolor": "white",
             "minorgridcolor": "white",
             "startlinecolor": "#2a3f5f"
            },
            "type": "carpet"
           }
          ],
          "choropleth": [
           {
            "colorbar": {
             "outlinewidth": 0,
             "ticks": ""
            },
            "type": "choropleth"
           }
          ],
          "contour": [
           {
            "colorbar": {
             "outlinewidth": 0,
             "ticks": ""
            },
            "colorscale": [
             [
              0,
              "#0d0887"
             ],
             [
              0.1111111111111111,
              "#46039f"
             ],
             [
              0.2222222222222222,
              "#7201a8"
             ],
             [
              0.3333333333333333,
              "#9c179e"
             ],
             [
              0.4444444444444444,
              "#bd3786"
             ],
             [
              0.5555555555555556,
              "#d8576b"
             ],
             [
              0.6666666666666666,
              "#ed7953"
             ],
             [
              0.7777777777777778,
              "#fb9f3a"
             ],
             [
              0.8888888888888888,
              "#fdca26"
             ],
             [
              1,
              "#f0f921"
             ]
            ],
            "type": "contour"
           }
          ],
          "contourcarpet": [
           {
            "colorbar": {
             "outlinewidth": 0,
             "ticks": ""
            },
            "type": "contourcarpet"
           }
          ],
          "heatmap": [
           {
            "colorbar": {
             "outlinewidth": 0,
             "ticks": ""
            },
            "colorscale": [
             [
              0,
              "#0d0887"
             ],
             [
              0.1111111111111111,
              "#46039f"
             ],
             [
              0.2222222222222222,
              "#7201a8"
             ],
             [
              0.3333333333333333,
              "#9c179e"
             ],
             [
              0.4444444444444444,
              "#bd3786"
             ],
             [
              0.5555555555555556,
              "#d8576b"
             ],
             [
              0.6666666666666666,
              "#ed7953"
             ],
             [
              0.7777777777777778,
              "#fb9f3a"
             ],
             [
              0.8888888888888888,
              "#fdca26"
             ],
             [
              1,
              "#f0f921"
             ]
            ],
            "type": "heatmap"
           }
          ],
          "heatmapgl": [
           {
            "colorbar": {
             "outlinewidth": 0,
             "ticks": ""
            },
            "colorscale": [
             [
              0,
              "#0d0887"
             ],
             [
              0.1111111111111111,
              "#46039f"
             ],
             [
              0.2222222222222222,
              "#7201a8"
             ],
             [
              0.3333333333333333,
              "#9c179e"
             ],
             [
              0.4444444444444444,
              "#bd3786"
             ],
             [
              0.5555555555555556,
              "#d8576b"
             ],
             [
              0.6666666666666666,
              "#ed7953"
             ],
             [
              0.7777777777777778,
              "#fb9f3a"
             ],
             [
              0.8888888888888888,
              "#fdca26"
             ],
             [
              1,
              "#f0f921"
             ]
            ],
            "type": "heatmapgl"
           }
          ],
          "histogram": [
           {
            "marker": {
             "colorbar": {
              "outlinewidth": 0,
              "ticks": ""
             }
            },
            "type": "histogram"
           }
          ],
          "histogram2d": [
           {
            "colorbar": {
             "outlinewidth": 0,
             "ticks": ""
            },
            "colorscale": [
             [
              0,
              "#0d0887"
             ],
             [
              0.1111111111111111,
              "#46039f"
             ],
             [
              0.2222222222222222,
              "#7201a8"
             ],
             [
              0.3333333333333333,
              "#9c179e"
             ],
             [
              0.4444444444444444,
              "#bd3786"
             ],
             [
              0.5555555555555556,
              "#d8576b"
             ],
             [
              0.6666666666666666,
              "#ed7953"
             ],
             [
              0.7777777777777778,
              "#fb9f3a"
             ],
             [
              0.8888888888888888,
              "#fdca26"
             ],
             [
              1,
              "#f0f921"
             ]
            ],
            "type": "histogram2d"
           }
          ],
          "histogram2dcontour": [
           {
            "colorbar": {
             "outlinewidth": 0,
             "ticks": ""
            },
            "colorscale": [
             [
              0,
              "#0d0887"
             ],
             [
              0.1111111111111111,
              "#46039f"
             ],
             [
              0.2222222222222222,
              "#7201a8"
             ],
             [
              0.3333333333333333,
              "#9c179e"
             ],
             [
              0.4444444444444444,
              "#bd3786"
             ],
             [
              0.5555555555555556,
              "#d8576b"
             ],
             [
              0.6666666666666666,
              "#ed7953"
             ],
             [
              0.7777777777777778,
              "#fb9f3a"
             ],
             [
              0.8888888888888888,
              "#fdca26"
             ],
             [
              1,
              "#f0f921"
             ]
            ],
            "type": "histogram2dcontour"
           }
          ],
          "mesh3d": [
           {
            "colorbar": {
             "outlinewidth": 0,
             "ticks": ""
            },
            "type": "mesh3d"
           }
          ],
          "parcoords": [
           {
            "line": {
             "colorbar": {
              "outlinewidth": 0,
              "ticks": ""
             }
            },
            "type": "parcoords"
           }
          ],
          "pie": [
           {
            "automargin": true,
            "type": "pie"
           }
          ],
          "scatter": [
           {
            "marker": {
             "colorbar": {
              "outlinewidth": 0,
              "ticks": ""
             }
            },
            "type": "scatter"
           }
          ],
          "scatter3d": [
           {
            "line": {
             "colorbar": {
              "outlinewidth": 0,
              "ticks": ""
             }
            },
            "marker": {
             "colorbar": {
              "outlinewidth": 0,
              "ticks": ""
             }
            },
            "type": "scatter3d"
           }
          ],
          "scattercarpet": [
           {
            "marker": {
             "colorbar": {
              "outlinewidth": 0,
              "ticks": ""
             }
            },
            "type": "scattercarpet"
           }
          ],
          "scattergeo": [
           {
            "marker": {
             "colorbar": {
              "outlinewidth": 0,
              "ticks": ""
             }
            },
            "type": "scattergeo"
           }
          ],
          "scattergl": [
           {
            "marker": {
             "colorbar": {
              "outlinewidth": 0,
              "ticks": ""
             }
            },
            "type": "scattergl"
           }
          ],
          "scattermapbox": [
           {
            "marker": {
             "colorbar": {
              "outlinewidth": 0,
              "ticks": ""
             }
            },
            "type": "scattermapbox"
           }
          ],
          "scatterpolar": [
           {
            "marker": {
             "colorbar": {
              "outlinewidth": 0,
              "ticks": ""
             }
            },
            "type": "scatterpolar"
           }
          ],
          "scatterpolargl": [
           {
            "marker": {
             "colorbar": {
              "outlinewidth": 0,
              "ticks": ""
             }
            },
            "type": "scatterpolargl"
           }
          ],
          "scatterternary": [
           {
            "marker": {
             "colorbar": {
              "outlinewidth": 0,
              "ticks": ""
             }
            },
            "type": "scatterternary"
           }
          ],
          "surface": [
           {
            "colorbar": {
             "outlinewidth": 0,
             "ticks": ""
            },
            "colorscale": [
             [
              0,
              "#0d0887"
             ],
             [
              0.1111111111111111,
              "#46039f"
             ],
             [
              0.2222222222222222,
              "#7201a8"
             ],
             [
              0.3333333333333333,
              "#9c179e"
             ],
             [
              0.4444444444444444,
              "#bd3786"
             ],
             [
              0.5555555555555556,
              "#d8576b"
             ],
             [
              0.6666666666666666,
              "#ed7953"
             ],
             [
              0.7777777777777778,
              "#fb9f3a"
             ],
             [
              0.8888888888888888,
              "#fdca26"
             ],
             [
              1,
              "#f0f921"
             ]
            ],
            "type": "surface"
           }
          ],
          "table": [
           {
            "cells": {
             "fill": {
              "color": "#EBF0F8"
             },
             "line": {
              "color": "white"
             }
            },
            "header": {
             "fill": {
              "color": "#C8D4E3"
             },
             "line": {
              "color": "white"
             }
            },
            "type": "table"
           }
          ]
         },
         "layout": {
          "annotationdefaults": {
           "arrowcolor": "#2a3f5f",
           "arrowhead": 0,
           "arrowwidth": 1
          },
          "coloraxis": {
           "colorbar": {
            "outlinewidth": 0,
            "ticks": ""
           }
          },
          "colorscale": {
           "diverging": [
            [
             0,
             "#8e0152"
            ],
            [
             0.1,
             "#c51b7d"
            ],
            [
             0.2,
             "#de77ae"
            ],
            [
             0.3,
             "#f1b6da"
            ],
            [
             0.4,
             "#fde0ef"
            ],
            [
             0.5,
             "#f7f7f7"
            ],
            [
             0.6,
             "#e6f5d0"
            ],
            [
             0.7,
             "#b8e186"
            ],
            [
             0.8,
             "#7fbc41"
            ],
            [
             0.9,
             "#4d9221"
            ],
            [
             1,
             "#276419"
            ]
           ],
           "sequential": [
            [
             0,
             "#0d0887"
            ],
            [
             0.1111111111111111,
             "#46039f"
            ],
            [
             0.2222222222222222,
             "#7201a8"
            ],
            [
             0.3333333333333333,
             "#9c179e"
            ],
            [
             0.4444444444444444,
             "#bd3786"
            ],
            [
             0.5555555555555556,
             "#d8576b"
            ],
            [
             0.6666666666666666,
             "#ed7953"
            ],
            [
             0.7777777777777778,
             "#fb9f3a"
            ],
            [
             0.8888888888888888,
             "#fdca26"
            ],
            [
             1,
             "#f0f921"
            ]
           ],
           "sequentialminus": [
            [
             0,
             "#0d0887"
            ],
            [
             0.1111111111111111,
             "#46039f"
            ],
            [
             0.2222222222222222,
             "#7201a8"
            ],
            [
             0.3333333333333333,
             "#9c179e"
            ],
            [
             0.4444444444444444,
             "#bd3786"
            ],
            [
             0.5555555555555556,
             "#d8576b"
            ],
            [
             0.6666666666666666,
             "#ed7953"
            ],
            [
             0.7777777777777778,
             "#fb9f3a"
            ],
            [
             0.8888888888888888,
             "#fdca26"
            ],
            [
             1,
             "#f0f921"
            ]
           ]
          },
          "colorway": [
           "#636efa",
           "#EF553B",
           "#00cc96",
           "#ab63fa",
           "#FFA15A",
           "#19d3f3",
           "#FF6692",
           "#B6E880",
           "#FF97FF",
           "#FECB52"
          ],
          "font": {
           "color": "#2a3f5f"
          },
          "geo": {
           "bgcolor": "white",
           "lakecolor": "white",
           "landcolor": "#E5ECF6",
           "showlakes": true,
           "showland": true,
           "subunitcolor": "white"
          },
          "hoverlabel": {
           "align": "left"
          },
          "hovermode": "closest",
          "mapbox": {
           "style": "light"
          },
          "paper_bgcolor": "white",
          "plot_bgcolor": "#E5ECF6",
          "polar": {
           "angularaxis": {
            "gridcolor": "white",
            "linecolor": "white",
            "ticks": ""
           },
           "bgcolor": "#E5ECF6",
           "radialaxis": {
            "gridcolor": "white",
            "linecolor": "white",
            "ticks": ""
           }
          },
          "scene": {
           "xaxis": {
            "backgroundcolor": "#E5ECF6",
            "gridcolor": "white",
            "gridwidth": 2,
            "linecolor": "white",
            "showbackground": true,
            "ticks": "",
            "zerolinecolor": "white"
           },
           "yaxis": {
            "backgroundcolor": "#E5ECF6",
            "gridcolor": "white",
            "gridwidth": 2,
            "linecolor": "white",
            "showbackground": true,
            "ticks": "",
            "zerolinecolor": "white"
           },
           "zaxis": {
            "backgroundcolor": "#E5ECF6",
            "gridcolor": "white",
            "gridwidth": 2,
            "linecolor": "white",
            "showbackground": true,
            "ticks": "",
            "zerolinecolor": "white"
           }
          },
          "shapedefaults": {
           "line": {
            "color": "#2a3f5f"
           }
          },
          "ternary": {
           "aaxis": {
            "gridcolor": "white",
            "linecolor": "white",
            "ticks": ""
           },
           "baxis": {
            "gridcolor": "white",
            "linecolor": "white",
            "ticks": ""
           },
           "bgcolor": "#E5ECF6",
           "caxis": {
            "gridcolor": "white",
            "linecolor": "white",
            "ticks": ""
           }
          },
          "title": {
           "x": 0.05
          },
          "xaxis": {
           "automargin": true,
           "gridcolor": "white",
           "linecolor": "white",
           "ticks": "",
           "title": {
            "standoff": 15
           },
           "zerolinecolor": "white",
           "zerolinewidth": 2
          },
          "yaxis": {
           "automargin": true,
           "gridcolor": "white",
           "linecolor": "white",
           "ticks": "",
           "title": {
            "standoff": 15
           },
           "zerolinecolor": "white",
           "zerolinewidth": 2
          }
         }
        },
        "title": {
         "text": "Quarterly Depiction of Events around the World"
        }
       }
      },
      "text/html": [
       "<div>\n",
       "        \n",
       "        \n",
       "            <div id=\"d6cb3145-7cc8-405f-b62d-093562aa754a\" class=\"plotly-graph-div\" style=\"height:525px; width:100%;\"></div>\n",
       "            <script type=\"text/javascript\">\n",
       "                require([\"plotly\"], function(Plotly) {\n",
       "                    window.PLOTLYENV=window.PLOTLYENV || {};\n",
       "                    \n",
       "                if (document.getElementById(\"d6cb3145-7cc8-405f-b62d-093562aa754a\")) {\n",
       "                    Plotly.newPlot(\n",
       "                        'd6cb3145-7cc8-405f-b62d-093562aa754a',\n",
       "                        [{\"branchvalues\": \"total\", \"domain\": {\"x\": [0.0, 1.0], \"y\": [0.0, 1.0]}, \"hovertemplate\": \"<b>Quarter: %{label} </b> <br> Number of Unfortunate Events: %{value}\", \"ids\": [\"2/April\", \"3/August\", \"4/December\", \"1/February\", \"1/January\", \"3/July\", \"2/June\", \"1/March\", \"2/May\", \"4/November\", \"4/October\", \"3/September\", \"1\", \"2\", \"3\", \"4\"], \"insidetextorientation\": \"radial\", \"labels\": [\"April\", \"August\", \"December\", \"February\", \"January\", \"July\", \"June\", \"March\", \"May\", \"November\", \"October\", \"September\", \"1\", \"2\", \"3\", \"4\"], \"marker\": {\"colors\": [\"Quarter\"], \"line\": {\"color\": \"#000000\", \"width\": 1}}, \"name\": \"\", \"parents\": [\"2\", \"3\", \"4\", \"1\", \"1\", \"3\", \"2\", \"1\", \"2\", \"4\", \"4\", \"3\", \"\", \"\", \"\", \"\"], \"type\": \"sunburst\", \"values\": [11, 11, 11, 3, 15, 19, 37, 11, 13, 32, 22, 19, 29, 61, 49, 65]}],\n",
       "                        {\"legend\": {\"tracegroupgap\": 0}, \"paper_bgcolor\": \"rgba(101,200,150,0.2)\", \"plot_bgcolor\": \"rgba(0,0,0,0)\", \"template\": {\"data\": {\"bar\": [{\"error_x\": {\"color\": \"#2a3f5f\"}, \"error_y\": {\"color\": \"#2a3f5f\"}, \"marker\": {\"line\": {\"color\": \"#E5ECF6\", \"width\": 0.5}}, \"type\": \"bar\"}], \"barpolar\": [{\"marker\": {\"line\": {\"color\": \"#E5ECF6\", \"width\": 0.5}}, \"type\": \"barpolar\"}], \"carpet\": [{\"aaxis\": {\"endlinecolor\": \"#2a3f5f\", \"gridcolor\": \"white\", \"linecolor\": \"white\", \"minorgridcolor\": \"white\", \"startlinecolor\": \"#2a3f5f\"}, \"baxis\": {\"endlinecolor\": \"#2a3f5f\", \"gridcolor\": \"white\", \"linecolor\": \"white\", \"minorgridcolor\": \"white\", \"startlinecolor\": \"#2a3f5f\"}, \"type\": \"carpet\"}], \"choropleth\": [{\"colorbar\": {\"outlinewidth\": 0, \"ticks\": \"\"}, \"type\": \"choropleth\"}], \"contour\": [{\"colorbar\": {\"outlinewidth\": 0, \"ticks\": \"\"}, \"colorscale\": [[0.0, \"#0d0887\"], [0.1111111111111111, \"#46039f\"], [0.2222222222222222, \"#7201a8\"], [0.3333333333333333, \"#9c179e\"], [0.4444444444444444, \"#bd3786\"], [0.5555555555555556, \"#d8576b\"], [0.6666666666666666, \"#ed7953\"], [0.7777777777777778, \"#fb9f3a\"], [0.8888888888888888, \"#fdca26\"], [1.0, \"#f0f921\"]], \"type\": \"contour\"}], \"contourcarpet\": [{\"colorbar\": {\"outlinewidth\": 0, \"ticks\": \"\"}, \"type\": \"contourcarpet\"}], \"heatmap\": [{\"colorbar\": {\"outlinewidth\": 0, \"ticks\": \"\"}, \"colorscale\": [[0.0, \"#0d0887\"], [0.1111111111111111, \"#46039f\"], [0.2222222222222222, \"#7201a8\"], [0.3333333333333333, \"#9c179e\"], [0.4444444444444444, \"#bd3786\"], [0.5555555555555556, \"#d8576b\"], [0.6666666666666666, \"#ed7953\"], [0.7777777777777778, \"#fb9f3a\"], [0.8888888888888888, \"#fdca26\"], [1.0, \"#f0f921\"]], \"type\": \"heatmap\"}], \"heatmapgl\": [{\"colorbar\": {\"outlinewidth\": 0, \"ticks\": \"\"}, \"colorscale\": [[0.0, \"#0d0887\"], [0.1111111111111111, \"#46039f\"], [0.2222222222222222, \"#7201a8\"], [0.3333333333333333, \"#9c179e\"], [0.4444444444444444, \"#bd3786\"], [0.5555555555555556, \"#d8576b\"], [0.6666666666666666, \"#ed7953\"], [0.7777777777777778, \"#fb9f3a\"], [0.8888888888888888, \"#fdca26\"], [1.0, \"#f0f921\"]], \"type\": \"heatmapgl\"}], \"histogram\": [{\"marker\": {\"colorbar\": {\"outlinewidth\": 0, \"ticks\": \"\"}}, \"type\": \"histogram\"}], \"histogram2d\": [{\"colorbar\": {\"outlinewidth\": 0, \"ticks\": \"\"}, \"colorscale\": [[0.0, \"#0d0887\"], [0.1111111111111111, \"#46039f\"], [0.2222222222222222, \"#7201a8\"], [0.3333333333333333, \"#9c179e\"], [0.4444444444444444, \"#bd3786\"], [0.5555555555555556, \"#d8576b\"], [0.6666666666666666, \"#ed7953\"], [0.7777777777777778, \"#fb9f3a\"], [0.8888888888888888, \"#fdca26\"], [1.0, \"#f0f921\"]], \"type\": \"histogram2d\"}], \"histogram2dcontour\": [{\"colorbar\": {\"outlinewidth\": 0, \"ticks\": \"\"}, \"colorscale\": [[0.0, \"#0d0887\"], [0.1111111111111111, \"#46039f\"], [0.2222222222222222, \"#7201a8\"], [0.3333333333333333, \"#9c179e\"], [0.4444444444444444, \"#bd3786\"], [0.5555555555555556, \"#d8576b\"], [0.6666666666666666, \"#ed7953\"], [0.7777777777777778, \"#fb9f3a\"], [0.8888888888888888, \"#fdca26\"], [1.0, \"#f0f921\"]], \"type\": \"histogram2dcontour\"}], \"mesh3d\": [{\"colorbar\": {\"outlinewidth\": 0, \"ticks\": \"\"}, \"type\": \"mesh3d\"}], \"parcoords\": [{\"line\": {\"colorbar\": {\"outlinewidth\": 0, \"ticks\": \"\"}}, \"type\": \"parcoords\"}], \"pie\": [{\"automargin\": true, \"type\": \"pie\"}], \"scatter\": [{\"marker\": {\"colorbar\": {\"outlinewidth\": 0, \"ticks\": \"\"}}, \"type\": \"scatter\"}], \"scatter3d\": [{\"line\": {\"colorbar\": {\"outlinewidth\": 0, \"ticks\": \"\"}}, \"marker\": {\"colorbar\": {\"outlinewidth\": 0, \"ticks\": \"\"}}, \"type\": \"scatter3d\"}], \"scattercarpet\": [{\"marker\": {\"colorbar\": {\"outlinewidth\": 0, \"ticks\": \"\"}}, \"type\": \"scattercarpet\"}], \"scattergeo\": [{\"marker\": {\"colorbar\": {\"outlinewidth\": 0, \"ticks\": \"\"}}, \"type\": \"scattergeo\"}], \"scattergl\": [{\"marker\": {\"colorbar\": {\"outlinewidth\": 0, \"ticks\": \"\"}}, \"type\": \"scattergl\"}], \"scattermapbox\": [{\"marker\": {\"colorbar\": {\"outlinewidth\": 0, \"ticks\": \"\"}}, \"type\": \"scattermapbox\"}], \"scatterpolar\": [{\"marker\": {\"colorbar\": {\"outlinewidth\": 0, \"ticks\": \"\"}}, \"type\": \"scatterpolar\"}], \"scatterpolargl\": [{\"marker\": {\"colorbar\": {\"outlinewidth\": 0, \"ticks\": \"\"}}, \"type\": \"scatterpolargl\"}], \"scatterternary\": [{\"marker\": {\"colorbar\": {\"outlinewidth\": 0, \"ticks\": \"\"}}, \"type\": \"scatterternary\"}], \"surface\": [{\"colorbar\": {\"outlinewidth\": 0, \"ticks\": \"\"}, \"colorscale\": [[0.0, \"#0d0887\"], [0.1111111111111111, \"#46039f\"], [0.2222222222222222, \"#7201a8\"], [0.3333333333333333, \"#9c179e\"], [0.4444444444444444, \"#bd3786\"], [0.5555555555555556, \"#d8576b\"], [0.6666666666666666, \"#ed7953\"], [0.7777777777777778, \"#fb9f3a\"], [0.8888888888888888, \"#fdca26\"], [1.0, \"#f0f921\"]], \"type\": \"surface\"}], \"table\": [{\"cells\": {\"fill\": {\"color\": \"#EBF0F8\"}, \"line\": {\"color\": \"white\"}}, \"header\": {\"fill\": {\"color\": \"#C8D4E3\"}, \"line\": {\"color\": \"white\"}}, \"type\": \"table\"}]}, \"layout\": {\"annotationdefaults\": {\"arrowcolor\": \"#2a3f5f\", \"arrowhead\": 0, \"arrowwidth\": 1}, \"coloraxis\": {\"colorbar\": {\"outlinewidth\": 0, \"ticks\": \"\"}}, \"colorscale\": {\"diverging\": [[0, \"#8e0152\"], [0.1, \"#c51b7d\"], [0.2, \"#de77ae\"], [0.3, \"#f1b6da\"], [0.4, \"#fde0ef\"], [0.5, \"#f7f7f7\"], [0.6, \"#e6f5d0\"], [0.7, \"#b8e186\"], [0.8, \"#7fbc41\"], [0.9, \"#4d9221\"], [1, \"#276419\"]], \"sequential\": [[0.0, \"#0d0887\"], [0.1111111111111111, \"#46039f\"], [0.2222222222222222, \"#7201a8\"], [0.3333333333333333, \"#9c179e\"], [0.4444444444444444, \"#bd3786\"], [0.5555555555555556, \"#d8576b\"], [0.6666666666666666, \"#ed7953\"], [0.7777777777777778, \"#fb9f3a\"], [0.8888888888888888, \"#fdca26\"], [1.0, \"#f0f921\"]], \"sequentialminus\": [[0.0, \"#0d0887\"], [0.1111111111111111, \"#46039f\"], [0.2222222222222222, \"#7201a8\"], [0.3333333333333333, \"#9c179e\"], [0.4444444444444444, \"#bd3786\"], [0.5555555555555556, \"#d8576b\"], [0.6666666666666666, \"#ed7953\"], [0.7777777777777778, \"#fb9f3a\"], [0.8888888888888888, \"#fdca26\"], [1.0, \"#f0f921\"]]}, \"colorway\": [\"#636efa\", \"#EF553B\", \"#00cc96\", \"#ab63fa\", \"#FFA15A\", \"#19d3f3\", \"#FF6692\", \"#B6E880\", \"#FF97FF\", \"#FECB52\"], \"font\": {\"color\": \"#2a3f5f\"}, \"geo\": {\"bgcolor\": \"white\", \"lakecolor\": \"white\", \"landcolor\": \"#E5ECF6\", \"showlakes\": true, \"showland\": true, \"subunitcolor\": \"white\"}, \"hoverlabel\": {\"align\": \"left\"}, \"hovermode\": \"closest\", \"mapbox\": {\"style\": \"light\"}, \"paper_bgcolor\": \"white\", \"plot_bgcolor\": \"#E5ECF6\", \"polar\": {\"angularaxis\": {\"gridcolor\": \"white\", \"linecolor\": \"white\", \"ticks\": \"\"}, \"bgcolor\": \"#E5ECF6\", \"radialaxis\": {\"gridcolor\": \"white\", \"linecolor\": \"white\", \"ticks\": \"\"}}, \"scene\": {\"xaxis\": {\"backgroundcolor\": \"#E5ECF6\", \"gridcolor\": \"white\", \"gridwidth\": 2, \"linecolor\": \"white\", \"showbackground\": true, \"ticks\": \"\", \"zerolinecolor\": \"white\"}, \"yaxis\": {\"backgroundcolor\": \"#E5ECF6\", \"gridcolor\": \"white\", \"gridwidth\": 2, \"linecolor\": \"white\", \"showbackground\": true, \"ticks\": \"\", \"zerolinecolor\": \"white\"}, \"zaxis\": {\"backgroundcolor\": \"#E5ECF6\", \"gridcolor\": \"white\", \"gridwidth\": 2, \"linecolor\": \"white\", \"showbackground\": true, \"ticks\": \"\", \"zerolinecolor\": \"white\"}}, \"shapedefaults\": {\"line\": {\"color\": \"#2a3f5f\"}}, \"ternary\": {\"aaxis\": {\"gridcolor\": \"white\", \"linecolor\": \"white\", \"ticks\": \"\"}, \"baxis\": {\"gridcolor\": \"white\", \"linecolor\": \"white\", \"ticks\": \"\"}, \"bgcolor\": \"#E5ECF6\", \"caxis\": {\"gridcolor\": \"white\", \"linecolor\": \"white\", \"ticks\": \"\"}}, \"title\": {\"x\": 0.05}, \"xaxis\": {\"automargin\": true, \"gridcolor\": \"white\", \"linecolor\": \"white\", \"ticks\": \"\", \"title\": {\"standoff\": 15}, \"zerolinecolor\": \"white\", \"zerolinewidth\": 2}, \"yaxis\": {\"automargin\": true, \"gridcolor\": \"white\", \"linecolor\": \"white\", \"ticks\": \"\", \"title\": {\"standoff\": 15}, \"zerolinecolor\": \"white\", \"zerolinewidth\": 2}}}, \"title\": {\"text\": \"Quarterly Depiction of Events around the World\"}},\n",
       "                        {\"responsive\": true}\n",
       "                    ).then(function(){\n",
       "                            \n",
       "var gd = document.getElementById('d6cb3145-7cc8-405f-b62d-093562aa754a');\n",
       "var x = new MutationObserver(function (mutations, observer) {{\n",
       "        var display = window.getComputedStyle(gd).display;\n",
       "        if (!display || display === 'none') {{\n",
       "            console.log([gd, 'removed!']);\n",
       "            Plotly.purge(gd);\n",
       "            observer.disconnect();\n",
       "        }}\n",
       "}});\n",
       "\n",
       "// Listen for the removal of the full notebook cells\n",
       "var notebookContainer = gd.closest('#notebook-container');\n",
       "if (notebookContainer) {{\n",
       "    x.observe(notebookContainer, {childList: true});\n",
       "}}\n",
       "\n",
       "// Listen for the clearing of the current output cell\n",
       "var outputEl = gd.closest('.output');\n",
       "if (outputEl) {{\n",
       "    x.observe(outputEl, {childList: true});\n",
       "}}\n",
       "\n",
       "                        })\n",
       "                };\n",
       "                });\n",
       "            </script>\n",
       "        </div>"
      ]
     },
     "metadata": {},
     "output_type": "display_data"
    }
   ],
   "source": [
    "# fig = px.line(df1,x= 'Quarter', y=\"Name\", height=500, width = 950)\n",
    "# fig.update_yaxes(visible=False)\n",
    "# fig.update_layout(title='Events per Quarter', plot_bgcolor='rgba(100, 15, 5, 0.2)',xaxis=dict(showgrid=False),yaxis=dict(showticklabels=False,showgrid=False))\n",
    "# # fig.update_traces(hovertemplate='Date: %{x} <br>%{y}')\n",
    "# fig.update_traces(mode=\"markers\")\n",
    "# fig.show()fig.update_traces(textposition='inside', textinfo='percent',insidetextorientation='radial')\n",
    "\n",
    "# fig = px.pie(df1, values='Quarter', names='Quarter' , title='Events per Quarter')\n",
    "fig = px.sunburst(df1, path=['Quarter', 'Month'], title='Events per Quarter')\n",
    "# fig.update_layout(margin = dict(t=0, l=0, r=0, b=0))\n",
    "fig.update_layout(title='Quarterly Depiction of Events around the World',paper_bgcolor='rgba(101,200,150,0.2)', plot_bgcolor='rgba(0,0,0,0)',)\n",
    "fig.update_traces(insidetextorientation='radial',hovertemplate= '<b>Quarter: %{label} </b> <br> Number of Unfortunate Events: %{value}',\n",
    "                  marker=dict(colors=['Quarter'], line=dict(color='#000000', width=1)))\n",
    "fig.show()"
   ]
  },
  {
   "cell_type": "code",
   "execution_count": 336,
   "metadata": {},
   "outputs": [
    {
     "data": {
      "text/html": [
       "<div>\n",
       "<style scoped>\n",
       "    .dataframe tbody tr th:only-of-type {\n",
       "        vertical-align: middle;\n",
       "    }\n",
       "\n",
       "    .dataframe tbody tr th {\n",
       "        vertical-align: top;\n",
       "    }\n",
       "\n",
       "    .dataframe thead th {\n",
       "        text-align: right;\n",
       "    }\n",
       "</style>\n",
       "<table border=\"1\" class=\"dataframe\">\n",
       "  <thead>\n",
       "    <tr style=\"text-align: right;\">\n",
       "      <th></th>\n",
       "      <th>Name</th>\n",
       "      <th>Description</th>\n",
       "      <th>Time from</th>\n",
       "      <th>Time to</th>\n",
       "      <th>Group ID</th>\n",
       "    </tr>\n",
       "  </thead>\n",
       "  <tbody>\n",
       "    <tr>\n",
       "      <th>0</th>\n",
       "      <td>Hong Kong Protests - March 2019 onwards</td>\n",
       "      <td>The ongoing 2019–20 Hong Kong protests were tr...</td>\n",
       "      <td>2019 3 15 0 0</td>\n",
       "      <td>2020 9 17 22 4</td>\n",
       "      <td>NaN</td>\n",
       "    </tr>\n",
       "    <tr>\n",
       "      <th>1</th>\n",
       "      <td>Australian Bushfires</td>\n",
       "      <td>NaN</td>\n",
       "      <td>2019 9 1 0 0</td>\n",
       "      <td>2020 2 23 0 0</td>\n",
       "      <td>NaN</td>\n",
       "    </tr>\n",
       "    <tr>\n",
       "      <th>2</th>\n",
       "      <td>Chilean protests - Oct 2019 onwards</td>\n",
       "      <td>Civil protests have taken place throughout Chi...</td>\n",
       "      <td>2019 10 14</td>\n",
       "      <td>2020 6 6 0 0</td>\n",
       "      <td>NaN</td>\n",
       "    </tr>\n",
       "    <tr>\n",
       "      <th>3</th>\n",
       "      <td>COVID-19 Pandemic</td>\n",
       "      <td>NaN</td>\n",
       "      <td>2019 11 17</td>\n",
       "      <td>2020 12 31 0 0</td>\n",
       "      <td>NaN</td>\n",
       "    </tr>\n",
       "    <tr>\n",
       "      <th>4</th>\n",
       "      <td>Floods in Jakarta</td>\n",
       "      <td>On January 6, the death toll in Jakarta has ri...</td>\n",
       "      <td>2019 12 31 0 0</td>\n",
       "      <td>2020 1 6 0 0</td>\n",
       "      <td>NaN</td>\n",
       "    </tr>\n",
       "  </tbody>\n",
       "</table>\n",
       "</div>"
      ],
      "text/plain": [
       "                                      Name  \\\n",
       "0  Hong Kong Protests - March 2019 onwards   \n",
       "1                     Australian Bushfires   \n",
       "2      Chilean protests - Oct 2019 onwards   \n",
       "3                        COVID-19 Pandemic   \n",
       "4                        Floods in Jakarta   \n",
       "\n",
       "                                         Description       Time from  \\\n",
       "0  The ongoing 2019–20 Hong Kong protests were tr...   2019 3 15 0 0   \n",
       "1                                                NaN    2019 9 1 0 0   \n",
       "2  Civil protests have taken place throughout Chi...      2019 10 14   \n",
       "3                                                NaN      2019 11 17   \n",
       "4  On January 6, the death toll in Jakarta has ri...  2019 12 31 0 0   \n",
       "\n",
       "          Time to  Group ID  \n",
       "0  2020 9 17 22 4       NaN  \n",
       "1   2020 2 23 0 0       NaN  \n",
       "2    2020 6 6 0 0       NaN  \n",
       "3  2020 12 31 0 0       NaN  \n",
       "4    2020 1 6 0 0       NaN  "
      ]
     },
     "execution_count": 336,
     "metadata": {},
     "output_type": "execute_result"
    }
   ],
   "source": [
    "df2.head()"
   ]
  },
  {
   "cell_type": "code",
   "execution_count": 337,
   "metadata": {},
   "outputs": [],
   "source": [
    "df2['Timefrom']=df2['Time from'].astype('str')\n",
    "df2['Timeto']=df2['Time to'].astype('str')\n",
    "del df2['Time from']\n",
    "del df2['Time to']\n",
    "df2[['Year','Month','Date','H','S']]=df2.Timefrom.str.split(expand=True)"
   ]
  },
  {
   "cell_type": "code",
   "execution_count": 338,
   "metadata": {},
   "outputs": [
    {
     "data": {
      "text/html": [
       "<div>\n",
       "<style scoped>\n",
       "    .dataframe tbody tr th:only-of-type {\n",
       "        vertical-align: middle;\n",
       "    }\n",
       "\n",
       "    .dataframe tbody tr th {\n",
       "        vertical-align: top;\n",
       "    }\n",
       "\n",
       "    .dataframe thead th {\n",
       "        text-align: right;\n",
       "    }\n",
       "</style>\n",
       "<table border=\"1\" class=\"dataframe\">\n",
       "  <thead>\n",
       "    <tr style=\"text-align: right;\">\n",
       "      <th></th>\n",
       "      <th>Name</th>\n",
       "      <th>Description</th>\n",
       "      <th>Group ID</th>\n",
       "      <th>Timefrom</th>\n",
       "      <th>Timeto</th>\n",
       "      <th>Year</th>\n",
       "      <th>Month</th>\n",
       "      <th>Date</th>\n",
       "      <th>H</th>\n",
       "      <th>S</th>\n",
       "    </tr>\n",
       "  </thead>\n",
       "  <tbody>\n",
       "    <tr>\n",
       "      <th>0</th>\n",
       "      <td>Hong Kong Protests - March 2019 onwards</td>\n",
       "      <td>The ongoing 2019–20 Hong Kong protests were tr...</td>\n",
       "      <td>NaN</td>\n",
       "      <td>2019 3 15 0 0</td>\n",
       "      <td>2020 9 17 22 4</td>\n",
       "      <td>2019</td>\n",
       "      <td>3</td>\n",
       "      <td>15</td>\n",
       "      <td>0</td>\n",
       "      <td>0</td>\n",
       "    </tr>\n",
       "    <tr>\n",
       "      <th>1</th>\n",
       "      <td>Australian Bushfires</td>\n",
       "      <td>NaN</td>\n",
       "      <td>NaN</td>\n",
       "      <td>2019 9 1 0 0</td>\n",
       "      <td>2020 2 23 0 0</td>\n",
       "      <td>2019</td>\n",
       "      <td>9</td>\n",
       "      <td>1</td>\n",
       "      <td>0</td>\n",
       "      <td>0</td>\n",
       "    </tr>\n",
       "    <tr>\n",
       "      <th>2</th>\n",
       "      <td>Chilean protests - Oct 2019 onwards</td>\n",
       "      <td>Civil protests have taken place throughout Chi...</td>\n",
       "      <td>NaN</td>\n",
       "      <td>2019 10 14</td>\n",
       "      <td>2020 6 6 0 0</td>\n",
       "      <td>2019</td>\n",
       "      <td>10</td>\n",
       "      <td>14</td>\n",
       "      <td>None</td>\n",
       "      <td>None</td>\n",
       "    </tr>\n",
       "    <tr>\n",
       "      <th>3</th>\n",
       "      <td>COVID-19 Pandemic</td>\n",
       "      <td>NaN</td>\n",
       "      <td>NaN</td>\n",
       "      <td>2019 11 17</td>\n",
       "      <td>2020 12 31 0 0</td>\n",
       "      <td>2019</td>\n",
       "      <td>11</td>\n",
       "      <td>17</td>\n",
       "      <td>None</td>\n",
       "      <td>None</td>\n",
       "    </tr>\n",
       "    <tr>\n",
       "      <th>4</th>\n",
       "      <td>Floods in Jakarta</td>\n",
       "      <td>On January 6, the death toll in Jakarta has ri...</td>\n",
       "      <td>NaN</td>\n",
       "      <td>2019 12 31 0 0</td>\n",
       "      <td>2020 1 6 0 0</td>\n",
       "      <td>2019</td>\n",
       "      <td>12</td>\n",
       "      <td>31</td>\n",
       "      <td>0</td>\n",
       "      <td>0</td>\n",
       "    </tr>\n",
       "  </tbody>\n",
       "</table>\n",
       "</div>"
      ],
      "text/plain": [
       "                                      Name  \\\n",
       "0  Hong Kong Protests - March 2019 onwards   \n",
       "1                     Australian Bushfires   \n",
       "2      Chilean protests - Oct 2019 onwards   \n",
       "3                        COVID-19 Pandemic   \n",
       "4                        Floods in Jakarta   \n",
       "\n",
       "                                         Description  Group ID  \\\n",
       "0  The ongoing 2019–20 Hong Kong protests were tr...       NaN   \n",
       "1                                                NaN       NaN   \n",
       "2  Civil protests have taken place throughout Chi...       NaN   \n",
       "3                                                NaN       NaN   \n",
       "4  On January 6, the death toll in Jakarta has ri...       NaN   \n",
       "\n",
       "         Timefrom          Timeto  Year Month Date     H     S  \n",
       "0   2019 3 15 0 0  2020 9 17 22 4  2019     3   15     0     0  \n",
       "1    2019 9 1 0 0   2020 2 23 0 0  2019     9    1     0     0  \n",
       "2      2019 10 14    2020 6 6 0 0  2019    10   14  None  None  \n",
       "3      2019 11 17  2020 12 31 0 0  2019    11   17  None  None  \n",
       "4  2019 12 31 0 0    2020 1 6 0 0  2019    12   31     0     0  "
      ]
     },
     "execution_count": 338,
     "metadata": {},
     "output_type": "execute_result"
    }
   ],
   "source": [
    "df2.head()"
   ]
  },
  {
   "cell_type": "code",
   "execution_count": 339,
   "metadata": {},
   "outputs": [
    {
     "data": {
      "text/plain": [
       "Index(['Year', 'Month', 'Date'], dtype='object')"
      ]
     },
     "execution_count": 339,
     "metadata": {},
     "output_type": "execute_result"
    }
   ],
   "source": [
    "df2.columns[5:8]"
   ]
  },
  {
   "cell_type": "code",
   "execution_count": 340,
   "metadata": {},
   "outputs": [],
   "source": [
    "df2['Date_from'] = df2[df2.columns[5:8]].apply(\n",
    "    lambda x: '-'.join(x.dropna().astype(str)),\n",
    "    axis=1)"
   ]
  },
  {
   "cell_type": "code",
   "execution_count": 341,
   "metadata": {},
   "outputs": [
    {
     "data": {
      "text/html": [
       "<div>\n",
       "<style scoped>\n",
       "    .dataframe tbody tr th:only-of-type {\n",
       "        vertical-align: middle;\n",
       "    }\n",
       "\n",
       "    .dataframe tbody tr th {\n",
       "        vertical-align: top;\n",
       "    }\n",
       "\n",
       "    .dataframe thead th {\n",
       "        text-align: right;\n",
       "    }\n",
       "</style>\n",
       "<table border=\"1\" class=\"dataframe\">\n",
       "  <thead>\n",
       "    <tr style=\"text-align: right;\">\n",
       "      <th></th>\n",
       "      <th>Name</th>\n",
       "      <th>Description</th>\n",
       "      <th>Group ID</th>\n",
       "      <th>Timefrom</th>\n",
       "      <th>Timeto</th>\n",
       "      <th>Year</th>\n",
       "      <th>Month</th>\n",
       "      <th>Date</th>\n",
       "      <th>H</th>\n",
       "      <th>S</th>\n",
       "      <th>Date_from</th>\n",
       "    </tr>\n",
       "  </thead>\n",
       "  <tbody>\n",
       "    <tr>\n",
       "      <th>0</th>\n",
       "      <td>Hong Kong Protests - March 2019 onwards</td>\n",
       "      <td>The ongoing 2019–20 Hong Kong protests were tr...</td>\n",
       "      <td>NaN</td>\n",
       "      <td>2019 3 15 0 0</td>\n",
       "      <td>2020 9 17 22 4</td>\n",
       "      <td>2019</td>\n",
       "      <td>3</td>\n",
       "      <td>15</td>\n",
       "      <td>0</td>\n",
       "      <td>0</td>\n",
       "      <td>2019-3-15</td>\n",
       "    </tr>\n",
       "    <tr>\n",
       "      <th>1</th>\n",
       "      <td>Australian Bushfires</td>\n",
       "      <td>NaN</td>\n",
       "      <td>NaN</td>\n",
       "      <td>2019 9 1 0 0</td>\n",
       "      <td>2020 2 23 0 0</td>\n",
       "      <td>2019</td>\n",
       "      <td>9</td>\n",
       "      <td>1</td>\n",
       "      <td>0</td>\n",
       "      <td>0</td>\n",
       "      <td>2019-9-1</td>\n",
       "    </tr>\n",
       "    <tr>\n",
       "      <th>2</th>\n",
       "      <td>Chilean protests - Oct 2019 onwards</td>\n",
       "      <td>Civil protests have taken place throughout Chi...</td>\n",
       "      <td>NaN</td>\n",
       "      <td>2019 10 14</td>\n",
       "      <td>2020 6 6 0 0</td>\n",
       "      <td>2019</td>\n",
       "      <td>10</td>\n",
       "      <td>14</td>\n",
       "      <td>None</td>\n",
       "      <td>None</td>\n",
       "      <td>2019-10-14</td>\n",
       "    </tr>\n",
       "    <tr>\n",
       "      <th>3</th>\n",
       "      <td>COVID-19 Pandemic</td>\n",
       "      <td>NaN</td>\n",
       "      <td>NaN</td>\n",
       "      <td>2019 11 17</td>\n",
       "      <td>2020 12 31 0 0</td>\n",
       "      <td>2019</td>\n",
       "      <td>11</td>\n",
       "      <td>17</td>\n",
       "      <td>None</td>\n",
       "      <td>None</td>\n",
       "      <td>2019-11-17</td>\n",
       "    </tr>\n",
       "    <tr>\n",
       "      <th>4</th>\n",
       "      <td>Floods in Jakarta</td>\n",
       "      <td>On January 6, the death toll in Jakarta has ri...</td>\n",
       "      <td>NaN</td>\n",
       "      <td>2019 12 31 0 0</td>\n",
       "      <td>2020 1 6 0 0</td>\n",
       "      <td>2019</td>\n",
       "      <td>12</td>\n",
       "      <td>31</td>\n",
       "      <td>0</td>\n",
       "      <td>0</td>\n",
       "      <td>2019-12-31</td>\n",
       "    </tr>\n",
       "  </tbody>\n",
       "</table>\n",
       "</div>"
      ],
      "text/plain": [
       "                                      Name  \\\n",
       "0  Hong Kong Protests - March 2019 onwards   \n",
       "1                     Australian Bushfires   \n",
       "2      Chilean protests - Oct 2019 onwards   \n",
       "3                        COVID-19 Pandemic   \n",
       "4                        Floods in Jakarta   \n",
       "\n",
       "                                         Description  Group ID  \\\n",
       "0  The ongoing 2019–20 Hong Kong protests were tr...       NaN   \n",
       "1                                                NaN       NaN   \n",
       "2  Civil protests have taken place throughout Chi...       NaN   \n",
       "3                                                NaN       NaN   \n",
       "4  On January 6, the death toll in Jakarta has ri...       NaN   \n",
       "\n",
       "         Timefrom          Timeto  Year Month Date     H     S   Date_from  \n",
       "0   2019 3 15 0 0  2020 9 17 22 4  2019     3   15     0     0   2019-3-15  \n",
       "1    2019 9 1 0 0   2020 2 23 0 0  2019     9    1     0     0    2019-9-1  \n",
       "2      2019 10 14    2020 6 6 0 0  2019    10   14  None  None  2019-10-14  \n",
       "3      2019 11 17  2020 12 31 0 0  2019    11   17  None  None  2019-11-17  \n",
       "4  2019 12 31 0 0    2020 1 6 0 0  2019    12   31     0     0  2019-12-31  "
      ]
     },
     "execution_count": 341,
     "metadata": {},
     "output_type": "execute_result"
    }
   ],
   "source": [
    "df2.head()"
   ]
  },
  {
   "cell_type": "code",
   "execution_count": 342,
   "metadata": {},
   "outputs": [],
   "source": [
    "del df2['Year']\n",
    "del df2['Date']\n",
    "del df2['H']\n",
    "del df2['S']\n",
    "df2['Month_from'] = df2['Month']"
   ]
  },
  {
   "cell_type": "code",
   "execution_count": 343,
   "metadata": {},
   "outputs": [],
   "source": [
    "del df2[\"Month\"]"
   ]
  },
  {
   "cell_type": "code",
   "execution_count": 344,
   "metadata": {},
   "outputs": [
    {
     "data": {
      "text/html": [
       "<div>\n",
       "<style scoped>\n",
       "    .dataframe tbody tr th:only-of-type {\n",
       "        vertical-align: middle;\n",
       "    }\n",
       "\n",
       "    .dataframe tbody tr th {\n",
       "        vertical-align: top;\n",
       "    }\n",
       "\n",
       "    .dataframe thead th {\n",
       "        text-align: right;\n",
       "    }\n",
       "</style>\n",
       "<table border=\"1\" class=\"dataframe\">\n",
       "  <thead>\n",
       "    <tr style=\"text-align: right;\">\n",
       "      <th></th>\n",
       "      <th>Name</th>\n",
       "      <th>Description</th>\n",
       "      <th>Group ID</th>\n",
       "      <th>Timefrom</th>\n",
       "      <th>Timeto</th>\n",
       "      <th>Date_from</th>\n",
       "      <th>Month_from</th>\n",
       "    </tr>\n",
       "  </thead>\n",
       "  <tbody>\n",
       "    <tr>\n",
       "      <th>0</th>\n",
       "      <td>Hong Kong Protests - March 2019 onwards</td>\n",
       "      <td>The ongoing 2019–20 Hong Kong protests were tr...</td>\n",
       "      <td>NaN</td>\n",
       "      <td>2019 3 15 0 0</td>\n",
       "      <td>2020 9 17 22 4</td>\n",
       "      <td>2019-3-15</td>\n",
       "      <td>3</td>\n",
       "    </tr>\n",
       "    <tr>\n",
       "      <th>1</th>\n",
       "      <td>Australian Bushfires</td>\n",
       "      <td>NaN</td>\n",
       "      <td>NaN</td>\n",
       "      <td>2019 9 1 0 0</td>\n",
       "      <td>2020 2 23 0 0</td>\n",
       "      <td>2019-9-1</td>\n",
       "      <td>9</td>\n",
       "    </tr>\n",
       "    <tr>\n",
       "      <th>2</th>\n",
       "      <td>Chilean protests - Oct 2019 onwards</td>\n",
       "      <td>Civil protests have taken place throughout Chi...</td>\n",
       "      <td>NaN</td>\n",
       "      <td>2019 10 14</td>\n",
       "      <td>2020 6 6 0 0</td>\n",
       "      <td>2019-10-14</td>\n",
       "      <td>10</td>\n",
       "    </tr>\n",
       "    <tr>\n",
       "      <th>3</th>\n",
       "      <td>COVID-19 Pandemic</td>\n",
       "      <td>NaN</td>\n",
       "      <td>NaN</td>\n",
       "      <td>2019 11 17</td>\n",
       "      <td>2020 12 31 0 0</td>\n",
       "      <td>2019-11-17</td>\n",
       "      <td>11</td>\n",
       "    </tr>\n",
       "    <tr>\n",
       "      <th>4</th>\n",
       "      <td>Floods in Jakarta</td>\n",
       "      <td>On January 6, the death toll in Jakarta has ri...</td>\n",
       "      <td>NaN</td>\n",
       "      <td>2019 12 31 0 0</td>\n",
       "      <td>2020 1 6 0 0</td>\n",
       "      <td>2019-12-31</td>\n",
       "      <td>12</td>\n",
       "    </tr>\n",
       "  </tbody>\n",
       "</table>\n",
       "</div>"
      ],
      "text/plain": [
       "                                      Name  \\\n",
       "0  Hong Kong Protests - March 2019 onwards   \n",
       "1                     Australian Bushfires   \n",
       "2      Chilean protests - Oct 2019 onwards   \n",
       "3                        COVID-19 Pandemic   \n",
       "4                        Floods in Jakarta   \n",
       "\n",
       "                                         Description  Group ID  \\\n",
       "0  The ongoing 2019–20 Hong Kong protests were tr...       NaN   \n",
       "1                                                NaN       NaN   \n",
       "2  Civil protests have taken place throughout Chi...       NaN   \n",
       "3                                                NaN       NaN   \n",
       "4  On January 6, the death toll in Jakarta has ri...       NaN   \n",
       "\n",
       "         Timefrom          Timeto   Date_from Month_from  \n",
       "0   2019 3 15 0 0  2020 9 17 22 4   2019-3-15          3  \n",
       "1    2019 9 1 0 0   2020 2 23 0 0    2019-9-1          9  \n",
       "2      2019 10 14    2020 6 6 0 0  2019-10-14         10  \n",
       "3      2019 11 17  2020 12 31 0 0  2019-11-17         11  \n",
       "4  2019 12 31 0 0    2020 1 6 0 0  2019-12-31         12  "
      ]
     },
     "execution_count": 344,
     "metadata": {},
     "output_type": "execute_result"
    }
   ],
   "source": [
    "df2.head()"
   ]
  },
  {
   "cell_type": "code",
   "execution_count": 345,
   "metadata": {},
   "outputs": [
    {
     "data": {
      "text/html": [
       "<div>\n",
       "<style scoped>\n",
       "    .dataframe tbody tr th:only-of-type {\n",
       "        vertical-align: middle;\n",
       "    }\n",
       "\n",
       "    .dataframe tbody tr th {\n",
       "        vertical-align: top;\n",
       "    }\n",
       "\n",
       "    .dataframe thead th {\n",
       "        text-align: right;\n",
       "    }\n",
       "</style>\n",
       "<table border=\"1\" class=\"dataframe\">\n",
       "  <thead>\n",
       "    <tr style=\"text-align: right;\">\n",
       "      <th></th>\n",
       "      <th>Name</th>\n",
       "      <th>Description</th>\n",
       "      <th>Group ID</th>\n",
       "      <th>Timefrom</th>\n",
       "      <th>Timeto</th>\n",
       "      <th>Date_from</th>\n",
       "      <th>Month_from</th>\n",
       "      <th>Year</th>\n",
       "      <th>Month</th>\n",
       "      <th>Date</th>\n",
       "      <th>H</th>\n",
       "      <th>S</th>\n",
       "    </tr>\n",
       "  </thead>\n",
       "  <tbody>\n",
       "    <tr>\n",
       "      <th>0</th>\n",
       "      <td>Hong Kong Protests - March 2019 onwards</td>\n",
       "      <td>The ongoing 2019–20 Hong Kong protests were tr...</td>\n",
       "      <td>NaN</td>\n",
       "      <td>2019 3 15 0 0</td>\n",
       "      <td>2020 9 17 22 4</td>\n",
       "      <td>2019-3-15</td>\n",
       "      <td>3</td>\n",
       "      <td>2020</td>\n",
       "      <td>9</td>\n",
       "      <td>17</td>\n",
       "      <td>22</td>\n",
       "      <td>4</td>\n",
       "    </tr>\n",
       "    <tr>\n",
       "      <th>1</th>\n",
       "      <td>Australian Bushfires</td>\n",
       "      <td>NaN</td>\n",
       "      <td>NaN</td>\n",
       "      <td>2019 9 1 0 0</td>\n",
       "      <td>2020 2 23 0 0</td>\n",
       "      <td>2019-9-1</td>\n",
       "      <td>9</td>\n",
       "      <td>2020</td>\n",
       "      <td>2</td>\n",
       "      <td>23</td>\n",
       "      <td>0</td>\n",
       "      <td>0</td>\n",
       "    </tr>\n",
       "    <tr>\n",
       "      <th>2</th>\n",
       "      <td>Chilean protests - Oct 2019 onwards</td>\n",
       "      <td>Civil protests have taken place throughout Chi...</td>\n",
       "      <td>NaN</td>\n",
       "      <td>2019 10 14</td>\n",
       "      <td>2020 6 6 0 0</td>\n",
       "      <td>2019-10-14</td>\n",
       "      <td>10</td>\n",
       "      <td>2020</td>\n",
       "      <td>6</td>\n",
       "      <td>6</td>\n",
       "      <td>0</td>\n",
       "      <td>0</td>\n",
       "    </tr>\n",
       "    <tr>\n",
       "      <th>3</th>\n",
       "      <td>COVID-19 Pandemic</td>\n",
       "      <td>NaN</td>\n",
       "      <td>NaN</td>\n",
       "      <td>2019 11 17</td>\n",
       "      <td>2020 12 31 0 0</td>\n",
       "      <td>2019-11-17</td>\n",
       "      <td>11</td>\n",
       "      <td>2020</td>\n",
       "      <td>12</td>\n",
       "      <td>31</td>\n",
       "      <td>0</td>\n",
       "      <td>0</td>\n",
       "    </tr>\n",
       "    <tr>\n",
       "      <th>4</th>\n",
       "      <td>Floods in Jakarta</td>\n",
       "      <td>On January 6, the death toll in Jakarta has ri...</td>\n",
       "      <td>NaN</td>\n",
       "      <td>2019 12 31 0 0</td>\n",
       "      <td>2020 1 6 0 0</td>\n",
       "      <td>2019-12-31</td>\n",
       "      <td>12</td>\n",
       "      <td>2020</td>\n",
       "      <td>1</td>\n",
       "      <td>6</td>\n",
       "      <td>0</td>\n",
       "      <td>0</td>\n",
       "    </tr>\n",
       "  </tbody>\n",
       "</table>\n",
       "</div>"
      ],
      "text/plain": [
       "                                      Name  \\\n",
       "0  Hong Kong Protests - March 2019 onwards   \n",
       "1                     Australian Bushfires   \n",
       "2      Chilean protests - Oct 2019 onwards   \n",
       "3                        COVID-19 Pandemic   \n",
       "4                        Floods in Jakarta   \n",
       "\n",
       "                                         Description  Group ID  \\\n",
       "0  The ongoing 2019–20 Hong Kong protests were tr...       NaN   \n",
       "1                                                NaN       NaN   \n",
       "2  Civil protests have taken place throughout Chi...       NaN   \n",
       "3                                                NaN       NaN   \n",
       "4  On January 6, the death toll in Jakarta has ri...       NaN   \n",
       "\n",
       "         Timefrom          Timeto   Date_from Month_from  Year Month Date   H  \\\n",
       "0   2019 3 15 0 0  2020 9 17 22 4   2019-3-15          3  2020     9   17  22   \n",
       "1    2019 9 1 0 0   2020 2 23 0 0    2019-9-1          9  2020     2   23   0   \n",
       "2      2019 10 14    2020 6 6 0 0  2019-10-14         10  2020     6    6   0   \n",
       "3      2019 11 17  2020 12 31 0 0  2019-11-17         11  2020    12   31   0   \n",
       "4  2019 12 31 0 0    2020 1 6 0 0  2019-12-31         12  2020     1    6   0   \n",
       "\n",
       "   S  \n",
       "0  4  \n",
       "1  0  \n",
       "2  0  \n",
       "3  0  \n",
       "4  0  "
      ]
     },
     "execution_count": 345,
     "metadata": {},
     "output_type": "execute_result"
    }
   ],
   "source": [
    "df2[['Year','Month','Date','H','S']]=df2.Timeto.str.split(expand=True)\n",
    "df2.head()"
   ]
  },
  {
   "cell_type": "code",
   "execution_count": 346,
   "metadata": {},
   "outputs": [
    {
     "data": {
      "text/plain": [
       "Index(['Year', 'Month', 'Date'], dtype='object')"
      ]
     },
     "execution_count": 346,
     "metadata": {},
     "output_type": "execute_result"
    }
   ],
   "source": [
    "df2.columns[7:10]"
   ]
  },
  {
   "cell_type": "code",
   "execution_count": 347,
   "metadata": {},
   "outputs": [
    {
     "data": {
      "text/html": [
       "<div>\n",
       "<style scoped>\n",
       "    .dataframe tbody tr th:only-of-type {\n",
       "        vertical-align: middle;\n",
       "    }\n",
       "\n",
       "    .dataframe tbody tr th {\n",
       "        vertical-align: top;\n",
       "    }\n",
       "\n",
       "    .dataframe thead th {\n",
       "        text-align: right;\n",
       "    }\n",
       "</style>\n",
       "<table border=\"1\" class=\"dataframe\">\n",
       "  <thead>\n",
       "    <tr style=\"text-align: right;\">\n",
       "      <th></th>\n",
       "      <th>Name</th>\n",
       "      <th>Description</th>\n",
       "      <th>Timefrom</th>\n",
       "      <th>Timeto</th>\n",
       "      <th>Date_from</th>\n",
       "      <th>Month_from</th>\n",
       "      <th>Date_To</th>\n",
       "      <th>Month_To</th>\n",
       "    </tr>\n",
       "  </thead>\n",
       "  <tbody>\n",
       "    <tr>\n",
       "      <th>0</th>\n",
       "      <td>Hong Kong Protests - March 2019 onwards</td>\n",
       "      <td>The ongoing 2019–20 Hong Kong protests were tr...</td>\n",
       "      <td>2019 3 15 0 0</td>\n",
       "      <td>2020 9 17 22 4</td>\n",
       "      <td>2019-3-15</td>\n",
       "      <td>3</td>\n",
       "      <td>2020-9-17</td>\n",
       "      <td>9</td>\n",
       "    </tr>\n",
       "    <tr>\n",
       "      <th>1</th>\n",
       "      <td>Australian Bushfires</td>\n",
       "      <td>NaN</td>\n",
       "      <td>2019 9 1 0 0</td>\n",
       "      <td>2020 2 23 0 0</td>\n",
       "      <td>2019-9-1</td>\n",
       "      <td>9</td>\n",
       "      <td>2020-2-23</td>\n",
       "      <td>2</td>\n",
       "    </tr>\n",
       "    <tr>\n",
       "      <th>2</th>\n",
       "      <td>Chilean protests - Oct 2019 onwards</td>\n",
       "      <td>Civil protests have taken place throughout Chi...</td>\n",
       "      <td>2019 10 14</td>\n",
       "      <td>2020 6 6 0 0</td>\n",
       "      <td>2019-10-14</td>\n",
       "      <td>10</td>\n",
       "      <td>2020-6-6</td>\n",
       "      <td>6</td>\n",
       "    </tr>\n",
       "    <tr>\n",
       "      <th>3</th>\n",
       "      <td>COVID-19 Pandemic</td>\n",
       "      <td>NaN</td>\n",
       "      <td>2019 11 17</td>\n",
       "      <td>2020 12 31 0 0</td>\n",
       "      <td>2019-11-17</td>\n",
       "      <td>11</td>\n",
       "      <td>2020-12-31</td>\n",
       "      <td>12</td>\n",
       "    </tr>\n",
       "    <tr>\n",
       "      <th>4</th>\n",
       "      <td>Floods in Jakarta</td>\n",
       "      <td>On January 6, the death toll in Jakarta has ri...</td>\n",
       "      <td>2019 12 31 0 0</td>\n",
       "      <td>2020 1 6 0 0</td>\n",
       "      <td>2019-12-31</td>\n",
       "      <td>12</td>\n",
       "      <td>2020-1-6</td>\n",
       "      <td>1</td>\n",
       "    </tr>\n",
       "  </tbody>\n",
       "</table>\n",
       "</div>"
      ],
      "text/plain": [
       "                                      Name  \\\n",
       "0  Hong Kong Protests - March 2019 onwards   \n",
       "1                     Australian Bushfires   \n",
       "2      Chilean protests - Oct 2019 onwards   \n",
       "3                        COVID-19 Pandemic   \n",
       "4                        Floods in Jakarta   \n",
       "\n",
       "                                         Description        Timefrom  \\\n",
       "0  The ongoing 2019–20 Hong Kong protests were tr...   2019 3 15 0 0   \n",
       "1                                                NaN    2019 9 1 0 0   \n",
       "2  Civil protests have taken place throughout Chi...      2019 10 14   \n",
       "3                                                NaN      2019 11 17   \n",
       "4  On January 6, the death toll in Jakarta has ri...  2019 12 31 0 0   \n",
       "\n",
       "           Timeto   Date_from Month_from     Date_To Month_To  \n",
       "0  2020 9 17 22 4   2019-3-15          3   2020-9-17        9  \n",
       "1   2020 2 23 0 0    2019-9-1          9   2020-2-23        2  \n",
       "2    2020 6 6 0 0  2019-10-14         10    2020-6-6        6  \n",
       "3  2020 12 31 0 0  2019-11-17         11  2020-12-31       12  \n",
       "4    2020 1 6 0 0  2019-12-31         12    2020-1-6        1  "
      ]
     },
     "execution_count": 347,
     "metadata": {},
     "output_type": "execute_result"
    }
   ],
   "source": [
    "df2['Date_To'] = df2[df2.columns[7:10]].apply(\n",
    "    lambda x: '-'.join(x.dropna().astype(str)),\n",
    "    axis=1)\n",
    "del df2['Year']\n",
    "del df2['Date']\n",
    "del df2['H']\n",
    "del df2['S']\n",
    "df2['Month_To'] = df2['Month']\n",
    "del df2['Month']\n",
    "del df2['Group ID']\n",
    "df2.head()"
   ]
  },
  {
   "cell_type": "code",
   "execution_count": 348,
   "metadata": {},
   "outputs": [],
   "source": [
    "del df2['Timefrom']\n",
    "del df2['Timeto']"
   ]
  },
  {
   "cell_type": "code",
   "execution_count": 349,
   "metadata": {},
   "outputs": [
    {
     "data": {
      "text/html": [
       "<div>\n",
       "<style scoped>\n",
       "    .dataframe tbody tr th:only-of-type {\n",
       "        vertical-align: middle;\n",
       "    }\n",
       "\n",
       "    .dataframe tbody tr th {\n",
       "        vertical-align: top;\n",
       "    }\n",
       "\n",
       "    .dataframe thead th {\n",
       "        text-align: right;\n",
       "    }\n",
       "</style>\n",
       "<table border=\"1\" class=\"dataframe\">\n",
       "  <thead>\n",
       "    <tr style=\"text-align: right;\">\n",
       "      <th></th>\n",
       "      <th>Name</th>\n",
       "      <th>Description</th>\n",
       "      <th>Date_from</th>\n",
       "      <th>Month_from</th>\n",
       "      <th>Date_To</th>\n",
       "      <th>Month_To</th>\n",
       "    </tr>\n",
       "  </thead>\n",
       "  <tbody>\n",
       "    <tr>\n",
       "      <th>0</th>\n",
       "      <td>Hong Kong Protests - March 2019 onwards</td>\n",
       "      <td>The ongoing 2019–20 Hong Kong protests were tr...</td>\n",
       "      <td>2019-3-15</td>\n",
       "      <td>3</td>\n",
       "      <td>2020-9-17</td>\n",
       "      <td>9</td>\n",
       "    </tr>\n",
       "    <tr>\n",
       "      <th>1</th>\n",
       "      <td>Australian Bushfires</td>\n",
       "      <td>NaN</td>\n",
       "      <td>2019-9-1</td>\n",
       "      <td>9</td>\n",
       "      <td>2020-2-23</td>\n",
       "      <td>2</td>\n",
       "    </tr>\n",
       "    <tr>\n",
       "      <th>2</th>\n",
       "      <td>Chilean protests - Oct 2019 onwards</td>\n",
       "      <td>Civil protests have taken place throughout Chi...</td>\n",
       "      <td>2019-10-14</td>\n",
       "      <td>10</td>\n",
       "      <td>2020-6-6</td>\n",
       "      <td>6</td>\n",
       "    </tr>\n",
       "    <tr>\n",
       "      <th>3</th>\n",
       "      <td>COVID-19 Pandemic</td>\n",
       "      <td>NaN</td>\n",
       "      <td>2019-11-17</td>\n",
       "      <td>11</td>\n",
       "      <td>2020-12-31</td>\n",
       "      <td>12</td>\n",
       "    </tr>\n",
       "    <tr>\n",
       "      <th>4</th>\n",
       "      <td>Floods in Jakarta</td>\n",
       "      <td>On January 6, the death toll in Jakarta has ri...</td>\n",
       "      <td>2019-12-31</td>\n",
       "      <td>12</td>\n",
       "      <td>2020-1-6</td>\n",
       "      <td>1</td>\n",
       "    </tr>\n",
       "  </tbody>\n",
       "</table>\n",
       "</div>"
      ],
      "text/plain": [
       "                                      Name  \\\n",
       "0  Hong Kong Protests - March 2019 onwards   \n",
       "1                     Australian Bushfires   \n",
       "2      Chilean protests - Oct 2019 onwards   \n",
       "3                        COVID-19 Pandemic   \n",
       "4                        Floods in Jakarta   \n",
       "\n",
       "                                         Description   Date_from Month_from  \\\n",
       "0  The ongoing 2019–20 Hong Kong protests were tr...   2019-3-15          3   \n",
       "1                                                NaN    2019-9-1          9   \n",
       "2  Civil protests have taken place throughout Chi...  2019-10-14         10   \n",
       "3                                                NaN  2019-11-17         11   \n",
       "4  On January 6, the death toll in Jakarta has ri...  2019-12-31         12   \n",
       "\n",
       "      Date_To Month_To  \n",
       "0   2020-9-17        9  \n",
       "1   2020-2-23        2  \n",
       "2    2020-6-6        6  \n",
       "3  2020-12-31       12  \n",
       "4    2020-1-6        1  "
      ]
     },
     "execution_count": 349,
     "metadata": {},
     "output_type": "execute_result"
    }
   ],
   "source": [
    "df2.head()"
   ]
  },
  {
   "cell_type": "code",
   "execution_count": 350,
   "metadata": {},
   "outputs": [],
   "source": [
    "import numpy as np\n",
    "df2 = df2.replace(np.nan, '', regex=True)"
   ]
  },
  {
   "cell_type": "code",
   "execution_count": 351,
   "metadata": {},
   "outputs": [],
   "source": [
    "df2.loc[df2['Description']==\"\",'Description']=df2[\"Name\"]"
   ]
  },
  {
   "cell_type": "code",
   "execution_count": 352,
   "metadata": {},
   "outputs": [
    {
     "data": {
      "text/html": [
       "<div>\n",
       "<style scoped>\n",
       "    .dataframe tbody tr th:only-of-type {\n",
       "        vertical-align: middle;\n",
       "    }\n",
       "\n",
       "    .dataframe tbody tr th {\n",
       "        vertical-align: top;\n",
       "    }\n",
       "\n",
       "    .dataframe thead th {\n",
       "        text-align: right;\n",
       "    }\n",
       "</style>\n",
       "<table border=\"1\" class=\"dataframe\">\n",
       "  <thead>\n",
       "    <tr style=\"text-align: right;\">\n",
       "      <th></th>\n",
       "      <th>Name</th>\n",
       "      <th>Description</th>\n",
       "      <th>Date_from</th>\n",
       "      <th>Month_from</th>\n",
       "      <th>Date_To</th>\n",
       "      <th>Month_To</th>\n",
       "    </tr>\n",
       "  </thead>\n",
       "  <tbody>\n",
       "    <tr>\n",
       "      <th>0</th>\n",
       "      <td>Hong Kong Protests - March 2019 onwards</td>\n",
       "      <td>The ongoing 2019–20 Hong Kong protests were tr...</td>\n",
       "      <td>2019-3-15</td>\n",
       "      <td>3</td>\n",
       "      <td>2020-9-17</td>\n",
       "      <td>9</td>\n",
       "    </tr>\n",
       "    <tr>\n",
       "      <th>1</th>\n",
       "      <td>Australian Bushfires</td>\n",
       "      <td>Australian Bushfires</td>\n",
       "      <td>2019-9-1</td>\n",
       "      <td>9</td>\n",
       "      <td>2020-2-23</td>\n",
       "      <td>2</td>\n",
       "    </tr>\n",
       "    <tr>\n",
       "      <th>2</th>\n",
       "      <td>Chilean protests - Oct 2019 onwards</td>\n",
       "      <td>Civil protests have taken place throughout Chi...</td>\n",
       "      <td>2019-10-14</td>\n",
       "      <td>10</td>\n",
       "      <td>2020-6-6</td>\n",
       "      <td>6</td>\n",
       "    </tr>\n",
       "    <tr>\n",
       "      <th>3</th>\n",
       "      <td>COVID-19 Pandemic</td>\n",
       "      <td>COVID-19 Pandemic</td>\n",
       "      <td>2019-11-17</td>\n",
       "      <td>11</td>\n",
       "      <td>2020-12-31</td>\n",
       "      <td>12</td>\n",
       "    </tr>\n",
       "    <tr>\n",
       "      <th>4</th>\n",
       "      <td>Floods in Jakarta</td>\n",
       "      <td>On January 6, the death toll in Jakarta has ri...</td>\n",
       "      <td>2019-12-31</td>\n",
       "      <td>12</td>\n",
       "      <td>2020-1-6</td>\n",
       "      <td>1</td>\n",
       "    </tr>\n",
       "    <tr>\n",
       "      <th>5</th>\n",
       "      <td>Taal Volcano in Philippines erupts</td>\n",
       "      <td>The eruption of Taal Volcano in Batangas, Phil...</td>\n",
       "      <td>2020-1-12</td>\n",
       "      <td>1</td>\n",
       "      <td>2020-1-19</td>\n",
       "      <td>1</td>\n",
       "    </tr>\n",
       "    <tr>\n",
       "      <th>6</th>\n",
       "      <td>President Trump Impeachment trial</td>\n",
       "      <td>The impeachment trial of Donald Trump, the 45t...</td>\n",
       "      <td>2020-1-16</td>\n",
       "      <td>1</td>\n",
       "      <td>2020-2-5</td>\n",
       "      <td>2</td>\n",
       "    </tr>\n",
       "    <tr>\n",
       "      <th>7</th>\n",
       "      <td>North East Delhi Riots</td>\n",
       "      <td>The 2020 Delhi riots, or North East Delhi riot...</td>\n",
       "      <td>2020-2-23</td>\n",
       "      <td>2</td>\n",
       "      <td>2020-2-29</td>\n",
       "      <td>2</td>\n",
       "    </tr>\n",
       "    <tr>\n",
       "      <th>8</th>\n",
       "      <td>Stock Market Crash</td>\n",
       "      <td>The stock market crash of 2020 began on Monday...</td>\n",
       "      <td>2020-3-9</td>\n",
       "      <td>3</td>\n",
       "      <td>2020-3-16</td>\n",
       "      <td>3</td>\n",
       "    </tr>\n",
       "    <tr>\n",
       "      <th>9</th>\n",
       "      <td>BLM Protests and riots start after George Floy...</td>\n",
       "      <td>The area around the location at which Floyd di...</td>\n",
       "      <td>2020-5-26</td>\n",
       "      <td>5</td>\n",
       "      <td>2020-10-12</td>\n",
       "      <td>10</td>\n",
       "    </tr>\n",
       "    <tr>\n",
       "      <th>10</th>\n",
       "      <td>California Wild Fires</td>\n",
       "      <td>On August 18, California’s governor declared a...</td>\n",
       "      <td>2020-8-3</td>\n",
       "      <td>8</td>\n",
       "      <td>2020-10-26</td>\n",
       "      <td>10</td>\n",
       "    </tr>\n",
       "    <tr>\n",
       "      <th>11</th>\n",
       "      <td>Belarus Protests</td>\n",
       "      <td>On August 9, protests in Belarus erupted after...</td>\n",
       "      <td>2020-8-9</td>\n",
       "      <td>8</td>\n",
       "      <td>2020-9-17</td>\n",
       "      <td>9</td>\n",
       "    </tr>\n",
       "    <tr>\n",
       "      <th>12</th>\n",
       "      <td>Protests in Kyrgyzstan</td>\n",
       "      <td>On October 7, protesters and vigilante groups ...</td>\n",
       "      <td>2020-10-7</td>\n",
       "      <td>10</td>\n",
       "      <td>2020-10-10</td>\n",
       "      <td>10</td>\n",
       "    </tr>\n",
       "    <tr>\n",
       "      <th>13</th>\n",
       "      <td>Protests Emerge in Nigeria</td>\n",
       "      <td>On October 8, mass protests emerged in Nigeria...</td>\n",
       "      <td>2020-10-8</td>\n",
       "      <td>10</td>\n",
       "      <td>2020-10-21</td>\n",
       "      <td>10</td>\n",
       "    </tr>\n",
       "    <tr>\n",
       "      <th>14</th>\n",
       "      <td>Kilimanjaro Wildfire</td>\n",
       "      <td>On October 13, a fire broke out on the slopes ...</td>\n",
       "      <td>2020-10-13</td>\n",
       "      <td>10</td>\n",
       "      <td>2020-10-21</td>\n",
       "      <td>10</td>\n",
       "    </tr>\n",
       "    <tr>\n",
       "      <th>15</th>\n",
       "      <td>Tropical Storm Nangka made landfall \\nin Cambo...</td>\n",
       "      <td>On October 13, Storm Nangka made landfall in C...</td>\n",
       "      <td>2020-10-13</td>\n",
       "      <td>10</td>\n",
       "      <td>2020-10-21</td>\n",
       "      <td>10</td>\n",
       "    </tr>\n",
       "    <tr>\n",
       "      <th>16</th>\n",
       "      <td>Wildfires Emerge in Colorado and Utah</td>\n",
       "      <td>On October 19, it was reported that at least 4...</td>\n",
       "      <td>2020-10-19</td>\n",
       "      <td>10</td>\n",
       "      <td>2020-10-25</td>\n",
       "      <td>10</td>\n",
       "    </tr>\n",
       "    <tr>\n",
       "      <th>17</th>\n",
       "      <td>US Election protests, pepper spray,\\ncourt rul...</td>\n",
       "      <td>On November 1, a group of marchers in North Ca...</td>\n",
       "      <td>2020-11-1</td>\n",
       "      <td>11</td>\n",
       "      <td>2020-11-6</td>\n",
       "      <td>11</td>\n",
       "    </tr>\n",
       "  </tbody>\n",
       "</table>\n",
       "</div>"
      ],
      "text/plain": [
       "                                                 Name  \\\n",
       "0             Hong Kong Protests - March 2019 onwards   \n",
       "1                                Australian Bushfires   \n",
       "2                 Chilean protests - Oct 2019 onwards   \n",
       "3                                   COVID-19 Pandemic   \n",
       "4                                   Floods in Jakarta   \n",
       "5                  Taal Volcano in Philippines erupts   \n",
       "6                   President Trump Impeachment trial   \n",
       "7                              North East Delhi Riots   \n",
       "8                                  Stock Market Crash   \n",
       "9   BLM Protests and riots start after George Floy...   \n",
       "10                              California Wild Fires   \n",
       "11                                   Belarus Protests   \n",
       "12                             Protests in Kyrgyzstan   \n",
       "13                         Protests Emerge in Nigeria   \n",
       "14                               Kilimanjaro Wildfire   \n",
       "15  Tropical Storm Nangka made landfall \\nin Cambo...   \n",
       "16              Wildfires Emerge in Colorado and Utah   \n",
       "17  US Election protests, pepper spray,\\ncourt rul...   \n",
       "\n",
       "                                          Description   Date_from Month_from  \\\n",
       "0   The ongoing 2019–20 Hong Kong protests were tr...   2019-3-15          3   \n",
       "1                                Australian Bushfires    2019-9-1          9   \n",
       "2   Civil protests have taken place throughout Chi...  2019-10-14         10   \n",
       "3                                   COVID-19 Pandemic  2019-11-17         11   \n",
       "4   On January 6, the death toll in Jakarta has ri...  2019-12-31         12   \n",
       "5   The eruption of Taal Volcano in Batangas, Phil...   2020-1-12          1   \n",
       "6   The impeachment trial of Donald Trump, the 45t...   2020-1-16          1   \n",
       "7   The 2020 Delhi riots, or North East Delhi riot...   2020-2-23          2   \n",
       "8   The stock market crash of 2020 began on Monday...    2020-3-9          3   \n",
       "9   The area around the location at which Floyd di...   2020-5-26          5   \n",
       "10  On August 18, California’s governor declared a...    2020-8-3          8   \n",
       "11  On August 9, protests in Belarus erupted after...    2020-8-9          8   \n",
       "12  On October 7, protesters and vigilante groups ...   2020-10-7         10   \n",
       "13  On October 8, mass protests emerged in Nigeria...   2020-10-8         10   \n",
       "14  On October 13, a fire broke out on the slopes ...  2020-10-13         10   \n",
       "15  On October 13, Storm Nangka made landfall in C...  2020-10-13         10   \n",
       "16  On October 19, it was reported that at least 4...  2020-10-19         10   \n",
       "17  On November 1, a group of marchers in North Ca...   2020-11-1         11   \n",
       "\n",
       "       Date_To Month_To  \n",
       "0    2020-9-17        9  \n",
       "1    2020-2-23        2  \n",
       "2     2020-6-6        6  \n",
       "3   2020-12-31       12  \n",
       "4     2020-1-6        1  \n",
       "5    2020-1-19        1  \n",
       "6     2020-2-5        2  \n",
       "7    2020-2-29        2  \n",
       "8    2020-3-16        3  \n",
       "9   2020-10-12       10  \n",
       "10  2020-10-26       10  \n",
       "11   2020-9-17        9  \n",
       "12  2020-10-10       10  \n",
       "13  2020-10-21       10  \n",
       "14  2020-10-21       10  \n",
       "15  2020-10-21       10  \n",
       "16  2020-10-25       10  \n",
       "17   2020-11-6       11  "
      ]
     },
     "execution_count": 352,
     "metadata": {},
     "output_type": "execute_result"
    }
   ],
   "source": [
    "df2"
   ]
  },
  {
   "cell_type": "code",
   "execution_count": 353,
   "metadata": {},
   "outputs": [
    {
     "data": {
      "text/html": [
       "<div>\n",
       "<style scoped>\n",
       "    .dataframe tbody tr th:only-of-type {\n",
       "        vertical-align: middle;\n",
       "    }\n",
       "\n",
       "    .dataframe tbody tr th {\n",
       "        vertical-align: top;\n",
       "    }\n",
       "\n",
       "    .dataframe thead th {\n",
       "        text-align: right;\n",
       "    }\n",
       "</style>\n",
       "<table border=\"1\" class=\"dataframe\">\n",
       "  <thead>\n",
       "    <tr style=\"text-align: right;\">\n",
       "      <th></th>\n",
       "      <th>Name</th>\n",
       "      <th>Description</th>\n",
       "      <th>Date_from</th>\n",
       "      <th>Month_from</th>\n",
       "      <th>Date_To</th>\n",
       "      <th>Month_To</th>\n",
       "    </tr>\n",
       "  </thead>\n",
       "  <tbody>\n",
       "    <tr>\n",
       "      <th>0</th>\n",
       "      <td>Hong Kong Protests - March 2019 onwards</td>\n",
       "      <td>The ongoing 2019–20 Hong Kong protests were tr...</td>\n",
       "      <td>2019-3-15</td>\n",
       "      <td>3</td>\n",
       "      <td>2020-9-17</td>\n",
       "      <td>9</td>\n",
       "    </tr>\n",
       "    <tr>\n",
       "      <th>1</th>\n",
       "      <td>Australian Bushfires</td>\n",
       "      <td>Australian Bushfires</td>\n",
       "      <td>2019-9-1</td>\n",
       "      <td>9</td>\n",
       "      <td>2020-2-23</td>\n",
       "      <td>2</td>\n",
       "    </tr>\n",
       "    <tr>\n",
       "      <th>2</th>\n",
       "      <td>Chilean protests - Oct 2019 onwards</td>\n",
       "      <td>Civil protests have taken place throughout Chi...</td>\n",
       "      <td>2019-10-14</td>\n",
       "      <td>10</td>\n",
       "      <td>2020-6-6</td>\n",
       "      <td>6</td>\n",
       "    </tr>\n",
       "    <tr>\n",
       "      <th>3</th>\n",
       "      <td>COVID-19 Pandemic</td>\n",
       "      <td>COVID-19 Pandemic</td>\n",
       "      <td>2019-11-17</td>\n",
       "      <td>11</td>\n",
       "      <td>2020-12-31</td>\n",
       "      <td>12</td>\n",
       "    </tr>\n",
       "    <tr>\n",
       "      <th>4</th>\n",
       "      <td>Floods in Jakarta</td>\n",
       "      <td>On January 6, the death toll in Jakarta has ri...</td>\n",
       "      <td>2019-12-31</td>\n",
       "      <td>12</td>\n",
       "      <td>2020-1-6</td>\n",
       "      <td>1</td>\n",
       "    </tr>\n",
       "  </tbody>\n",
       "</table>\n",
       "</div>"
      ],
      "text/plain": [
       "                                      Name  \\\n",
       "0  Hong Kong Protests - March 2019 onwards   \n",
       "1                     Australian Bushfires   \n",
       "2      Chilean protests - Oct 2019 onwards   \n",
       "3                        COVID-19 Pandemic   \n",
       "4                        Floods in Jakarta   \n",
       "\n",
       "                                         Description   Date_from Month_from  \\\n",
       "0  The ongoing 2019–20 Hong Kong protests were tr...   2019-3-15          3   \n",
       "1                               Australian Bushfires    2019-9-1          9   \n",
       "2  Civil protests have taken place throughout Chi...  2019-10-14         10   \n",
       "3                                  COVID-19 Pandemic  2019-11-17         11   \n",
       "4  On January 6, the death toll in Jakarta has ri...  2019-12-31         12   \n",
       "\n",
       "      Date_To Month_To  \n",
       "0   2020-9-17        9  \n",
       "1   2020-2-23        2  \n",
       "2    2020-6-6        6  \n",
       "3  2020-12-31       12  \n",
       "4    2020-1-6        1  "
      ]
     },
     "execution_count": 353,
     "metadata": {},
     "output_type": "execute_result"
    }
   ],
   "source": [
    "df2['Name']=df2['Name'].replace('\\n',' ', regex=True)\n",
    "df2['Description']=df2['Description'].replace('\\n',' ', regex=True)\n",
    "df2.head()"
   ]
  },
  {
   "cell_type": "code",
   "execution_count": 290,
   "metadata": {},
   "outputs": [],
   "source": [
    "# df2['Date_from']= pd.to_datetime(df2['Date_from'])\n",
    "# df2['Date_To'] = pd.to_datetime(df2['Date_To'])"
   ]
  },
  {
   "cell_type": "code",
   "execution_count": 354,
   "metadata": {},
   "outputs": [
    {
     "data": {
      "text/plain": [
       "list"
      ]
     },
     "execution_count": 354,
     "metadata": {},
     "output_type": "execute_result"
    }
   ],
   "source": [
    "Event_info = df2['Name'].tolist()\n",
    "type(Event_info)"
   ]
  },
  {
   "cell_type": "code",
   "execution_count": 355,
   "metadata": {},
   "outputs": [
    {
     "data": {
      "application/vnd.jupyter.widget-view+json": {
       "model_id": "c745451f571440c3baa4201da06ce49a",
       "version_major": 2,
       "version_minor": 0
      },
      "text/plain": [
       "Dropdown(description='Event Name', options=('Hong Kong Protests - March 2019 onwards', 'Australian Bushfires',…"
      ]
     },
     "metadata": {},
     "output_type": "display_data"
    }
   ],
   "source": [
    "Event_infos = ipywidgets.Dropdown(description = 'Event Name', value = None, options=Event_info)\n",
    "Event_infos"
   ]
  },
  {
   "cell_type": "code",
   "execution_count": 356,
   "metadata": {},
   "outputs": [],
   "source": [
    "import plotly.graph_objs as go"
   ]
  },
  {
   "cell_type": "code",
   "execution_count": 452,
   "metadata": {},
   "outputs": [
    {
     "data": {
      "application/vnd.plotly.v1+json": {
       "config": {
        "plotlyServerURL": "https://plot.ly"
       },
       "data": [
        {
         "hovertemplate": "<b> Date: %{x} </b> <br> %{y}<extra></extra>",
         "mode": "markers+lines",
         "name": "2020-11-1 to 2020-11-6",
         "showlegend": false,
         "type": "scatter",
         "x": [
          "2019-3-15",
          "2020-9-17"
         ],
         "y": [
          "Hong Kong Protests - March 2019 onwards",
          "Hong Kong Protests - March 2019 onwards"
         ]
        },
        {
         "hovertemplate": "<b> Date: %{x} </b> <br> %{y}<extra></extra>",
         "mode": "markers+lines",
         "name": "2020-11-1 to 2020-11-6",
         "showlegend": false,
         "type": "scatter",
         "x": [
          "2019-9-1",
          "2020-2-23"
         ],
         "y": [
          "Australian Bushfires",
          "Australian Bushfires"
         ]
        },
        {
         "hovertemplate": "<b> Date: %{x} </b> <br> %{y}<extra></extra>",
         "mode": "markers+lines",
         "name": "2020-11-1 to 2020-11-6",
         "showlegend": false,
         "type": "scatter",
         "x": [
          "2019-10-14",
          "2020-6-6"
         ],
         "y": [
          "Chilean protests - Oct 2019 onwards",
          "Chilean protests - Oct 2019 onwards"
         ]
        },
        {
         "hovertemplate": "<b> Date: %{x} </b> <br> %{y}<extra></extra>",
         "mode": "markers+lines",
         "name": "2020-11-1 to 2020-11-6",
         "showlegend": false,
         "type": "scatter",
         "x": [
          "2019-11-17",
          "2020-12-31"
         ],
         "y": [
          "COVID-19 Pandemic",
          "COVID-19 Pandemic"
         ]
        },
        {
         "hovertemplate": "<b> Date: %{x} </b> <br> %{y}<extra></extra>",
         "mode": "markers+lines",
         "name": "2020-11-1 to 2020-11-6",
         "showlegend": false,
         "type": "scatter",
         "x": [
          "2019-12-31",
          "2020-1-6"
         ],
         "y": [
          "Floods in Jakarta",
          "Floods in Jakarta"
         ]
        },
        {
         "hovertemplate": "<b> Date: %{x} </b> <br> %{y}<extra></extra>",
         "mode": "markers+lines",
         "name": "2020-11-1 to 2020-11-6",
         "showlegend": false,
         "type": "scatter",
         "x": [
          "2020-1-12",
          "2020-1-19"
         ],
         "y": [
          "Taal Volcano in Philippines erupts",
          "Taal Volcano in Philippines erupts"
         ]
        },
        {
         "hovertemplate": "<b> Date: %{x} </b> <br> %{y}<extra></extra>",
         "mode": "markers+lines",
         "name": "2020-11-1 to 2020-11-6",
         "showlegend": false,
         "type": "scatter",
         "x": [
          "2020-1-16",
          "2020-2-5"
         ],
         "y": [
          "President Trump Impeachment trial",
          "President Trump Impeachment trial"
         ]
        },
        {
         "hovertemplate": "<b> Date: %{x} </b> <br> %{y}<extra></extra>",
         "mode": "markers+lines",
         "name": "2020-11-1 to 2020-11-6",
         "showlegend": false,
         "type": "scatter",
         "x": [
          "2020-2-23",
          "2020-2-29"
         ],
         "y": [
          "North East Delhi Riots",
          "North East Delhi Riots"
         ]
        },
        {
         "hovertemplate": "<b> Date: %{x} </b> <br> %{y}<extra></extra>",
         "mode": "markers+lines",
         "name": "2020-11-1 to 2020-11-6",
         "showlegend": false,
         "type": "scatter",
         "x": [
          "2020-3-9",
          "2020-3-16"
         ],
         "y": [
          "Stock Market Crash",
          "Stock Market Crash"
         ]
        },
        {
         "hovertemplate": "<b> Date: %{x} </b> <br> %{y}<extra></extra>",
         "mode": "markers+lines",
         "name": "2020-11-1 to 2020-11-6",
         "showlegend": false,
         "type": "scatter",
         "x": [
          "2020-5-26",
          "2020-10-12"
         ],
         "y": [
          "BLM Protests and riots start after George Floyd's death",
          "BLM Protests and riots start after George Floyd's death"
         ]
        },
        {
         "hovertemplate": "<b> Date: %{x} </b> <br> %{y}<extra></extra>",
         "mode": "markers+lines",
         "name": "2020-11-1 to 2020-11-6",
         "showlegend": false,
         "type": "scatter",
         "x": [
          "2020-8-3",
          "2020-10-26"
         ],
         "y": [
          "California Wild Fires",
          "California Wild Fires"
         ]
        },
        {
         "hovertemplate": "<b> Date: %{x} </b> <br> %{y}<extra></extra>",
         "mode": "markers+lines",
         "name": "2020-11-1 to 2020-11-6",
         "showlegend": false,
         "type": "scatter",
         "x": [
          "2020-8-9",
          "2020-9-17"
         ],
         "y": [
          "Belarus Protests",
          "Belarus Protests"
         ]
        },
        {
         "hovertemplate": "<b> Date: %{x} </b> <br> %{y}<extra></extra>",
         "mode": "markers+lines",
         "name": "2020-11-1 to 2020-11-6",
         "showlegend": false,
         "type": "scatter",
         "x": [
          "2020-10-7",
          "2020-10-10"
         ],
         "y": [
          "Protests in Kyrgyzstan",
          "Protests in Kyrgyzstan"
         ]
        },
        {
         "hovertemplate": "<b> Date: %{x} </b> <br> %{y}<extra></extra>",
         "mode": "markers+lines",
         "name": "2020-11-1 to 2020-11-6",
         "showlegend": false,
         "type": "scatter",
         "x": [
          "2020-10-8",
          "2020-10-21"
         ],
         "y": [
          "Protests Emerge in Nigeria",
          "Protests Emerge in Nigeria"
         ]
        },
        {
         "hovertemplate": "<b> Date: %{x} </b> <br> %{y}<extra></extra>",
         "mode": "markers+lines",
         "name": "2020-11-1 to 2020-11-6",
         "showlegend": false,
         "type": "scatter",
         "x": [
          "2020-10-13",
          "2020-10-21"
         ],
         "y": [
          "Kilimanjaro Wildfire",
          "Kilimanjaro Wildfire"
         ]
        },
        {
         "hovertemplate": "<b> Date: %{x} </b> <br> %{y}<extra></extra>",
         "mode": "markers+lines",
         "name": "2020-11-1 to 2020-11-6",
         "showlegend": false,
         "type": "scatter",
         "x": [
          "2020-10-13",
          "2020-10-21"
         ],
         "y": [
          "Tropical Storm Nangka made landfall  in Cambodia and Vietnam, 40 dead",
          "Tropical Storm Nangka made landfall  in Cambodia and Vietnam, 40 dead"
         ]
        },
        {
         "hovertemplate": "<b> Date: %{x} </b> <br> %{y}<extra></extra>",
         "mode": "markers+lines",
         "name": "2020-11-1 to 2020-11-6",
         "showlegend": false,
         "type": "scatter",
         "x": [
          "2020-10-19",
          "2020-10-25"
         ],
         "y": [
          "Wildfires Emerge in Colorado and Utah",
          "Wildfires Emerge in Colorado and Utah"
         ]
        },
        {
         "hovertemplate": "<b> Date: %{x} </b> <br> %{y}<extra></extra>",
         "mode": "markers+lines",
         "name": "2020-11-1 to 2020-11-6",
         "showlegend": false,
         "type": "scatter",
         "x": [
          "2020-11-1",
          "2020-11-6"
         ],
         "y": [
          "US Election protests, pepper spray, court rulings and Twitter controversy",
          "US Election protests, pepper spray, court rulings and Twitter controversy"
         ]
        }
       ],
       "layout": {
        "hoverlabel": {
         "bgcolor": "white",
         "font": {
          "family": "Rockwell",
          "size": 16
         }
        },
        "paper_bgcolor": "rgba(101,200,150,0.2)",
        "plot_bgcolor": "rgba(0,0,0,0)",
        "template": {
         "data": {
          "bar": [
           {
            "error_x": {
             "color": "#2a3f5f"
            },
            "error_y": {
             "color": "#2a3f5f"
            },
            "marker": {
             "line": {
              "color": "#E5ECF6",
              "width": 0.5
             }
            },
            "type": "bar"
           }
          ],
          "barpolar": [
           {
            "marker": {
             "line": {
              "color": "#E5ECF6",
              "width": 0.5
             }
            },
            "type": "barpolar"
           }
          ],
          "carpet": [
           {
            "aaxis": {
             "endlinecolor": "#2a3f5f",
             "gridcolor": "white",
             "linecolor": "white",
             "minorgridcolor": "white",
             "startlinecolor": "#2a3f5f"
            },
            "baxis": {
             "endlinecolor": "#2a3f5f",
             "gridcolor": "white",
             "linecolor": "white",
             "minorgridcolor": "white",
             "startlinecolor": "#2a3f5f"
            },
            "type": "carpet"
           }
          ],
          "choropleth": [
           {
            "colorbar": {
             "outlinewidth": 0,
             "ticks": ""
            },
            "type": "choropleth"
           }
          ],
          "contour": [
           {
            "colorbar": {
             "outlinewidth": 0,
             "ticks": ""
            },
            "colorscale": [
             [
              0,
              "#0d0887"
             ],
             [
              0.1111111111111111,
              "#46039f"
             ],
             [
              0.2222222222222222,
              "#7201a8"
             ],
             [
              0.3333333333333333,
              "#9c179e"
             ],
             [
              0.4444444444444444,
              "#bd3786"
             ],
             [
              0.5555555555555556,
              "#d8576b"
             ],
             [
              0.6666666666666666,
              "#ed7953"
             ],
             [
              0.7777777777777778,
              "#fb9f3a"
             ],
             [
              0.8888888888888888,
              "#fdca26"
             ],
             [
              1,
              "#f0f921"
             ]
            ],
            "type": "contour"
           }
          ],
          "contourcarpet": [
           {
            "colorbar": {
             "outlinewidth": 0,
             "ticks": ""
            },
            "type": "contourcarpet"
           }
          ],
          "heatmap": [
           {
            "colorbar": {
             "outlinewidth": 0,
             "ticks": ""
            },
            "colorscale": [
             [
              0,
              "#0d0887"
             ],
             [
              0.1111111111111111,
              "#46039f"
             ],
             [
              0.2222222222222222,
              "#7201a8"
             ],
             [
              0.3333333333333333,
              "#9c179e"
             ],
             [
              0.4444444444444444,
              "#bd3786"
             ],
             [
              0.5555555555555556,
              "#d8576b"
             ],
             [
              0.6666666666666666,
              "#ed7953"
             ],
             [
              0.7777777777777778,
              "#fb9f3a"
             ],
             [
              0.8888888888888888,
              "#fdca26"
             ],
             [
              1,
              "#f0f921"
             ]
            ],
            "type": "heatmap"
           }
          ],
          "heatmapgl": [
           {
            "colorbar": {
             "outlinewidth": 0,
             "ticks": ""
            },
            "colorscale": [
             [
              0,
              "#0d0887"
             ],
             [
              0.1111111111111111,
              "#46039f"
             ],
             [
              0.2222222222222222,
              "#7201a8"
             ],
             [
              0.3333333333333333,
              "#9c179e"
             ],
             [
              0.4444444444444444,
              "#bd3786"
             ],
             [
              0.5555555555555556,
              "#d8576b"
             ],
             [
              0.6666666666666666,
              "#ed7953"
             ],
             [
              0.7777777777777778,
              "#fb9f3a"
             ],
             [
              0.8888888888888888,
              "#fdca26"
             ],
             [
              1,
              "#f0f921"
             ]
            ],
            "type": "heatmapgl"
           }
          ],
          "histogram": [
           {
            "marker": {
             "colorbar": {
              "outlinewidth": 0,
              "ticks": ""
             }
            },
            "type": "histogram"
           }
          ],
          "histogram2d": [
           {
            "colorbar": {
             "outlinewidth": 0,
             "ticks": ""
            },
            "colorscale": [
             [
              0,
              "#0d0887"
             ],
             [
              0.1111111111111111,
              "#46039f"
             ],
             [
              0.2222222222222222,
              "#7201a8"
             ],
             [
              0.3333333333333333,
              "#9c179e"
             ],
             [
              0.4444444444444444,
              "#bd3786"
             ],
             [
              0.5555555555555556,
              "#d8576b"
             ],
             [
              0.6666666666666666,
              "#ed7953"
             ],
             [
              0.7777777777777778,
              "#fb9f3a"
             ],
             [
              0.8888888888888888,
              "#fdca26"
             ],
             [
              1,
              "#f0f921"
             ]
            ],
            "type": "histogram2d"
           }
          ],
          "histogram2dcontour": [
           {
            "colorbar": {
             "outlinewidth": 0,
             "ticks": ""
            },
            "colorscale": [
             [
              0,
              "#0d0887"
             ],
             [
              0.1111111111111111,
              "#46039f"
             ],
             [
              0.2222222222222222,
              "#7201a8"
             ],
             [
              0.3333333333333333,
              "#9c179e"
             ],
             [
              0.4444444444444444,
              "#bd3786"
             ],
             [
              0.5555555555555556,
              "#d8576b"
             ],
             [
              0.6666666666666666,
              "#ed7953"
             ],
             [
              0.7777777777777778,
              "#fb9f3a"
             ],
             [
              0.8888888888888888,
              "#fdca26"
             ],
             [
              1,
              "#f0f921"
             ]
            ],
            "type": "histogram2dcontour"
           }
          ],
          "mesh3d": [
           {
            "colorbar": {
             "outlinewidth": 0,
             "ticks": ""
            },
            "type": "mesh3d"
           }
          ],
          "parcoords": [
           {
            "line": {
             "colorbar": {
              "outlinewidth": 0,
              "ticks": ""
             }
            },
            "type": "parcoords"
           }
          ],
          "pie": [
           {
            "automargin": true,
            "type": "pie"
           }
          ],
          "scatter": [
           {
            "marker": {
             "colorbar": {
              "outlinewidth": 0,
              "ticks": ""
             }
            },
            "type": "scatter"
           }
          ],
          "scatter3d": [
           {
            "line": {
             "colorbar": {
              "outlinewidth": 0,
              "ticks": ""
             }
            },
            "marker": {
             "colorbar": {
              "outlinewidth": 0,
              "ticks": ""
             }
            },
            "type": "scatter3d"
           }
          ],
          "scattercarpet": [
           {
            "marker": {
             "colorbar": {
              "outlinewidth": 0,
              "ticks": ""
             }
            },
            "type": "scattercarpet"
           }
          ],
          "scattergeo": [
           {
            "marker": {
             "colorbar": {
              "outlinewidth": 0,
              "ticks": ""
             }
            },
            "type": "scattergeo"
           }
          ],
          "scattergl": [
           {
            "marker": {
             "colorbar": {
              "outlinewidth": 0,
              "ticks": ""
             }
            },
            "type": "scattergl"
           }
          ],
          "scattermapbox": [
           {
            "marker": {
             "colorbar": {
              "outlinewidth": 0,
              "ticks": ""
             }
            },
            "type": "scattermapbox"
           }
          ],
          "scatterpolar": [
           {
            "marker": {
             "colorbar": {
              "outlinewidth": 0,
              "ticks": ""
             }
            },
            "type": "scatterpolar"
           }
          ],
          "scatterpolargl": [
           {
            "marker": {
             "colorbar": {
              "outlinewidth": 0,
              "ticks": ""
             }
            },
            "type": "scatterpolargl"
           }
          ],
          "scatterternary": [
           {
            "marker": {
             "colorbar": {
              "outlinewidth": 0,
              "ticks": ""
             }
            },
            "type": "scatterternary"
           }
          ],
          "surface": [
           {
            "colorbar": {
             "outlinewidth": 0,
             "ticks": ""
            },
            "colorscale": [
             [
              0,
              "#0d0887"
             ],
             [
              0.1111111111111111,
              "#46039f"
             ],
             [
              0.2222222222222222,
              "#7201a8"
             ],
             [
              0.3333333333333333,
              "#9c179e"
             ],
             [
              0.4444444444444444,
              "#bd3786"
             ],
             [
              0.5555555555555556,
              "#d8576b"
             ],
             [
              0.6666666666666666,
              "#ed7953"
             ],
             [
              0.7777777777777778,
              "#fb9f3a"
             ],
             [
              0.8888888888888888,
              "#fdca26"
             ],
             [
              1,
              "#f0f921"
             ]
            ],
            "type": "surface"
           }
          ],
          "table": [
           {
            "cells": {
             "fill": {
              "color": "#EBF0F8"
             },
             "line": {
              "color": "white"
             }
            },
            "header": {
             "fill": {
              "color": "#C8D4E3"
             },
             "line": {
              "color": "white"
             }
            },
            "type": "table"
           }
          ]
         },
         "layout": {
          "annotationdefaults": {
           "arrowcolor": "#2a3f5f",
           "arrowhead": 0,
           "arrowwidth": 1
          },
          "coloraxis": {
           "colorbar": {
            "outlinewidth": 0,
            "ticks": ""
           }
          },
          "colorscale": {
           "diverging": [
            [
             0,
             "#8e0152"
            ],
            [
             0.1,
             "#c51b7d"
            ],
            [
             0.2,
             "#de77ae"
            ],
            [
             0.3,
             "#f1b6da"
            ],
            [
             0.4,
             "#fde0ef"
            ],
            [
             0.5,
             "#f7f7f7"
            ],
            [
             0.6,
             "#e6f5d0"
            ],
            [
             0.7,
             "#b8e186"
            ],
            [
             0.8,
             "#7fbc41"
            ],
            [
             0.9,
             "#4d9221"
            ],
            [
             1,
             "#276419"
            ]
           ],
           "sequential": [
            [
             0,
             "#0d0887"
            ],
            [
             0.1111111111111111,
             "#46039f"
            ],
            [
             0.2222222222222222,
             "#7201a8"
            ],
            [
             0.3333333333333333,
             "#9c179e"
            ],
            [
             0.4444444444444444,
             "#bd3786"
            ],
            [
             0.5555555555555556,
             "#d8576b"
            ],
            [
             0.6666666666666666,
             "#ed7953"
            ],
            [
             0.7777777777777778,
             "#fb9f3a"
            ],
            [
             0.8888888888888888,
             "#fdca26"
            ],
            [
             1,
             "#f0f921"
            ]
           ],
           "sequentialminus": [
            [
             0,
             "#0d0887"
            ],
            [
             0.1111111111111111,
             "#46039f"
            ],
            [
             0.2222222222222222,
             "#7201a8"
            ],
            [
             0.3333333333333333,
             "#9c179e"
            ],
            [
             0.4444444444444444,
             "#bd3786"
            ],
            [
             0.5555555555555556,
             "#d8576b"
            ],
            [
             0.6666666666666666,
             "#ed7953"
            ],
            [
             0.7777777777777778,
             "#fb9f3a"
            ],
            [
             0.8888888888888888,
             "#fdca26"
            ],
            [
             1,
             "#f0f921"
            ]
           ]
          },
          "colorway": [
           "#636efa",
           "#EF553B",
           "#00cc96",
           "#ab63fa",
           "#FFA15A",
           "#19d3f3",
           "#FF6692",
           "#B6E880",
           "#FF97FF",
           "#FECB52"
          ],
          "font": {
           "color": "#2a3f5f"
          },
          "geo": {
           "bgcolor": "white",
           "lakecolor": "white",
           "landcolor": "#E5ECF6",
           "showlakes": true,
           "showland": true,
           "subunitcolor": "white"
          },
          "hoverlabel": {
           "align": "left"
          },
          "hovermode": "closest",
          "mapbox": {
           "style": "light"
          },
          "paper_bgcolor": "white",
          "plot_bgcolor": "#E5ECF6",
          "polar": {
           "angularaxis": {
            "gridcolor": "white",
            "linecolor": "white",
            "ticks": ""
           },
           "bgcolor": "#E5ECF6",
           "radialaxis": {
            "gridcolor": "white",
            "linecolor": "white",
            "ticks": ""
           }
          },
          "scene": {
           "xaxis": {
            "backgroundcolor": "#E5ECF6",
            "gridcolor": "white",
            "gridwidth": 2,
            "linecolor": "white",
            "showbackground": true,
            "ticks": "",
            "zerolinecolor": "white"
           },
           "yaxis": {
            "backgroundcolor": "#E5ECF6",
            "gridcolor": "white",
            "gridwidth": 2,
            "linecolor": "white",
            "showbackground": true,
            "ticks": "",
            "zerolinecolor": "white"
           },
           "zaxis": {
            "backgroundcolor": "#E5ECF6",
            "gridcolor": "white",
            "gridwidth": 2,
            "linecolor": "white",
            "showbackground": true,
            "ticks": "",
            "zerolinecolor": "white"
           }
          },
          "shapedefaults": {
           "line": {
            "color": "#2a3f5f"
           }
          },
          "ternary": {
           "aaxis": {
            "gridcolor": "white",
            "linecolor": "white",
            "ticks": ""
           },
           "baxis": {
            "gridcolor": "white",
            "linecolor": "white",
            "ticks": ""
           },
           "bgcolor": "#E5ECF6",
           "caxis": {
            "gridcolor": "white",
            "linecolor": "white",
            "ticks": ""
           }
          },
          "title": {
           "x": 0.05
          },
          "xaxis": {
           "automargin": true,
           "gridcolor": "white",
           "linecolor": "white",
           "ticks": "",
           "title": {
            "standoff": 15
           },
           "zerolinecolor": "white",
           "zerolinewidth": 2
          },
          "yaxis": {
           "automargin": true,
           "gridcolor": "white",
           "linecolor": "white",
           "ticks": "",
           "title": {
            "standoff": 15
           },
           "zerolinecolor": "white",
           "zerolinewidth": 2
          }
         }
        },
        "title": {
         "text": "Events in the world"
        },
        "xaxis": {
         "showgrid": false,
         "title": {
          "text": "Timeline"
         }
        },
        "yaxis": {
         "showgrid": false,
         "showticklabels": false,
         "title": {
          "text": "Events"
         }
        }
       }
      },
      "text/html": [
       "<div>\n",
       "        \n",
       "        \n",
       "            <div id=\"930fdc93-954c-4b8b-917f-81a451d30ec4\" class=\"plotly-graph-div\" style=\"height:525px; width:100%;\"></div>\n",
       "            <script type=\"text/javascript\">\n",
       "                require([\"plotly\"], function(Plotly) {\n",
       "                    window.PLOTLYENV=window.PLOTLYENV || {};\n",
       "                    \n",
       "                if (document.getElementById(\"930fdc93-954c-4b8b-917f-81a451d30ec4\")) {\n",
       "                    Plotly.newPlot(\n",
       "                        '930fdc93-954c-4b8b-917f-81a451d30ec4',\n",
       "                        [{\"hovertemplate\": \"<b> Date: %{x} </b> <br> %{y}<extra></extra>\", \"mode\": \"markers+lines\", \"name\": \"2020-11-1 to 2020-11-6\", \"showlegend\": false, \"type\": \"scatter\", \"x\": [\"2019-3-15\", \"2020-9-17\"], \"y\": [\"Hong Kong Protests - March 2019 onwards\", \"Hong Kong Protests - March 2019 onwards\"]}, {\"hovertemplate\": \"<b> Date: %{x} </b> <br> %{y}<extra></extra>\", \"mode\": \"markers+lines\", \"name\": \"2020-11-1 to 2020-11-6\", \"showlegend\": false, \"type\": \"scatter\", \"x\": [\"2019-9-1\", \"2020-2-23\"], \"y\": [\"Australian Bushfires\", \"Australian Bushfires\"]}, {\"hovertemplate\": \"<b> Date: %{x} </b> <br> %{y}<extra></extra>\", \"mode\": \"markers+lines\", \"name\": \"2020-11-1 to 2020-11-6\", \"showlegend\": false, \"type\": \"scatter\", \"x\": [\"2019-10-14\", \"2020-6-6\"], \"y\": [\"Chilean protests - Oct 2019 onwards\", \"Chilean protests - Oct 2019 onwards\"]}, {\"hovertemplate\": \"<b> Date: %{x} </b> <br> %{y}<extra></extra>\", \"mode\": \"markers+lines\", \"name\": \"2020-11-1 to 2020-11-6\", \"showlegend\": false, \"type\": \"scatter\", \"x\": [\"2019-11-17\", \"2020-12-31\"], \"y\": [\"COVID-19 Pandemic\", \"COVID-19 Pandemic\"]}, {\"hovertemplate\": \"<b> Date: %{x} </b> <br> %{y}<extra></extra>\", \"mode\": \"markers+lines\", \"name\": \"2020-11-1 to 2020-11-6\", \"showlegend\": false, \"type\": \"scatter\", \"x\": [\"2019-12-31\", \"2020-1-6\"], \"y\": [\"Floods in Jakarta\", \"Floods in Jakarta\"]}, {\"hovertemplate\": \"<b> Date: %{x} </b> <br> %{y}<extra></extra>\", \"mode\": \"markers+lines\", \"name\": \"2020-11-1 to 2020-11-6\", \"showlegend\": false, \"type\": \"scatter\", \"x\": [\"2020-1-12\", \"2020-1-19\"], \"y\": [\"Taal Volcano in Philippines erupts\", \"Taal Volcano in Philippines erupts\"]}, {\"hovertemplate\": \"<b> Date: %{x} </b> <br> %{y}<extra></extra>\", \"mode\": \"markers+lines\", \"name\": \"2020-11-1 to 2020-11-6\", \"showlegend\": false, \"type\": \"scatter\", \"x\": [\"2020-1-16\", \"2020-2-5\"], \"y\": [\"President Trump Impeachment trial\", \"President Trump Impeachment trial\"]}, {\"hovertemplate\": \"<b> Date: %{x} </b> <br> %{y}<extra></extra>\", \"mode\": \"markers+lines\", \"name\": \"2020-11-1 to 2020-11-6\", \"showlegend\": false, \"type\": \"scatter\", \"x\": [\"2020-2-23\", \"2020-2-29\"], \"y\": [\"North East Delhi Riots\", \"North East Delhi Riots\"]}, {\"hovertemplate\": \"<b> Date: %{x} </b> <br> %{y}<extra></extra>\", \"mode\": \"markers+lines\", \"name\": \"2020-11-1 to 2020-11-6\", \"showlegend\": false, \"type\": \"scatter\", \"x\": [\"2020-3-9\", \"2020-3-16\"], \"y\": [\"Stock Market Crash\", \"Stock Market Crash\"]}, {\"hovertemplate\": \"<b> Date: %{x} </b> <br> %{y}<extra></extra>\", \"mode\": \"markers+lines\", \"name\": \"2020-11-1 to 2020-11-6\", \"showlegend\": false, \"type\": \"scatter\", \"x\": [\"2020-5-26\", \"2020-10-12\"], \"y\": [\"BLM Protests and riots start after George Floyd's death\", \"BLM Protests and riots start after George Floyd's death\"]}, {\"hovertemplate\": \"<b> Date: %{x} </b> <br> %{y}<extra></extra>\", \"mode\": \"markers+lines\", \"name\": \"2020-11-1 to 2020-11-6\", \"showlegend\": false, \"type\": \"scatter\", \"x\": [\"2020-8-3\", \"2020-10-26\"], \"y\": [\"California Wild Fires\", \"California Wild Fires\"]}, {\"hovertemplate\": \"<b> Date: %{x} </b> <br> %{y}<extra></extra>\", \"mode\": \"markers+lines\", \"name\": \"2020-11-1 to 2020-11-6\", \"showlegend\": false, \"type\": \"scatter\", \"x\": [\"2020-8-9\", \"2020-9-17\"], \"y\": [\"Belarus Protests\", \"Belarus Protests\"]}, {\"hovertemplate\": \"<b> Date: %{x} </b> <br> %{y}<extra></extra>\", \"mode\": \"markers+lines\", \"name\": \"2020-11-1 to 2020-11-6\", \"showlegend\": false, \"type\": \"scatter\", \"x\": [\"2020-10-7\", \"2020-10-10\"], \"y\": [\"Protests in Kyrgyzstan\", \"Protests in Kyrgyzstan\"]}, {\"hovertemplate\": \"<b> Date: %{x} </b> <br> %{y}<extra></extra>\", \"mode\": \"markers+lines\", \"name\": \"2020-11-1 to 2020-11-6\", \"showlegend\": false, \"type\": \"scatter\", \"x\": [\"2020-10-8\", \"2020-10-21\"], \"y\": [\"Protests Emerge in Nigeria\", \"Protests Emerge in Nigeria\"]}, {\"hovertemplate\": \"<b> Date: %{x} </b> <br> %{y}<extra></extra>\", \"mode\": \"markers+lines\", \"name\": \"2020-11-1 to 2020-11-6\", \"showlegend\": false, \"type\": \"scatter\", \"x\": [\"2020-10-13\", \"2020-10-21\"], \"y\": [\"Kilimanjaro Wildfire\", \"Kilimanjaro Wildfire\"]}, {\"hovertemplate\": \"<b> Date: %{x} </b> <br> %{y}<extra></extra>\", \"mode\": \"markers+lines\", \"name\": \"2020-11-1 to 2020-11-6\", \"showlegend\": false, \"type\": \"scatter\", \"x\": [\"2020-10-13\", \"2020-10-21\"], \"y\": [\"Tropical Storm Nangka made landfall  in Cambodia and Vietnam, 40 dead\", \"Tropical Storm Nangka made landfall  in Cambodia and Vietnam, 40 dead\"]}, {\"hovertemplate\": \"<b> Date: %{x} </b> <br> %{y}<extra></extra>\", \"mode\": \"markers+lines\", \"name\": \"2020-11-1 to 2020-11-6\", \"showlegend\": false, \"type\": \"scatter\", \"x\": [\"2020-10-19\", \"2020-10-25\"], \"y\": [\"Wildfires Emerge in Colorado and Utah\", \"Wildfires Emerge in Colorado and Utah\"]}, {\"hovertemplate\": \"<b> Date: %{x} </b> <br> %{y}<extra></extra>\", \"mode\": \"markers+lines\", \"name\": \"2020-11-1 to 2020-11-6\", \"showlegend\": false, \"type\": \"scatter\", \"x\": [\"2020-11-1\", \"2020-11-6\"], \"y\": [\"US Election protests, pepper spray, court rulings and Twitter controversy\", \"US Election protests, pepper spray, court rulings and Twitter controversy\"]}],\n",
       "                        {\"hoverlabel\": {\"bgcolor\": \"white\", \"font\": {\"family\": \"Rockwell\", \"size\": 16}}, \"paper_bgcolor\": \"rgba(101,200,150,0.2)\", \"plot_bgcolor\": \"rgba(0,0,0,0)\", \"template\": {\"data\": {\"bar\": [{\"error_x\": {\"color\": \"#2a3f5f\"}, \"error_y\": {\"color\": \"#2a3f5f\"}, \"marker\": {\"line\": {\"color\": \"#E5ECF6\", \"width\": 0.5}}, \"type\": \"bar\"}], \"barpolar\": [{\"marker\": {\"line\": {\"color\": \"#E5ECF6\", \"width\": 0.5}}, \"type\": \"barpolar\"}], \"carpet\": [{\"aaxis\": {\"endlinecolor\": \"#2a3f5f\", \"gridcolor\": \"white\", \"linecolor\": \"white\", \"minorgridcolor\": \"white\", \"startlinecolor\": \"#2a3f5f\"}, \"baxis\": {\"endlinecolor\": \"#2a3f5f\", \"gridcolor\": \"white\", \"linecolor\": \"white\", \"minorgridcolor\": \"white\", \"startlinecolor\": \"#2a3f5f\"}, \"type\": \"carpet\"}], \"choropleth\": [{\"colorbar\": {\"outlinewidth\": 0, \"ticks\": \"\"}, \"type\": \"choropleth\"}], \"contour\": [{\"colorbar\": {\"outlinewidth\": 0, \"ticks\": \"\"}, \"colorscale\": [[0.0, \"#0d0887\"], [0.1111111111111111, \"#46039f\"], [0.2222222222222222, \"#7201a8\"], [0.3333333333333333, \"#9c179e\"], [0.4444444444444444, \"#bd3786\"], [0.5555555555555556, \"#d8576b\"], [0.6666666666666666, \"#ed7953\"], [0.7777777777777778, \"#fb9f3a\"], [0.8888888888888888, \"#fdca26\"], [1.0, \"#f0f921\"]], \"type\": \"contour\"}], \"contourcarpet\": [{\"colorbar\": {\"outlinewidth\": 0, \"ticks\": \"\"}, \"type\": \"contourcarpet\"}], \"heatmap\": [{\"colorbar\": {\"outlinewidth\": 0, \"ticks\": \"\"}, \"colorscale\": [[0.0, \"#0d0887\"], [0.1111111111111111, \"#46039f\"], [0.2222222222222222, \"#7201a8\"], [0.3333333333333333, \"#9c179e\"], [0.4444444444444444, \"#bd3786\"], [0.5555555555555556, \"#d8576b\"], [0.6666666666666666, \"#ed7953\"], [0.7777777777777778, \"#fb9f3a\"], [0.8888888888888888, \"#fdca26\"], [1.0, \"#f0f921\"]], \"type\": \"heatmap\"}], \"heatmapgl\": [{\"colorbar\": {\"outlinewidth\": 0, \"ticks\": \"\"}, \"colorscale\": [[0.0, \"#0d0887\"], [0.1111111111111111, \"#46039f\"], [0.2222222222222222, \"#7201a8\"], [0.3333333333333333, \"#9c179e\"], [0.4444444444444444, \"#bd3786\"], [0.5555555555555556, \"#d8576b\"], [0.6666666666666666, \"#ed7953\"], [0.7777777777777778, \"#fb9f3a\"], [0.8888888888888888, \"#fdca26\"], [1.0, \"#f0f921\"]], \"type\": \"heatmapgl\"}], \"histogram\": [{\"marker\": {\"colorbar\": {\"outlinewidth\": 0, \"ticks\": \"\"}}, \"type\": \"histogram\"}], \"histogram2d\": [{\"colorbar\": {\"outlinewidth\": 0, \"ticks\": \"\"}, \"colorscale\": [[0.0, \"#0d0887\"], [0.1111111111111111, \"#46039f\"], [0.2222222222222222, \"#7201a8\"], [0.3333333333333333, \"#9c179e\"], [0.4444444444444444, \"#bd3786\"], [0.5555555555555556, \"#d8576b\"], [0.6666666666666666, \"#ed7953\"], [0.7777777777777778, \"#fb9f3a\"], [0.8888888888888888, \"#fdca26\"], [1.0, \"#f0f921\"]], \"type\": \"histogram2d\"}], \"histogram2dcontour\": [{\"colorbar\": {\"outlinewidth\": 0, \"ticks\": \"\"}, \"colorscale\": [[0.0, \"#0d0887\"], [0.1111111111111111, \"#46039f\"], [0.2222222222222222, \"#7201a8\"], [0.3333333333333333, \"#9c179e\"], [0.4444444444444444, \"#bd3786\"], [0.5555555555555556, \"#d8576b\"], [0.6666666666666666, \"#ed7953\"], [0.7777777777777778, \"#fb9f3a\"], [0.8888888888888888, \"#fdca26\"], [1.0, \"#f0f921\"]], \"type\": \"histogram2dcontour\"}], \"mesh3d\": [{\"colorbar\": {\"outlinewidth\": 0, \"ticks\": \"\"}, \"type\": \"mesh3d\"}], \"parcoords\": [{\"line\": {\"colorbar\": {\"outlinewidth\": 0, \"ticks\": \"\"}}, \"type\": \"parcoords\"}], \"pie\": [{\"automargin\": true, \"type\": \"pie\"}], \"scatter\": [{\"marker\": {\"colorbar\": {\"outlinewidth\": 0, \"ticks\": \"\"}}, \"type\": \"scatter\"}], \"scatter3d\": [{\"line\": {\"colorbar\": {\"outlinewidth\": 0, \"ticks\": \"\"}}, \"marker\": {\"colorbar\": {\"outlinewidth\": 0, \"ticks\": \"\"}}, \"type\": \"scatter3d\"}], \"scattercarpet\": [{\"marker\": {\"colorbar\": {\"outlinewidth\": 0, \"ticks\": \"\"}}, \"type\": \"scattercarpet\"}], \"scattergeo\": [{\"marker\": {\"colorbar\": {\"outlinewidth\": 0, \"ticks\": \"\"}}, \"type\": \"scattergeo\"}], \"scattergl\": [{\"marker\": {\"colorbar\": {\"outlinewidth\": 0, \"ticks\": \"\"}}, \"type\": \"scattergl\"}], \"scattermapbox\": [{\"marker\": {\"colorbar\": {\"outlinewidth\": 0, \"ticks\": \"\"}}, \"type\": \"scattermapbox\"}], \"scatterpolar\": [{\"marker\": {\"colorbar\": {\"outlinewidth\": 0, \"ticks\": \"\"}}, \"type\": \"scatterpolar\"}], \"scatterpolargl\": [{\"marker\": {\"colorbar\": {\"outlinewidth\": 0, \"ticks\": \"\"}}, \"type\": \"scatterpolargl\"}], \"scatterternary\": [{\"marker\": {\"colorbar\": {\"outlinewidth\": 0, \"ticks\": \"\"}}, \"type\": \"scatterternary\"}], \"surface\": [{\"colorbar\": {\"outlinewidth\": 0, \"ticks\": \"\"}, \"colorscale\": [[0.0, \"#0d0887\"], [0.1111111111111111, \"#46039f\"], [0.2222222222222222, \"#7201a8\"], [0.3333333333333333, \"#9c179e\"], [0.4444444444444444, \"#bd3786\"], [0.5555555555555556, \"#d8576b\"], [0.6666666666666666, \"#ed7953\"], [0.7777777777777778, \"#fb9f3a\"], [0.8888888888888888, \"#fdca26\"], [1.0, \"#f0f921\"]], \"type\": \"surface\"}], \"table\": [{\"cells\": {\"fill\": {\"color\": \"#EBF0F8\"}, \"line\": {\"color\": \"white\"}}, \"header\": {\"fill\": {\"color\": \"#C8D4E3\"}, \"line\": {\"color\": \"white\"}}, \"type\": \"table\"}]}, \"layout\": {\"annotationdefaults\": {\"arrowcolor\": \"#2a3f5f\", \"arrowhead\": 0, \"arrowwidth\": 1}, \"coloraxis\": {\"colorbar\": {\"outlinewidth\": 0, \"ticks\": \"\"}}, \"colorscale\": {\"diverging\": [[0, \"#8e0152\"], [0.1, \"#c51b7d\"], [0.2, \"#de77ae\"], [0.3, \"#f1b6da\"], [0.4, \"#fde0ef\"], [0.5, \"#f7f7f7\"], [0.6, \"#e6f5d0\"], [0.7, \"#b8e186\"], [0.8, \"#7fbc41\"], [0.9, \"#4d9221\"], [1, \"#276419\"]], \"sequential\": [[0.0, \"#0d0887\"], [0.1111111111111111, \"#46039f\"], [0.2222222222222222, \"#7201a8\"], [0.3333333333333333, \"#9c179e\"], [0.4444444444444444, \"#bd3786\"], [0.5555555555555556, \"#d8576b\"], [0.6666666666666666, \"#ed7953\"], [0.7777777777777778, \"#fb9f3a\"], [0.8888888888888888, \"#fdca26\"], [1.0, \"#f0f921\"]], \"sequentialminus\": [[0.0, \"#0d0887\"], [0.1111111111111111, \"#46039f\"], [0.2222222222222222, \"#7201a8\"], [0.3333333333333333, \"#9c179e\"], [0.4444444444444444, \"#bd3786\"], [0.5555555555555556, \"#d8576b\"], [0.6666666666666666, \"#ed7953\"], [0.7777777777777778, \"#fb9f3a\"], [0.8888888888888888, \"#fdca26\"], [1.0, \"#f0f921\"]]}, \"colorway\": [\"#636efa\", \"#EF553B\", \"#00cc96\", \"#ab63fa\", \"#FFA15A\", \"#19d3f3\", \"#FF6692\", \"#B6E880\", \"#FF97FF\", \"#FECB52\"], \"font\": {\"color\": \"#2a3f5f\"}, \"geo\": {\"bgcolor\": \"white\", \"lakecolor\": \"white\", \"landcolor\": \"#E5ECF6\", \"showlakes\": true, \"showland\": true, \"subunitcolor\": \"white\"}, \"hoverlabel\": {\"align\": \"left\"}, \"hovermode\": \"closest\", \"mapbox\": {\"style\": \"light\"}, \"paper_bgcolor\": \"white\", \"plot_bgcolor\": \"#E5ECF6\", \"polar\": {\"angularaxis\": {\"gridcolor\": \"white\", \"linecolor\": \"white\", \"ticks\": \"\"}, \"bgcolor\": \"#E5ECF6\", \"radialaxis\": {\"gridcolor\": \"white\", \"linecolor\": \"white\", \"ticks\": \"\"}}, \"scene\": {\"xaxis\": {\"backgroundcolor\": \"#E5ECF6\", \"gridcolor\": \"white\", \"gridwidth\": 2, \"linecolor\": \"white\", \"showbackground\": true, \"ticks\": \"\", \"zerolinecolor\": \"white\"}, \"yaxis\": {\"backgroundcolor\": \"#E5ECF6\", \"gridcolor\": \"white\", \"gridwidth\": 2, \"linecolor\": \"white\", \"showbackground\": true, \"ticks\": \"\", \"zerolinecolor\": \"white\"}, \"zaxis\": {\"backgroundcolor\": \"#E5ECF6\", \"gridcolor\": \"white\", \"gridwidth\": 2, \"linecolor\": \"white\", \"showbackground\": true, \"ticks\": \"\", \"zerolinecolor\": \"white\"}}, \"shapedefaults\": {\"line\": {\"color\": \"#2a3f5f\"}}, \"ternary\": {\"aaxis\": {\"gridcolor\": \"white\", \"linecolor\": \"white\", \"ticks\": \"\"}, \"baxis\": {\"gridcolor\": \"white\", \"linecolor\": \"white\", \"ticks\": \"\"}, \"bgcolor\": \"#E5ECF6\", \"caxis\": {\"gridcolor\": \"white\", \"linecolor\": \"white\", \"ticks\": \"\"}}, \"title\": {\"x\": 0.05}, \"xaxis\": {\"automargin\": true, \"gridcolor\": \"white\", \"linecolor\": \"white\", \"ticks\": \"\", \"title\": {\"standoff\": 15}, \"zerolinecolor\": \"white\", \"zerolinewidth\": 2}, \"yaxis\": {\"automargin\": true, \"gridcolor\": \"white\", \"linecolor\": \"white\", \"ticks\": \"\", \"title\": {\"standoff\": 15}, \"zerolinecolor\": \"white\", \"zerolinewidth\": 2}}}, \"title\": {\"text\": \"Events in the world\"}, \"xaxis\": {\"showgrid\": false, \"title\": {\"text\": \"Timeline\"}}, \"yaxis\": {\"showgrid\": false, \"showticklabels\": false, \"title\": {\"text\": \"Events\"}}},\n",
       "                        {\"responsive\": true}\n",
       "                    ).then(function(){\n",
       "                            \n",
       "var gd = document.getElementById('930fdc93-954c-4b8b-917f-81a451d30ec4');\n",
       "var x = new MutationObserver(function (mutations, observer) {{\n",
       "        var display = window.getComputedStyle(gd).display;\n",
       "        if (!display || display === 'none') {{\n",
       "            console.log([gd, 'removed!']);\n",
       "            Plotly.purge(gd);\n",
       "            observer.disconnect();\n",
       "        }}\n",
       "}});\n",
       "\n",
       "// Listen for the removal of the full notebook cells\n",
       "var notebookContainer = gd.closest('#notebook-container');\n",
       "if (notebookContainer) {{\n",
       "    x.observe(notebookContainer, {childList: true});\n",
       "}}\n",
       "\n",
       "// Listen for the clearing of the current output cell\n",
       "var outputEl = gd.closest('.output');\n",
       "if (outputEl) {{\n",
       "    x.observe(outputEl, {childList: true});\n",
       "}}\n",
       "\n",
       "                        })\n",
       "                };\n",
       "                });\n",
       "            </script>\n",
       "        </div>"
      ]
     },
     "metadata": {},
     "output_type": "display_data"
    }
   ],
   "source": [
    "fig = go.Figure()\n",
    "for (Date_from, Date_To, Name) in zip(df2[\"Date_from\"], df2[\"Date_To\"], df2[\"Name\"]):\n",
    "#     name = f\"{Date_from} to {Date_To}\"\n",
    "    fig.add_trace(go.Scatter(x=[Date_from,Date_To], y=[Name,Name], name = name,mode='markers+lines',showlegend=False))\n",
    "    fig.update_layout(title='Events in the world',paper_bgcolor='rgba(101,200,150,0.2)', plot_bgcolor='rgba(0,0,0,0)',xaxis=dict(showgrid=False,title='Timeline'),yaxis=dict(showticklabels=False,showgrid=False,title='Events'))\n",
    "    fig.update_traces(hovertemplate='<b> Date: %{x} </b> <br> %{y}<extra></extra>')\n",
    "    fig.update_layout(hoverlabel=dict(bgcolor=\"white\",font_size=16,font_family=\"Rockwell\"))\n",
    "#     fig.update_traces(marker=dict(color=None,line=dict(color='#000000', width=1)))\n",
    "\n",
    "\n",
    "fig.show()"
   ]
  },
  {
   "cell_type": "code",
   "execution_count": null,
   "metadata": {},
   "outputs": [],
   "source": []
  }
 ],
 "metadata": {
  "kernelspec": {
   "display_name": "Python 3",
   "language": "python",
   "name": "python3"
  },
  "language_info": {
   "codemirror_mode": {
    "name": "ipython",
    "version": 3
   },
   "file_extension": ".py",
   "mimetype": "text/x-python",
   "name": "python",
   "nbconvert_exporter": "python",
   "pygments_lexer": "ipython3",
   "version": "3.6.5"
  }
 },
 "nbformat": 4,
 "nbformat_minor": 2
}
